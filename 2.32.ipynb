{
 "cells": [
  {
   "cell_type": "markdown",
   "metadata": {},
   "source": [
    "# CS610 Group Project: Fake Jobs Posting Prediction"
   ]
  },
  {
   "cell_type": "markdown",
   "metadata": {},
   "source": [
    "------------"
   ]
  },
  {
   "cell_type": "markdown",
   "metadata": {
    "id": "tvz2wZ84d6dh"
   },
   "source": [
    "### Import dataset, packages"
   ]
  },
  {
   "cell_type": "code",
   "execution_count": 5,
   "metadata": {
    "id": "7-5ewlrf37ny"
   },
   "outputs": [],
   "source": [
    "#from google.colab import files"
   ]
  },
  {
   "cell_type": "code",
   "execution_count": 6,
   "metadata": {
    "colab": {
     "base_uri": "https://localhost:8080/",
     "height": 74,
     "resources": {
      "http://localhost:8080/nbextensions/google.colab/files.js": {
       "data": "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",
       "headers": [
        [
         "content-type",
         "application/javascript"
        ]
       ],
       "ok": true,
       "status": 200,
       "status_text": ""
      }
     }
    },
    "id": "3spwxoDD3_AW",
    "outputId": "59bf32ca-7008-4bdf-8b70-67f4efa03bef"
   },
   "outputs": [],
   "source": [
    "#files.upload()"
   ]
  },
  {
   "cell_type": "code",
   "execution_count": 49,
   "metadata": {
    "id": "xCH7DTWeizFf"
   },
   "outputs": [],
   "source": [
    "import numpy as np\n",
    "import pandas as pd\n",
    "import re\n",
    "import string\n",
    "import nltk\n",
    "#nltk.download('stopwords')\n",
    "#nltk.download('wordnet')\n",
    "#nltk.download('omw-1.4')\n",
    "from nltk.corpus import stopwords\n",
    "from nltk.tokenize import word_tokenize\n",
    "from nltk.tokenize import RegexpTokenizer\n",
    "from sklearn.feature_extraction.text import TfidfVectorizer\n",
    "from sklearn.preprocessing import StandardScaler\n",
    "from sklearn import linear_model, tree, model_selection, ensemble, svm, metrics, naive_bayes\n",
    "from sklearn.model_selection import RandomizedSearchCV\n",
    "from imblearn.combine import SMOTETomek\n",
    "from imblearn.over_sampling import SMOTE\n",
    "from sklearn.tree import DecisionTreeClassifier\n",
    "from sklearn.model_selection import train_test_split\n",
    "from sklearn.metrics import precision_recall_curve, fbeta_score, precision_score,recall_score,accuracy_score,classification_report,confusion_matrix\n",
    "import matplotlib.pyplot as plt"
   ]
  },
  {
   "cell_type": "code",
   "execution_count": 65,
   "metadata": {
    "id": "jxZWZEf_3_Es"
   },
   "outputs": [],
   "source": [
    "df=pd.read_csv('fake_job_postings.csv')"
   ]
  },
  {
   "cell_type": "markdown",
   "metadata": {
    "id": "dtOBJpfOZiSZ",
    "tags": []
   },
   "source": [
    "### Data preprocessing"
   ]
  },
  {
   "cell_type": "code",
   "execution_count": 3,
   "metadata": {
    "id": "_JH8Z9yPXqJX"
   },
   "outputs": [],
   "source": [
    "# drop columns department and salary range as they have more than 50% missing data \n",
    "# drop column for industry as it has too many unique values\n",
    "\n",
    "df.drop(columns=['department', 'salary_range', 'industry'], inplace = True)"
   ]
  },
  {
   "cell_type": "code",
   "execution_count": 4,
   "metadata": {
    "id": "UHLwulQr3_Jf"
   },
   "outputs": [],
   "source": [
    "#-------------------start cleaning for location column\n",
    "\n",
    "#--------1. split the columns to country, state, and city\n",
    "df['country']=df.location.str.split(',',expand=True)[:][0]\n",
    "df['state']=df.location.str.split(',',expand=True)[:][1]\n",
    "df['city']=df.location.str.split(',',expand=True)[:][2]\n",
    "\n",
    "#----------2. replacing different kinds of missing value to np.nan\n",
    "df.state = df.state.str.strip()\n",
    "df.state.fillna(value=np.nan, inplace=True)\n",
    "df.state.replace('', np.nan, inplace=True)\n",
    "df.state.replace(' ', np.nan, inplace=True)\n",
    "\n",
    "#----------3. clear the whitespaces and signs at the start/end\n",
    "df.city = df.city.str.strip(' /:\\\\')\n",
    "\n",
    "#---------4. replacing different kinds of missing value to np.nan\n",
    "df.city.fillna(value=np.nan, inplace=True)\n",
    "df.city.replace('', np.nan, inplace=True)\n",
    "df.city.replace(' ', np.nan, inplace=True)\n",
    "df['city']=df.city.str.lower()\n",
    "\n",
    "#---------\n",
    "\n",
    "# drop unnecessary columns\n",
    "df.drop(['location'], axis = 1, inplace = True)\n",
    "\n",
    "# too many unique entries in city, hence dropped column for city\n",
    "df.drop(columns=['city'], axis=1, inplace = True)"
   ]
  },
  {
   "cell_type": "code",
   "execution_count": 5,
   "metadata": {
    "id": "EAgM4IvEi8Yr"
   },
   "outputs": [],
   "source": [
    "#-------------------start cleaning for text columns\n",
    "\n",
    "#extract text dataframe\n",
    "text_df = df[[\"title\", \"company_profile\", \"description\", \"requirements\", \"benefits\"]]\n",
    "text_df = text_df.fillna(' ')\n",
    "\n",
    "\n",
    "#preprocessing of text_df, concat. all columns\n",
    "text = text_df[text_df.columns[0:-1]].apply(lambda x: ','.join(x.dropna().astype(str)),axis=1)"
   ]
  },
  {
   "cell_type": "code",
   "execution_count": 6,
   "metadata": {
    "id": "1nM59EUPi8be"
   },
   "outputs": [],
   "source": [
    "#cleaning text\n",
    "def clean_text(text):\n",
    "    '''Make text lowercase, remove text in square brackets,remove links,remove punctuation\n",
    "    and remove words containing numbers.'''\n",
    "    text = text.lower()\n",
    "    text = re.sub('\\[.*?\\]', '', text)\n",
    "    text = re.sub('https?://\\S+|www\\.\\S+', '', text)                    #links\n",
    "    text = re.sub('<.*?>+', '', text)                                   #punctuation\n",
    "    text = re.sub('[%s]' % re.escape(string.punctuation), '', text)     #punctuations\n",
    "    text = re.sub('\\n', '', text)                                       #remove \\n\n",
    "    text = re.sub('\\w*\\d\\w*', '', text)                                 #remove numbers in between words\n",
    "    return text\n",
    "\n",
    "# Apply the cleaning function to both test and training datasets\n",
    "text = text.apply(lambda x: clean_text(x))"
   ]
  },
  {
   "cell_type": "code",
   "execution_count": 7,
   "metadata": {
    "id": "oSAm-9b9i8eZ"
   },
   "outputs": [],
   "source": [
    "# remove stop words\n",
    "\n",
    "stop_words = stopwords.words('english')\n",
    "\n",
    "def remove_stopwords(text):\n",
    "    words = [w for w in text if w not in stop_words]\n",
    "    return words\n",
    "\n",
    "def combine_text(list_of_text):\n",
    "    combined_text = ' '.join(list_of_text)\n",
    "    return combined_text\n",
    "\n",
    "tokenizer = RegexpTokenizer(r'\\w+')                       #tokenize\n",
    "text = text.apply(lambda x: tokenizer.tokenize(x))\n",
    "text = text.apply(lambda x : remove_stopwords(x))         #remove stopwords\n",
    "text = text.apply(lambda x : combine_text(x))             #combine elements of words"
   ]
  },
  {
   "cell_type": "code",
   "execution_count": 8,
   "metadata": {
    "id": "YjWKkTpTjErS"
   },
   "outputs": [],
   "source": [
    "# Identify which text feature is not populated before dropping these text columns.\n",
    "\n",
    "columns_to_remove = [\"company_profile\", \"description\", \"requirements\", \"benefits\", \"title\"]\n",
    "\n",
    "\n",
    "# create new binary columns to check if attribute field is populated in the record.\n",
    "# note that all records have 'title' information, so no additional binary column is required for title. \n",
    "\n",
    "for i in columns_to_remove:\n",
    "      df[i] = df[i].fillna(\"unspecified\")\n",
    "new_columns = [\"has_company_profile\", \"has_description\", \"has_requirements\", \"has_benefits\"]\n",
    "\n",
    "for i in range(len(new_columns)):\n",
    "      df[new_columns[i]] = df[columns_to_remove[i]].apply(lambda x: 0 if x == \"unspecified\" else 1)\n",
    "\n",
    "df.drop(columns = columns_to_remove, axis = 1, inplace = True)"
   ]
  },
  {
   "cell_type": "code",
   "execution_count": 9,
   "metadata": {
    "id": "uxcESC0SjEtb"
   },
   "outputs": [],
   "source": [
    "# column for job_id is not required and hence, dropped\n",
    "\n",
    "df.drop(columns = ['job_id'], axis = 1, inplace = True)"
   ]
  },
  {
   "cell_type": "code",
   "execution_count": 10,
   "metadata": {
    "id": "WwS6OxPxjEwJ"
   },
   "outputs": [],
   "source": [
    "#-------------------cleaning categorical columns \n",
    "\n",
    "category_columns = ['employment_type', 'required_experience', 'required_education', \n",
    "                    'function', 'country', 'state']\n",
    "\n",
    "# when populating missing fields with unspecified, the attribute name is added as a \n",
    "# prefix for unspecified to preserve the attribute information. this is required as \n",
    "# all categorical columns will be converted into indicator variables in the later step.\n",
    "\n",
    "for i in category_columns:\n",
    "  df[i] = df[i].fillna(i + \"_unspecified\")\n",
    "\n",
    "\n",
    "# country codes duplicated in country and state columns\n",
    "\n",
    "duplicated = ['BE', 'DE', 'PA', 'NL', 'ID', 'PL', 'IL', 'IN', 'RS', 'ES', 'SA', \n",
    "              'SD', 'MT', 'MA', 'IS', 'SK', 'HR', 'BR', 'TN', 'JM', 'CO', 'CN', \n",
    "              'AL', 'AR', 'CH', 'CA', 'BY']\n",
    "\n",
    "\n",
    "# remove duplicated codes from state column\n",
    "\n",
    "state_features = pd.get_dummies(df['state'])\n",
    "state_features.drop(columns = duplicated, axis = 1, inplace = True)\n",
    "\n",
    "\n",
    "# convert all categorical columns into indicator variables and concate them together.\n",
    "\n",
    "categorical_features = pd.concat([pd.get_dummies(df['employment_type']), \n",
    "                                  pd.get_dummies(df['required_experience']), \n",
    "                                  pd.get_dummies(df['required_education']),\n",
    "                                  pd.get_dummies(df['country']),\n",
    "                                  state_features],\n",
    "                                  axis = 1)\n",
    "\n",
    "df.drop(columns = category_columns, axis = 1, inplace = True)"
   ]
  },
  {
   "cell_type": "code",
   "execution_count": 11,
   "metadata": {
    "id": "DjorO8BPjEyk"
   },
   "outputs": [],
   "source": [
    "# train-test-split\n",
    "\n",
    "# separate target column from dataframe\n",
    "df_combined = pd.concat([df, categorical_features, text], axis =1, ignore_index=False)\n",
    "df_combined.rename(columns={ df_combined.columns[-1]: \"text\" }, inplace = True)\n",
    "X_data = df_combined.drop('fraudulent', axis = 1)\n",
    "y_data = df_combined['fraudulent']\n",
    "\n",
    "X_train_df, X_test_df, y_train, y_test = train_test_split(X_data, y_data, test_size=0.2, random_state=42)"
   ]
  },
  {
   "cell_type": "code",
   "execution_count": 33,
   "metadata": {
    "id": "8pWV4sy9jE1P"
   },
   "outputs": [
    {
     "name": "stderr",
     "output_type": "stream",
     "text": [
      "/Users/l/opt/anaconda3/envs/py37/lib/python3.7/site-packages/sklearn/utils/deprecation.py:87: FutureWarning: Function get_feature_names is deprecated; get_feature_names is deprecated in 1.0 and will be removed in 1.2. Please use get_feature_names_out instead.\n",
      "  warnings.warn(msg, category=FutureWarning)\n"
     ]
    }
   ],
   "source": [
    "# apply vectoriser after train-test-split\n",
    "\n",
    "# TF_IDF vectorizer\n",
    "tfidf = TfidfVectorizer(ngram_range = (1,2), min_df= 0.05, max_df= 0.5)\n",
    "\n",
    "# train set fit_transform\n",
    "transformed = tfidf.fit_transform(X_train_df['text'])\n",
    "df_vec = pd.DataFrame(transformed.todense(),columns=tfidf.get_feature_names())\n",
    "\n",
    "X_train = X_train_df.drop('text', axis = 1)\n",
    "X_train = pd.concat([X_train.reset_index(), df_vec.reset_index()], axis = 1)\n",
    "X_train.drop('index', axis = 1, inplace = True)\n",
    "\n",
    "# test set transform\n",
    "test_text = tfidf.transform(X_test_df['text'])\n",
    "df_vec_test = pd.DataFrame(test_text.todense(),columns=tfidf.get_feature_names())\n",
    "\n",
    "X_test = X_test_df.drop('text', axis = 1)\n",
    "X_test = pd.concat([X_test.reset_index(), df_vec_test.reset_index()], axis = 1)\n",
    "X_test.drop('index', axis = 1, inplace = True)"
   ]
  },
  {
   "cell_type": "code",
   "execution_count": 56,
   "metadata": {
    "id": "Amdn6e6DjE3z"
   },
   "outputs": [
    {
     "name": "stderr",
     "output_type": "stream",
     "text": [
      "/Users/l/opt/anaconda3/envs/py37/lib/python3.7/site-packages/sklearn/utils/deprecation.py:87: FutureWarning: Function get_feature_names is deprecated; get_feature_names is deprecated in 1.0 and will be removed in 1.2. Please use get_feature_names_out instead.\n",
      "  warnings.warn(msg, category=FutureWarning)\n",
      "/Users/l/opt/anaconda3/envs/py37/lib/python3.7/site-packages/sklearn/utils/deprecation.py:87: FutureWarning: Function get_feature_names is deprecated; get_feature_names is deprecated in 1.0 and will be removed in 1.2. Please use get_feature_names_out instead.\n",
      "  warnings.warn(msg, category=FutureWarning)\n"
     ]
    }
   ],
   "source": [
    "# additional standardisation step for artificial neural network\n",
    "\n",
    "#standard scaler that applies to to text vectors\n",
    "scaler = StandardScaler()\n",
    "\n",
    "# train set fit_transform\n",
    "df_vec_scaled = scaler.fit_transform(df_vec)\n",
    "df_vec_scaled=pd.DataFrame(df_vec_scaled, columns=tfidf.get_feature_names())\n",
    "\n",
    "X_train_nn = X_train_df.drop('text', axis = 1)\n",
    "X_train_nn = pd.concat([X_train_nn.reset_index(), df_vec_scaled.reset_index()], axis = 1)\n",
    "X_train_nn.drop('index', axis = 1, inplace = True)\n",
    "\n",
    "# test set transform\n",
    "df_vec_scaled_test = scaler.transform(df_vec_test)\n",
    "df_vec_scaled_test=pd.DataFrame(df_vec_scaled_test, columns=tfidf.get_feature_names())\n",
    "\n",
    "X_test_nn = X_test_df.drop('text', axis = 1)\n",
    "X_test_nn = pd.concat([X_test_nn.reset_index(), df_vec_scaled_test.reset_index()], axis = 1)\n",
    "X_test_nn.drop('index', axis = 1, inplace = True)"
   ]
  },
  {
   "cell_type": "code",
   "execution_count": 13,
   "metadata": {
    "colab": {
     "base_uri": "https://localhost:8080/"
    },
    "id": "T-82MnmZjE6n",
    "outputId": "aaf31adc-f2d1-4d4c-ca3d-2d0e397a8605"
   },
   "outputs": [
    {
     "name": "stdout",
     "output_type": "stream",
     "text": [
      "Number of text columns:  3482\n",
      "Number of binary columns:  424\n"
     ]
    }
   ],
   "source": [
    "# check the ratio of text columns against number  of binary columns\n",
    "# minus 1 for X_train_df.shape[1] due to 'text' column in X_train_df\n",
    "\n",
    "print(\"Number of text columns: \", X_train.shape[1] - (X_train_df.shape[1] - 1))\n",
    "print(\"Number of binary columns: \", X_train_df.shape[1] - 1)"
   ]
  },
  {
   "cell_type": "code",
   "execution_count": 57,
   "metadata": {
    "colab": {
     "base_uri": "https://localhost:8080/"
    },
    "id": "o8sCUEqji8hE",
    "outputId": "ae2d1eeb-f3c6-41b7-9187-e619f84c4c58"
   },
   "outputs": [
    {
     "name": "stdout",
     "output_type": "stream",
     "text": [
      "Number of text columns:  672\n",
      "Number of binary columns:  424\n"
     ]
    }
   ],
   "source": [
    "# same checks for artificial neural network\n",
    "\n",
    "print(\"Number of text columns: \", X_train_nn.shape[1] - (X_train_df.shape[1] - 1))\n",
    "print(\"Number of binary columns: \", X_train_df.shape[1] - 1)"
   ]
  },
  {
   "cell_type": "markdown",
   "metadata": {
    "id": "lKbe7oTp3nW4",
    "tags": []
   },
   "source": [
    "### Evaluate Sampling Strategy"
   ]
  },
  {
   "cell_type": "code",
   "execution_count": 22,
   "metadata": {
    "id": "bsMmSAqm4ZkJ"
   },
   "outputs": [],
   "source": [
    "import warnings\n",
    "warnings.filterwarnings('ignore')\n",
    "\n",
    "# create function to evaluate whether SMOTE-TOMEK or SMOTE sampling gives a better fbeta score.\n",
    "# the size of the sampling strategy is also evaluated.\n",
    "# this is only a quick evaluation of the sampling type and size, hence a simpler model, decision tree is used.\n",
    "# evaluation is performed on X_train, y_train. the results will be applied for X_train_nn, y_train_nn. \n",
    "\n",
    "def sampling_evaluation(type, size):\n",
    "    if type == 'smote-tomek':\n",
    "        smt = SMOTETomek(random_state=42, sampling_strategy=size)\n",
    "    elif type == 'smote':\n",
    "        smt = SMOTE(random_state=42, sampling_strategy=size)\n",
    "\n",
    "    X_resample, y_resampled = smt.fit_resample(X_train, y_train)\n",
    "\n",
    "  # train decision tree model\n",
    "    dt = DecisionTreeClassifier(random_state=42)\n",
    "    dt.fit(X_resample, y_resampled)\n",
    "\n",
    "  # evaluate predictions\n",
    "    y_pred_test = dt.predict(X_test)\n",
    "    fbeta = fbeta_score(y_test, y_pred_test, beta = 2.0)\n",
    "    \n",
    "    return fbeta"
   ]
  },
  {
   "cell_type": "code",
   "execution_count": 23,
   "metadata": {
    "colab": {
     "base_uri": "https://localhost:8080/"
    },
    "id": "u0rmwtoO4Zm0",
    "outputId": "205ea375-51ac-48d5-c368-25ac63bee797"
   },
   "outputs": [
    {
     "name": "stdout",
     "output_type": "stream",
     "text": [
      "('smote-tomek', 0.4) :  0.7272727272727273\n",
      "('smote-tomek', 0.5) :  0.6896551724137931\n",
      "('smote-tomek', 0.6) :  0.669882100750268\n",
      "('smote', 0.4) :  0.7249466950959489\n",
      "('smote', 0.5) :  0.6942949407965555\n",
      "('smote', 0.6) :  0.669882100750268\n"
     ]
    }
   ],
   "source": [
    "# the over-sampling techniques and the corresponding sampling strategy size is as listed below.\n",
    "sampling_strat = [('smote-tomek', 0.4), ('smote-tomek', 0.5), ('smote-tomek', 0.6), ('smote', 0.4), ('smote', 0.5), ('smote', 0.6)]\n",
    "\n",
    "for strat in sampling_strat:\n",
    "    print(strat, \": \", sampling_evaluation(strat[0], strat[1]))"
   ]
  },
  {
   "cell_type": "code",
   "execution_count": 34,
   "metadata": {
    "id": "Q7PyHBjK-Y4D"
   },
   "outputs": [],
   "source": [
    "# SMOTE with sampling strategy of 0.4 has the best performance \n",
    "# hence, this will be used to perform over-sampling \n",
    "\n",
    "smt = SMOTE(random_state=42, sampling_strategy=0.4)\n",
    "X_resampled, y_resampled = smt.fit_resample(X_train, y_train)"
   ]
  },
  {
   "cell_type": "code",
   "execution_count": 59,
   "metadata": {
    "id": "iSRwXm7qTlJU"
   },
   "outputs": [],
   "source": [
    "# the same sampling is performed for the data to be used for artificial neural network  \n",
    "\n",
    "smt_nn = SMOTE(random_state=42, sampling_strategy=0.4)\n",
    "X_resampled_nn, y_resampled_nn = smt_nn.fit_resample(X_train_nn, y_train)"
   ]
  },
  {
   "cell_type": "code",
   "execution_count": 60,
   "metadata": {
    "colab": {
     "base_uri": "https://localhost:8080/"
    },
    "id": "RbGwNjTuUezx",
    "outputId": "322b651d-ddd1-4274-e3bf-0eb35c42e828"
   },
   "outputs": [
    {
     "name": "stdout",
     "output_type": "stream",
     "text": [
      "For all others:\n",
      " 0    13619\n",
      "1     5447\n",
      "Name: fraudulent, dtype: int64\n",
      "\n",
      "For neural network:\n",
      " 0    13619\n",
      "1     5447\n",
      "Name: fraudulent, dtype: int64\n"
     ]
    }
   ],
   "source": [
    "print(\"For all others:\\n\", y_resampled.value_counts())\n",
    "print(\"\")\n",
    "print(\"For neural network:\\n\", y_resampled_nn.value_counts())"
   ]
  },
  {
   "cell_type": "markdown",
   "metadata": {
    "id": "UFUVjcPQZ6Ge",
    "tags": []
   },
   "source": [
    "### Naive Bayes"
   ]
  },
  {
   "cell_type": "code",
   "execution_count": 35,
   "metadata": {
    "colab": {
     "base_uri": "https://localhost:8080/"
    },
    "id": "cTVzYV9jCXI3",
    "outputId": "20291052-d200-4393-85cb-97fd331bf04b"
   },
   "outputs": [
    {
     "data": {
      "text/plain": [
       "MultinomialNB()"
      ]
     },
     "execution_count": 35,
     "metadata": {},
     "output_type": "execute_result"
    }
   ],
   "source": [
    "mnb = naive_bayes.MultinomialNB()\n",
    "mnb.fit(X_resampled, y_resampled)"
   ]
  },
  {
   "cell_type": "code",
   "execution_count": 36,
   "metadata": {
    "id": "C3DHaYZLXY1Q"
   },
   "outputs": [],
   "source": [
    "def model_results(model, X_values, y_values, train_test):\n",
    "    y_pred = model.predict(X_values)\n",
    "    y_pred_prob = model.predict_proba(X_values)[:,1]\n",
    "\n",
    "    precision = metrics.precision_score(y_values, y_pred)\n",
    "    recall = metrics.recall_score(y_values, y_pred)\n",
    "    f1 = metrics.f1_score(y_values, y_pred)\n",
    "    roc_auc = metrics.roc_auc_score(y_values, y_pred_prob)\n",
    "    fbeta = fbeta_score(y_values, y_pred, beta = 2.0)\n",
    "\n",
    "    cf_matrix = metrics.confusion_matrix(y_values, y_pred, labels=[1,0])\n",
    "\n",
    "    evaluation_metrics = ['precision', 'recall', 'f1', 'roc_auc', 'f-beta']\n",
    "    scores = [precision, recall, f1, roc_auc, fbeta]\n",
    "    print(pd.DataFrame([scores], columns = evaluation_metrics, index = [train_test]))\n",
    "    print(\"\")\n",
    "    print(\"Confusion matrix: \")\n",
    "    print(cf_matrix)"
   ]
  },
  {
   "cell_type": "code",
   "execution_count": 50,
   "metadata": {
    "colab": {
     "base_uri": "https://localhost:8080/"
    },
    "id": "GDTxxO-UZhAK",
    "outputId": "6d0f1d34-9edc-4990-e2b8-771c2b127e32"
   },
   "outputs": [
    {
     "name": "stdout",
     "output_type": "stream",
     "text": [
      "       precision    recall        f1   roc_auc    f-beta\n",
      "Train   0.802348  0.778043  0.790008  0.943974  0.782785\n",
      "\n",
      "Confusion matrix: \n",
      "[[ 4238  1209]\n",
      " [ 1044 12575]]\n",
      "      precision    recall        f1   roc_auc    f-beta\n",
      "Test   0.302885  0.696133  0.422111  0.911373  0.552632\n",
      "\n",
      "Confusion matrix: \n",
      "[[ 126   55]\n",
      " [ 290 3105]]\n"
     ]
    }
   ],
   "source": [
    "model_results(mnb, X_resampled, y_resampled, \"Train\")\n",
    "model_results(mnb, X_test, y_test, \"Test\")"
   ]
  },
  {
   "cell_type": "code",
   "execution_count": 54,
   "metadata": {
    "colab": {
     "base_uri": "https://localhost:8080/"
    },
    "id": "5mc4PU72KfnS",
    "outputId": "0f284005-f14c-4c4e-bcb5-e924a8afadbf"
   },
   "outputs": [
    {
     "name": "stdout",
     "output_type": "stream",
     "text": [
      "The top 20 most predictive tokens for fraud job postings are:\n",
      "['Some High School Coursework' 'BH' 'MY' '16' 'NSW' 'entry' 'AGB' 'DA'\n",
      " 'MD' 'QA' 'ARM' 'AU' 'administrative' 'per' 'internet' 'needed' 'follow'\n",
      " 'free' 'call' '14']\n",
      "The top 20 most predictive tokens for not fraud job postings are:\n",
      "['FR' 'relevant job' 'LND' 'SG' 'IL' 'HK' 'B' 'OR' 'IN' 'consultants' 'BC'\n",
      " 'IE' 'BE' 'NL' 'abroad' 'N' 'NZ' 'DE' 'I' 'GR']\n"
     ]
    }
   ],
   "source": [
    "# identify top features in naive bayes model\n",
    "\n",
    "def top_features(mnb, X_resampled):\n",
    "    # match feature names and respective feature counts in each class\n",
    "    f = {'Feature': X_resampled.columns, 'fraud': mnb.feature_count_[1,:],\n",
    "          'not_fraud': mnb.feature_count_[0,:]}\n",
    "    features = pd.DataFrame(data=f)\n",
    "\n",
    "    # calculate the P(feature|class) by using feature count in the class divided by respective class count\n",
    "    # 1 count is added to all feature counts to ensure ratio can be calculated later\n",
    "    features['P (f|fraud)'] = (features['fraud'] +1) / mnb.class_count_[1]\n",
    "    features['P (f|not_fraud)'] = (features['not_fraud'] +1) / mnb.class_count_[0]\n",
    "\n",
    "    # ratio of the P(feature|class) is used to evaluate the predictiveness of the token \n",
    "    features['Ratio'] = features['P (f|fraud)'] / features['P (f|not_fraud)']\n",
    "\n",
    "    # print out the top 10 features for each class\n",
    "    print('The top 20 most predictive tokens for fraud job postings are:')\n",
    "    print(features.sort_values(by=['Ratio'], ascending= False).head(20)['Feature'].values)\n",
    "\n",
    "    print('The top 20 most predictive tokens for not fraud job postings are:')\n",
    "    print(features.sort_values(by=['Ratio'], ascending= False).tail(20)['Feature'].values)\n",
    "\n",
    "top_features(mnb, X_resampled)"
   ]
  },
  {
   "cell_type": "code",
   "execution_count": 32,
   "metadata": {
    "colab": {
     "base_uri": "https://localhost:8080/"
    },
    "id": "0AuzCdT3j5U3",
    "outputId": "1ba89f98-2bea-49ce-afc0-a674a9ce3d7f"
   },
   "outputs": [
    {
     "name": "stdout",
     "output_type": "stream",
     "text": [
      "       precision    recall        f1   roc_auc   f-beta\n",
      "Train   0.847513  0.616303  0.713648  0.935203  0.65187\n",
      "\n",
      "Confusion matrix: \n",
      "[[ 3357  2090]\n",
      " [  604 13015]]\n",
      "\n",
      "      precision    recall        f1   roc_auc    f-beta\n",
      "Test   0.404412  0.607735  0.485651  0.911033  0.552209\n",
      "\n",
      "Confusion matrix: \n",
      "[[ 110   71]\n",
      " [ 162 3233]]\n",
      "\n",
      "The top 20 most predictive tokens for fraud job postings are:\n",
      "['entry' 'administrative' 'per' 'internet' 'needed' 'follow' 'free' 'call'\n",
      " 'home' 'center' 'area' 'desire' 'week' 'access' 'calls' 'recruiting'\n",
      " 'maximize' 'require' 'able work' 'equipment']\n",
      "The top 20 most predictive tokens for not fraud job postings are:\n",
      "['digital' 'recruitment' 'media' 'search' 'founded' 'since'\n",
      " 'experience preferred' 'secure' 'continually' 'trusted' 'engage' 'fun'\n",
      " 'teaching' 'website' 'amazing' 'relevant job' 'passionate' 'social media'\n",
      " 'consultants' 'abroad']\n"
     ]
    }
   ],
   "source": [
    "# additional evaluation with only text columns\n",
    "\n",
    "# SMOTE with sampling strategy of 0.4 has the best performance \n",
    "# hence, this will be used to perform over-sampling \n",
    "\n",
    "smt = SMOTE(random_state=42, sampling_strategy=0.4)\n",
    "X_resampled_text, y_resampled_text = smt.fit_resample(df_vec, y_train)\n",
    "\n",
    "# model building\n",
    "mnb_text = naive_bayes.MultinomialNB()\n",
    "mnb_text.fit(X_resampled_text, y_resampled_text)\n",
    "\n",
    "model_results(mnb_text, X_resampled_text, y_resampled_text, \"Train\")\n",
    "\n",
    "print('')\n",
    "model_results(mnb_text, df_vec_test, y_test, \"Test\")\n",
    "\n",
    "print('')\n",
    "top_features(mnb_text, X_resampled_text)"
   ]
  },
  {
   "cell_type": "code",
   "execution_count": 41,
   "metadata": {},
   "outputs": [],
   "source": [
    "# apply vectoriser with different min_df and max_df\n",
    "\n",
    "# TF_IDF vectorizer\n",
    "tfidf_nb = TfidfVectorizer(ngram_range = (1,2), min_df= 0.01, max_df= 0.7)\n",
    "\n",
    "# train set fit_transform\n",
    "transformed_nb = tfidf_nb.fit_transform(X_train_df['text'])\n",
    "df_vec_nb = pd.DataFrame(transformed_nb.todense(),columns=tfidf_nb.get_feature_names())\n",
    "\n",
    "X_train_nb = X_train_df.drop('text', axis = 1)\n",
    "X_train_nb = pd.concat([X_train_nb.reset_index(), df_vec_nb.reset_index()], axis = 1)\n",
    "X_train_nb.drop('index', axis = 1, inplace = True)\n",
    "\n",
    "# test set transform\n",
    "test_text_nb = tfidf_nb.transform(X_test_df['text'])\n",
    "df_vec_test_nb = pd.DataFrame(test_text_nb.todense(),columns=tfidf_nb.get_feature_names())\n",
    "\n",
    "X_test_nb = X_test_df.drop('text', axis = 1)\n",
    "X_test_nb = pd.concat([X_test_nb.reset_index(), df_vec_test_nb.reset_index()], axis = 1)\n",
    "X_test_nb.drop('index', axis = 1, inplace = True)\n",
    "\n",
    "# SMOTE with sampling strategy of 0.4 has the best performance \n",
    "# hence, this will be used to perform over-sampling \n",
    "\n",
    "smt = SMOTE(random_state=42, sampling_strategy=0.4)\n",
    "X_resampled_nb, y_resampled_nb = smt.fit_resample(X_train_nb, y_train)"
   ]
  },
  {
   "cell_type": "code",
   "execution_count": 61,
   "metadata": {
    "colab": {
     "base_uri": "https://localhost:8080/"
    },
    "id": "cTVzYV9jCXI3",
    "outputId": "20291052-d200-4393-85cb-97fd331bf04b"
   },
   "outputs": [
    {
     "name": "stdout",
     "output_type": "stream",
     "text": [
      "       precision    recall        f1   roc_auc    f-beta\n",
      "Train   0.842365  0.910409  0.875066  0.979622  0.895935\n",
      "\n",
      "Confusion matrix: \n",
      "[[ 4959   488]\n",
      " [  928 12691]]\n",
      "      precision    recall        f1   roc_auc    f-beta\n",
      "Test    0.36983  0.839779  0.513514  0.952281  0.669604\n",
      "\n",
      "Confusion matrix: \n",
      "[[ 152   29]\n",
      " [ 259 3136]]\n",
      "\n",
      "The top 20 most predictive tokens for fraud job postings are:\n",
      "['Some High School Coursework' 'work home' 'typing' 'data entry' 'earn'\n",
      " 'BH' 'MY' '16' 'gas industry' 'facilitating' 'signing' 'encouraged'\n",
      " 'referral' 'ranging' 'NSW' 'gas' 'oil' 'cash' 'minutes' 'entry']\n",
      "The top 20 most predictive tokens for not fraud job postings are:\n",
      "['tefl tesol' 'celta' 'help teachers' 'tesol' 'teaching experience' 'tefl'\n",
      " 'teacher' 'teachers' 'OR' 'IN' 'BC' 'abroad' 'IE' 'BE' 'NL' 'N' 'NZ' 'DE'\n",
      " 'I' 'GR']\n"
     ]
    }
   ],
   "source": [
    "# model with new min_df\n",
    "mnb_nb = naive_bayes.MultinomialNB()\n",
    "mnb_nb.fit(X_resampled_nb, y_resampled_nb)\n",
    "\n",
    "# results \n",
    "model_results(mnb_nb, X_resampled_nb, y_resampled_nb, \"Train\")\n",
    "\n",
    "model_results(mnb_nb, X_test_nb, y_test, \"Test\")\n",
    "\n",
    "print('')\n",
    "top_features(mnb_nb, X_resampled_nb)"
   ]
  },
  {
   "cell_type": "code",
   "execution_count": 63,
   "metadata": {},
   "outputs": [
    {
     "data": {
      "image/png": "[encoded data removed]",
      "text/plain": [
       "<Figure size 432x288 with 1 Axes>"
      ]
     },
     "metadata": {
      "needs_background": "light"
     },
     "output_type": "display_data"
    }
   ],
   "source": [
    "# precision-recall curve \n",
    "y_score = mnb_nb.predict_proba(X_test_nb)[:, 1]\n",
    "\n",
    "#calculate precision and recall\n",
    "precision, recall, thresholds = precision_recall_curve(y_test, y_score)\n",
    "\n",
    "#create precision recall curve\n",
    "fig, ax = plt.subplots()\n",
    "ax.plot(recall, precision, color='green')\n",
    "\n",
    "#add axis labels to plot\n",
    "ax.set_title('Precision-Recall Curve for optimal Naive Bayes')\n",
    "ax.set_ylabel('Precision')\n",
    "ax.set_xlabel('Recall')\n",
    "\n",
    "#display plot\n",
    "plt.show()"
   ]
  },
  {
   "cell_type": "markdown",
   "metadata": {
    "id": "Fv8pWLzYZ-yF",
    "tags": []
   },
   "source": [
    "### Gradient Boosting"
   ]
  },
  {
   "cell_type": "code",
   "execution_count": 33,
   "metadata": {
    "id": "fp5A4iCsSmBr"
   },
   "outputs": [
    {
     "data": {
      "text/plain": [
       "GradientBoostingClassifier(random_state=42)"
      ]
     },
     "execution_count": 33,
     "metadata": {},
     "output_type": "execute_result"
    }
   ],
   "source": [
    "gbt = ensemble.GradientBoostingClassifier(random_state=42)\n",
    "gbt.fit(X_resampled, y_resampled)"
   ]
  },
  {
   "cell_type": "code",
   "execution_count": 34,
   "metadata": {
    "id": "PWJ8uH2pSmEr"
   },
   "outputs": [
    {
     "name": "stdout",
     "output_type": "stream",
     "text": [
      "       precision    recall        f1   roc_auc    f-beta\n",
      "Train   0.968383  0.939049  0.953491  0.996402  0.944773\n",
      "\n",
      "Confusion matrix: \n",
      "[[ 5115   332]\n",
      " [  167 13452]]\n"
     ]
    }
   ],
   "source": [
    "model_results(gbt, X_resampled, y_resampled, \"Train\")\n"
   ]
  },
  {
   "cell_type": "code",
   "execution_count": 35,
   "metadata": {
    "id": "abaAQUbz95Te"
   },
   "outputs": [
    {
     "name": "stdout",
     "output_type": "stream",
     "text": [
      "      precision    recall        f1   roc_auc    f-beta\n",
      "Test   0.687831  0.718232  0.702703  0.972387  0.711939\n",
      "\n",
      "Confusion matrix: \n",
      "[[ 130   51]\n",
      " [  59 3336]]\n"
     ]
    }
   ],
   "source": [
    "model_results(gbt, X_test, y_test, \"Test\")"
   ]
  },
  {
   "cell_type": "code",
   "execution_count": 36,
   "metadata": {
    "id": "IALCcX9SW4hB"
   },
   "outputs": [
    {
     "data": {
      "text/html": [
       "<div>\n",
       "<style scoped>\n",
       "    .dataframe tbody tr th:only-of-type {\n",
       "        vertical-align: middle;\n",
       "    }\n",
       "\n",
       "    .dataframe tbody tr th {\n",
       "        vertical-align: top;\n",
       "    }\n",
       "\n",
       "    .dataframe thead th {\n",
       "        text-align: right;\n",
       "    }\n",
       "</style>\n",
       "<table border=\"1\" class=\"dataframe\">\n",
       "  <thead>\n",
       "    <tr style=\"text-align: right;\">\n",
       "      <th></th>\n",
       "      <th>Feature</th>\n",
       "      <th>Importance</th>\n",
       "    </tr>\n",
       "  </thead>\n",
       "  <tbody>\n",
       "    <tr>\n",
       "      <th>0</th>\n",
       "      <td>has_company_profile</td>\n",
       "      <td>0.265396</td>\n",
       "    </tr>\n",
       "    <tr>\n",
       "      <th>1</th>\n",
       "      <td>has_company_logo</td>\n",
       "      <td>0.073268</td>\n",
       "    </tr>\n",
       "    <tr>\n",
       "      <th>2</th>\n",
       "      <td>recruiting</td>\n",
       "      <td>0.051348</td>\n",
       "    </tr>\n",
       "    <tr>\n",
       "      <th>3</th>\n",
       "      <td>program</td>\n",
       "      <td>0.040188</td>\n",
       "    </tr>\n",
       "    <tr>\n",
       "      <th>4</th>\n",
       "      <td>addition</td>\n",
       "      <td>0.025961</td>\n",
       "    </tr>\n",
       "    <tr>\n",
       "      <th>5</th>\n",
       "      <td>High School or equivalent</td>\n",
       "      <td>0.022972</td>\n",
       "    </tr>\n",
       "    <tr>\n",
       "      <th>6</th>\n",
       "      <td>maximize</td>\n",
       "      <td>0.022782</td>\n",
       "    </tr>\n",
       "    <tr>\n",
       "      <th>7</th>\n",
       "      <td>exciting</td>\n",
       "      <td>0.019581</td>\n",
       "    </tr>\n",
       "    <tr>\n",
       "      <th>8</th>\n",
       "      <td>medium</td>\n",
       "      <td>0.018564</td>\n",
       "    </tr>\n",
       "    <tr>\n",
       "      <th>9</th>\n",
       "      <td>administrative</td>\n",
       "      <td>0.017412</td>\n",
       "    </tr>\n",
       "  </tbody>\n",
       "</table>\n",
       "</div>"
      ],
      "text/plain": [
       "                     Feature  Importance\n",
       "0        has_company_profile    0.265396\n",
       "1           has_company_logo    0.073268\n",
       "2                 recruiting    0.051348\n",
       "3                    program    0.040188\n",
       "4                   addition    0.025961\n",
       "5  High School or equivalent    0.022972\n",
       "6                   maximize    0.022782\n",
       "7                   exciting    0.019581\n",
       "8                     medium    0.018564\n",
       "9             administrative    0.017412"
      ]
     },
     "execution_count": 36,
     "metadata": {},
     "output_type": "execute_result"
    }
   ],
   "source": [
    "gbt = {'Feature': gbt.feature_names_in_, 'Importance': gbt.feature_importances_}\n",
    "df_gbt = pd.DataFrame(gbt)\n",
    "df_gbt = df_gbt.sort_values(by = 'Importance', key = abs, ascending = False, ignore_index =True)\n",
    "df_gbt.head(10)"
   ]
  },
  {
   "cell_type": "code",
   "execution_count": 37,
   "metadata": {
    "id": "w2OQ_zCjV-LK"
   },
   "outputs": [],
   "source": [
    "def model_build(base_estimator, parameters):\n",
    "    \n",
    "    clf = model_selection.RandomizedSearchCV(\n",
    "        base_estimator, \n",
    "        parameters, \n",
    "        scoring = 'recall',\n",
    "        cv = 5)\n",
    "    \n",
    "    clf.fit(X_resampled, y_resampled)\n",
    "    \n",
    "    print('best score:', clf.best_score_)\n",
    "    print('best parameters: ', clf.best_params_)\n",
    "\n",
    "    optimised = clf.best_estimator_\n",
    "    return optimised"
   ]
  },
  {
   "cell_type": "code",
   "execution_count": 38,
   "metadata": {
    "id": "ywQCDjVadlMl"
   },
   "outputs": [
    {
     "name": "stdout",
     "output_type": "stream",
     "text": [
      "best score: 0.9381464351606137\n",
      "best parameters:  {'n_estimators': 160, 'learning_rate': 0.1}\n"
     ]
    }
   ],
   "source": [
    "gradient_grid = {'n_estimators': [x for x in np.arange(start=100,stop=180,step=20)],\n",
    "               'learning_rate': [0.001, 0.01, 0.1]}\n",
    "\n",
    "optimised_gbt = model_build(ensemble.GradientBoostingClassifier(random_state=2022), gradient_grid)"
   ]
  },
  {
   "cell_type": "code",
   "execution_count": 39,
   "metadata": {
    "id": "uv1f452OdlRU"
   },
   "outputs": [
    {
     "data": {
      "text/html": [
       "<div>\n",
       "<style scoped>\n",
       "    .dataframe tbody tr th:only-of-type {\n",
       "        vertical-align: middle;\n",
       "    }\n",
       "\n",
       "    .dataframe tbody tr th {\n",
       "        vertical-align: top;\n",
       "    }\n",
       "\n",
       "    .dataframe thead th {\n",
       "        text-align: right;\n",
       "    }\n",
       "</style>\n",
       "<table border=\"1\" class=\"dataframe\">\n",
       "  <thead>\n",
       "    <tr style=\"text-align: right;\">\n",
       "      <th></th>\n",
       "      <th>Feature</th>\n",
       "      <th>Importance</th>\n",
       "    </tr>\n",
       "  </thead>\n",
       "  <tbody>\n",
       "    <tr>\n",
       "      <th>0</th>\n",
       "      <td>has_company_profile</td>\n",
       "      <td>0.258244</td>\n",
       "    </tr>\n",
       "    <tr>\n",
       "      <th>1</th>\n",
       "      <td>has_company_logo</td>\n",
       "      <td>0.071383</td>\n",
       "    </tr>\n",
       "    <tr>\n",
       "      <th>2</th>\n",
       "      <td>recruiting</td>\n",
       "      <td>0.049798</td>\n",
       "    </tr>\n",
       "    <tr>\n",
       "      <th>3</th>\n",
       "      <td>program</td>\n",
       "      <td>0.039098</td>\n",
       "    </tr>\n",
       "    <tr>\n",
       "      <th>4</th>\n",
       "      <td>addition</td>\n",
       "      <td>0.025503</td>\n",
       "    </tr>\n",
       "    <tr>\n",
       "      <th>5</th>\n",
       "      <td>maximize</td>\n",
       "      <td>0.022381</td>\n",
       "    </tr>\n",
       "    <tr>\n",
       "      <th>6</th>\n",
       "      <td>High School or equivalent</td>\n",
       "      <td>0.022340</td>\n",
       "    </tr>\n",
       "    <tr>\n",
       "      <th>7</th>\n",
       "      <td>exciting</td>\n",
       "      <td>0.018949</td>\n",
       "    </tr>\n",
       "    <tr>\n",
       "      <th>8</th>\n",
       "      <td>medium</td>\n",
       "      <td>0.017966</td>\n",
       "    </tr>\n",
       "    <tr>\n",
       "      <th>9</th>\n",
       "      <td>administrative</td>\n",
       "      <td>0.017255</td>\n",
       "    </tr>\n",
       "  </tbody>\n",
       "</table>\n",
       "</div>"
      ],
      "text/plain": [
       "                     Feature  Importance\n",
       "0        has_company_profile    0.258244\n",
       "1           has_company_logo    0.071383\n",
       "2                 recruiting    0.049798\n",
       "3                    program    0.039098\n",
       "4                   addition    0.025503\n",
       "5                   maximize    0.022381\n",
       "6  High School or equivalent    0.022340\n",
       "7                   exciting    0.018949\n",
       "8                     medium    0.017966\n",
       "9             administrative    0.017255"
      ]
     },
     "execution_count": 39,
     "metadata": {},
     "output_type": "execute_result"
    }
   ],
   "source": [
    "gbt = {'Feature': optimised_gbt.feature_names_in_, 'Importance': optimised_gbt.feature_importances_}\n",
    "df_gbt = pd.DataFrame(gbt)\n",
    "df_gbt = df_gbt.sort_values(by = 'Importance', ascending = False, ignore_index =True)\n",
    "df_gbt.head(10)"
   ]
  },
  {
   "cell_type": "code",
   "execution_count": 40,
   "metadata": {
    "id": "ppWVSrfSdlWz"
   },
   "outputs": [
    {
     "name": "stdout",
     "output_type": "stream",
     "text": [
      "       precision    recall        f1   roc_auc    f-beta\n",
      "Train   0.979932  0.959244  0.969478  0.998355  0.963311\n",
      "\n",
      "Confusion matrix: \n",
      "[[ 5225   222]\n",
      " [  107 13512]]\n",
      "      precision    recall        f1   roc_auc    f-beta\n",
      "Test   0.758824  0.712707  0.735043  0.976739  0.721477\n",
      "\n",
      "Confusion matrix: \n",
      "[[ 129   52]\n",
      " [  41 3354]]\n"
     ]
    }
   ],
   "source": [
    "model_results(optimised_gbt, X_resampled, y_resampled, \"Train\")\n",
    "model_results(optimised_gbt, X_test, y_test, \"Test\")"
   ]
  },
  {
   "cell_type": "code",
   "execution_count": 41,
   "metadata": {
    "id": "FZII06jZdlb8"
   },
   "outputs": [
    {
     "data": {
      "image/png": "[encoded data removed]",
      "text/plain": [
       "<Figure size 432x288 with 1 Axes>"
      ]
     },
     "metadata": {
      "needs_background": "light"
     },
     "output_type": "display_data"
    }
   ],
   "source": [
    "y_score = optimised_gbt.predict_proba(X_test)[:, 1]\n",
    "\n",
    "#calculate precision and recall\n",
    "precision, recall, thresholds = precision_recall_curve(y_test, y_score)\n",
    "\n",
    "#create precision recall curve\n",
    "fig, ax = plt.subplots()\n",
    "ax.plot(recall, precision, color='purple')\n",
    "\n",
    "#add axis labels to plot\n",
    "ax.set_title('Precision-Recall Curve')\n",
    "ax.set_ylabel('Precision')\n",
    "ax.set_xlabel('Recall')\n",
    "\n",
    "#display plot\n",
    "plt.show()"
   ]
  },
  {
   "cell_type": "markdown",
   "metadata": {
    "id": "8sLaFKDoaIMj",
    "tags": []
   },
   "source": [
    "### Support Vector Machine"
   ]
  },
  {
   "cell_type": "code",
   "execution_count": 42,
   "metadata": {
    "id": "aL2i7BLGgvWj"
   },
   "outputs": [
    {
     "data": {
      "text/plain": [
       "SVC(probability=True, random_state=42)"
      ]
     },
     "execution_count": 42,
     "metadata": {},
     "output_type": "execute_result"
    }
   ],
   "source": [
    "clf_svm = svm.SVC(probability=True, random_state=42)\n",
    "clf_svm.fit(X_resampled, y_resampled)"
   ]
  },
  {
   "cell_type": "code",
   "execution_count": 43,
   "metadata": {
    "id": "p8pDxBOFdJBy"
   },
   "outputs": [
    {
     "name": "stdout",
     "output_type": "stream",
     "text": [
      "       precision    recall        f1   roc_auc    f-beta\n",
      "Train   0.987137  0.986231  0.986684  0.999619  0.986412\n",
      "\n",
      "Confusion matrix: \n",
      "[[ 5372    75]\n",
      " [   70 13549]]\n"
     ]
    }
   ],
   "source": [
    "model_results(clf_svm, X_resampled, y_resampled, \"Train\")\n"
   ]
  },
  {
   "cell_type": "code",
   "execution_count": 44,
   "metadata": {
    "id": "phXRV-5NdS_X"
   },
   "outputs": [
    {
     "name": "stdout",
     "output_type": "stream",
     "text": [
      "      precision    recall        f1   roc_auc    f-beta\n",
      "Test   0.838323  0.773481  0.804598  0.978949  0.785634\n",
      "\n",
      "Confusion matrix: \n",
      "[[ 140   41]\n",
      " [  27 3368]]\n"
     ]
    }
   ],
   "source": [
    "model_results(clf_svm, X_test, y_test, \"Test\")"
   ]
  },
  {
   "cell_type": "code",
   "execution_count": 45,
   "metadata": {
    "id": "4puv3-aEhG2K"
   },
   "outputs": [],
   "source": [
    "from sklearn.model_selection import GridSearchCV\n",
    "def model_build2(base_estimator, parameters):\n",
    "    \n",
    "    clf = model_selection.GridSearchCV(\n",
    "        base_estimator, \n",
    "        parameters,\n",
    "        cv=5)\n",
    "    \n",
    "    clf.fit(X_resampled, y_resampled)\n",
    "    \n",
    "    print('best score:', clf.best_score_)\n",
    "    print('best parameters: ', clf.best_params_)\n",
    "\n",
    "    optimised = clf.best_estimator_\n",
    "    return optimised"
   ]
  },
  {
   "cell_type": "code",
   "execution_count": 46,
   "metadata": {
    "id": "nz8VK09lg9hx"
   },
   "outputs": [
    {
     "name": "stdout",
     "output_type": "stream",
     "text": [
      "best score: 0.9915042665151688\n",
      "best parameters:  {'C': 10}\n"
     ]
    }
   ],
   "source": [
    "svm_grid = {'C': [0.1, 1.0, 10]}\n",
    "\n",
    "optimised_svm = model_build2(svm.SVC(random_state=2022, probability=True), svm_grid)"
   ]
  },
  {
   "cell_type": "code",
   "execution_count": 47,
   "metadata": {
    "id": "WagPjiqJd-kW"
   },
   "outputs": [
    {
     "name": "stdout",
     "output_type": "stream",
     "text": [
      "       precision  recall        f1  roc_auc    f-beta\n",
      "Train   0.999633     1.0  0.999816      1.0  0.999927\n",
      "\n",
      "Confusion matrix: \n",
      "[[ 5447     0]\n",
      " [    2 13617]]\n",
      "      precision   recall        f1   roc_auc    f-beta\n",
      "Test   0.916129  0.78453  0.845238  0.985834  0.807736\n",
      "\n",
      "Confusion matrix: \n",
      "[[ 142   39]\n",
      " [  13 3382]]\n"
     ]
    }
   ],
   "source": [
    "model_results(optimised_svm, X_resampled, y_resampled, \"Train\")\n",
    "model_results(optimised_svm, X_test, y_test, \"Test\")"
   ]
  },
  {
   "cell_type": "code",
   "execution_count": 48,
   "metadata": {
    "id": "MXYLN01a4Ft7"
   },
   "outputs": [
    {
     "data": {
      "image/png": "[encoded data removed]",
      "text/plain": [
       "<Figure size 432x288 with 1 Axes>"
      ]
     },
     "metadata": {
      "needs_background": "light"
     },
     "output_type": "display_data"
    }
   ],
   "source": [
    "y_score = optimised_svm.predict_proba(X_test)[:, 1]\n",
    "\n",
    "#calculate precision and recall\n",
    "precision, recall, thresholds = precision_recall_curve(y_test, y_score)\n",
    "\n",
    "#create precision recall curve\n",
    "fig, ax = plt.subplots()\n",
    "ax.plot(recall, precision, color='purple')\n",
    "\n",
    "#add axis labels to plot\n",
    "ax.set_title('Precision-Recall Curve')\n",
    "ax.set_ylabel('Precision')\n",
    "ax.set_xlabel('Recall')\n",
    "\n",
    "#display plot\n",
    "plt.show()"
   ]
  },
  {
   "cell_type": "markdown",
   "metadata": {
    "id": "Eck-UmZgaPaB",
    "tags": []
   },
   "source": [
    "### Neural Network"
   ]
  },
  {
   "cell_type": "code",
   "execution_count": 49,
   "metadata": {
    "id": "BUV2EJ_Ucaj_"
   },
   "outputs": [],
   "source": [
    "import tensorflow as tf\n",
    "import keras\n",
    "from keras.models import Sequential\n",
    "from keras.layers import Dense, Dropout, Flatten, BatchNormalization, Activation,Embedding,GlobalAveragePooling1D\n",
    "from keras.wrappers.scikit_learn import KerasClassifier\n",
    "from keras import regularizers"
   ]
  },
  {
   "cell_type": "code",
   "execution_count": 50,
   "metadata": {
    "colab": {
     "base_uri": "https://localhost:8080/"
    },
    "id": "YXv1EG6NeZor",
    "outputId": "04dd15b2-6bfe-4bd3-8179-52b9215c3296"
   },
   "outputs": [
    {
     "data": {
      "text/plain": [
       "(19066, 1092)"
      ]
     },
     "execution_count": 50,
     "metadata": {},
     "output_type": "execute_result"
    }
   ],
   "source": [
    "X_resampled_nn.shape"
   ]
  },
  {
   "cell_type": "code",
   "execution_count": 51,
   "metadata": {
    "id": "YlXlvCY728x4"
   },
   "outputs": [],
   "source": [
    "def create_model(optimizer='adam',dropout_rate=0.2):\n",
    "    model = Sequential()\n",
    "\n",
    "    model.add(Dense(128, input_shape=(1092,), activation='relu'))\n",
    "    model.add(Dropout(dropout_rate))\n",
    "    model.add(BatchNormalization())\n",
    "\n",
    "    model.add(Dense(64, activation='relu'))\n",
    "    model.add(Dropout(dropout_rate))\n",
    "    model.add(BatchNormalization())\n",
    "    \n",
    "    model.add(Dense(64, activation='relu'))\n",
    "    model.add(Dropout(dropout_rate))\n",
    "    model.add(BatchNormalization())\n",
    "\n",
    "    model.add(Dense(16, activation='relu'))\n",
    "    model.add(Dropout(dropout_rate))\n",
    "    model.add(BatchNormalization())\n",
    "\n",
    "    model.add(Dense(1))\n",
    "    model.add(Activation('sigmoid'))\n",
    "\n",
    "    # compile the model\n",
    "    model.compile(loss='binary_crossentropy', \n",
    "                  optimizer=optimizer, \n",
    "                  metrics=[tf.keras.metrics.Precision(), tf.keras.metrics.Recall()])\n",
    "    \n",
    "    return model"
   ]
  },
  {
   "cell_type": "code",
   "execution_count": 52,
   "metadata": {
    "id": "7xMdk30bmc9Q"
   },
   "outputs": [],
   "source": [
    "X_resampled_nn = np.asarray(X_resampled_nn)\n",
    "y_resampled_nn = np.asarray(y_resampled_nn)\n",
    "X_test_nn = np.asarray(X_test_nn)\n",
    "y_test_nn = np.asarray(y_test)"
   ]
  },
  {
   "cell_type": "code",
   "execution_count": 53,
   "metadata": {
    "id": "uBNF59KCcu5U"
   },
   "outputs": [
    {
     "name": "stderr",
     "output_type": "stream",
     "text": [
      "2022-07-06 12:01:05.838634: I tensorflow/core/platform/cpu_feature_guard.cc:151] This TensorFlow binary is optimized with oneAPI Deep Neural Network Library (oneDNN) to use the following CPU instructions in performance-critical operations:  SSE4.1 SSE4.2\n",
      "To enable them in other operations, rebuild TensorFlow with the appropriate compiler flags.\n",
      "2022-07-06 12:01:05.838634: I tensorflow/core/platform/cpu_feature_guard.cc:151] This TensorFlow binary is optimized with oneAPI Deep Neural Network Library (oneDNN) to use the following CPU instructions in performance-critical operations:  SSE4.1 SSE4.2\n",
      "To enable them in other operations, rebuild TensorFlow with the appropriate compiler flags.\n",
      "2022-07-06 12:01:05.838634: I tensorflow/core/platform/cpu_feature_guard.cc:151] This TensorFlow binary is optimized with oneAPI Deep Neural Network Library (oneDNN) to use the following CPU instructions in performance-critical operations:  SSE4.1 SSE4.2\n",
      "To enable them in other operations, rebuild TensorFlow with the appropriate compiler flags.\n",
      "2022-07-06 12:01:05.838634: I tensorflow/core/platform/cpu_feature_guard.cc:151] This TensorFlow binary is optimized with oneAPI Deep Neural Network Library (oneDNN) to use the following CPU instructions in performance-critical operations:  SSE4.1 SSE4.2\n",
      "To enable them in other operations, rebuild TensorFlow with the appropriate compiler flags.\n",
      "2022-07-06 12:01:05.838634: I tensorflow/core/platform/cpu_feature_guard.cc:151] This TensorFlow binary is optimized with oneAPI Deep Neural Network Library (oneDNN) to use the following CPU instructions in performance-critical operations:  SSE4.1 SSE4.2\n",
      "To enable them in other operations, rebuild TensorFlow with the appropriate compiler flags.\n",
      "2022-07-06 12:01:05.838645: I tensorflow/core/platform/cpu_feature_guard.cc:151] This TensorFlow binary is optimized with oneAPI Deep Neural Network Library (oneDNN) to use the following CPU instructions in performance-critical operations:  SSE4.1 SSE4.2\n",
      "To enable them in other operations, rebuild TensorFlow with the appropriate compiler flags.\n",
      "2022-07-06 12:01:05.838632: I tensorflow/core/platform/cpu_feature_guard.cc:151] This TensorFlow binary is optimized with oneAPI Deep Neural Network Library (oneDNN) to use the following CPU instructions in performance-critical operations:  SSE4.1 SSE4.2\n",
      "To enable them in other operations, rebuild TensorFlow with the appropriate compiler flags.\n",
      "2022-07-06 12:01:05.838645: I tensorflow/core/platform/cpu_feature_guard.cc:151] This TensorFlow binary is optimized with oneAPI Deep Neural Network Library (oneDNN) to use the following CPU instructions in performance-critical operations:  SSE4.1 SSE4.2\n",
      "To enable them in other operations, rebuild TensorFlow with the appropriate compiler flags.\n",
      "2022-07-06 12:20:50.326883: I tensorflow/core/platform/cpu_feature_guard.cc:151] This TensorFlow binary is optimized with oneAPI Deep Neural Network Library (oneDNN) to use the following CPU instructions in performance-critical operations:  SSE4.1 SSE4.2\n",
      "To enable them in other operations, rebuild TensorFlow with the appropriate compiler flags.\n"
     ]
    }
   ],
   "source": [
    "model = KerasClassifier(build_fn=create_model, verbose=0, validation_split=0.2)\n",
    "# define the grid search parameters\n",
    "\n",
    "batch_size = [8,16,24,32]\n",
    "epochs = [20,30,40]\n",
    "optimizer = ['SGD', 'RMSprop', 'Adam']\n",
    "dropout_rate = [0.3, 0.4, 0.5, 0.6]\n",
    "\n",
    "param_grid = dict(batch_size=batch_size, \n",
    "                  epochs=epochs,\n",
    "                  optimizer=optimizer,\n",
    "                  dropout_rate=dropout_rate)\n",
    "\n",
    "grid = RandomizedSearchCV(estimator=model, \n",
    "                          n_iter=10,\n",
    "                          param_distributions=param_grid, \n",
    "                          n_jobs=-1, \n",
    "                          cv=10, \n",
    "                          scoring ='recall',\n",
    "                          random_state=42)\n",
    "\n",
    "grid_result = grid.fit(X_resampled_nn, y_resampled_nn, validation_split=0.4)"
   ]
  },
  {
   "cell_type": "markdown",
   "metadata": {
    "id": "duInICEsc1Ve"
   },
   "source": [
    "#### Evaluating best model of SearchCV"
   ]
  },
  {
   "cell_type": "code",
   "execution_count": 54,
   "metadata": {
    "id": "4YGUPHKWc8fG"
   },
   "outputs": [
    {
     "name": "stdout",
     "output_type": "stream",
     "text": [
      "Best: 0.829868 using {'optimizer': 'RMSprop', 'epochs': 40, 'dropout_rate': 0.5, 'batch_size': 24}\n",
      "0.107055 (0.061692) with: {'optimizer': 'SGD', 'epochs': 20, 'dropout_rate': 0.4, 'batch_size': 32}\n",
      "0.000000 (0.000000) with: {'optimizer': 'RMSprop', 'epochs': 20, 'dropout_rate': 0.5, 'batch_size': 8}\n",
      "0.787034 (0.075968) with: {'optimizer': 'RMSprop', 'epochs': 20, 'dropout_rate': 0.4, 'batch_size': 24}\n",
      "0.829868 (0.096704) with: {'optimizer': 'RMSprop', 'epochs': 40, 'dropout_rate': 0.5, 'batch_size': 24}\n",
      "0.594789 (0.070726) with: {'optimizer': 'Adam', 'epochs': 20, 'dropout_rate': 0.5, 'batch_size': 16}\n",
      "0.626664 (0.091750) with: {'optimizer': 'SGD', 'epochs': 30, 'dropout_rate': 0.4, 'batch_size': 8}\n",
      "0.105071 (0.119531) with: {'optimizer': 'SGD', 'epochs': 40, 'dropout_rate': 0.5, 'batch_size': 32}\n",
      "0.556905 (0.099798) with: {'optimizer': 'Adam', 'epochs': 20, 'dropout_rate': 0.6, 'batch_size': 16}\n",
      "0.000000 (0.000000) with: {'optimizer': 'SGD', 'epochs': 30, 'dropout_rate': 0.6, 'batch_size': 16}\n",
      "0.001235 (0.003704) with: {'optimizer': 'SGD', 'epochs': 20, 'dropout_rate': 0.5, 'batch_size': 8}\n"
     ]
    }
   ],
   "source": [
    "# summarize results\n",
    "print(\"Best: %f using %s\" % (grid_result.best_score_, grid_result.best_params_))\n",
    "means = grid_result.cv_results_['mean_test_score']\n",
    "stds = grid_result.cv_results_['std_test_score']\n",
    "params = grid_result.cv_results_['params']\n",
    "for mean, stdev, param in zip(means, stds, params):\n",
    "    print(\"%f (%f) with: %r\" % (mean, stdev, param))"
   ]
  },
  {
   "cell_type": "code",
   "execution_count": 55,
   "metadata": {
    "id": "r35I0-1Pc8hk"
   },
   "outputs": [
    {
     "name": "stdout",
     "output_type": "stream",
     "text": [
      "Epoch 1/40\n",
      "557/557 [==============================] - 2s 3ms/step - loss: 0.3860 - precision_1: 0.0486 - recall_1: 0.1156 - val_loss: 2.4526 - val_precision_1: 0.0000e+00 - val_recall_1: 0.0000e+00\n",
      "Epoch 2/40\n",
      "557/557 [==============================] - 1s 2ms/step - loss: 0.1975 - precision_1: 0.0000e+00 - recall_1: 0.0000e+00 - val_loss: 2.0476 - val_precision_1: 0.0000e+00 - val_recall_1: 0.0000e+00\n",
      "Epoch 3/40\n",
      "557/557 [==============================] - 1s 2ms/step - loss: 0.1820 - precision_1: 0.0000e+00 - recall_1: 0.0000e+00 - val_loss: 1.6819 - val_precision_1: 0.0000e+00 - val_recall_1: 0.0000e+00\n",
      "Epoch 4/40\n",
      "557/557 [==============================] - 1s 2ms/step - loss: 0.1643 - precision_1: 0.1429 - recall_1: 0.0016 - val_loss: 1.3833 - val_precision_1: 0.0000e+00 - val_recall_1: 0.0000e+00\n",
      "Epoch 5/40\n",
      "557/557 [==============================] - 1s 2ms/step - loss: 0.1514 - precision_1: 0.4167 - recall_1: 0.0156 - val_loss: 1.0103 - val_precision_1: 0.0000e+00 - val_recall_1: 0.0000e+00\n",
      "Epoch 6/40\n",
      "557/557 [==============================] - 1s 2ms/step - loss: 0.1398 - precision_1: 0.4790 - recall_1: 0.0891 - val_loss: 0.7418 - val_precision_1: 0.0000e+00 - val_recall_1: 0.0000e+00\n",
      "Epoch 7/40\n",
      "557/557 [==============================] - 1s 2ms/step - loss: 0.1293 - precision_1: 0.5493 - recall_1: 0.1219 - val_loss: 0.4373 - val_precision_1: 0.9965 - val_recall_1: 0.9411\n",
      "Epoch 8/40\n",
      "557/557 [==============================] - 1s 2ms/step - loss: 0.1199 - precision_1: 0.5845 - recall_1: 0.2000 - val_loss: 0.6413 - val_precision_1: 0.9993 - val_recall_1: 0.5584\n",
      "Epoch 9/40\n",
      "557/557 [==============================] - 1s 2ms/step - loss: 0.1112 - precision_1: 0.7020 - recall_1: 0.3313 - val_loss: 0.2481 - val_precision_1: 0.9972 - val_recall_1: 0.9486\n",
      "Epoch 10/40\n",
      "557/557 [==============================] - 1s 2ms/step - loss: 0.1096 - precision_1: 0.6537 - recall_1: 0.3422 - val_loss: 0.4220 - val_precision_1: 0.9995 - val_recall_1: 0.8465\n",
      "Epoch 11/40\n",
      "557/557 [==============================] - 1s 2ms/step - loss: 0.1032 - precision_1: 0.7014 - recall_1: 0.3781 - val_loss: 0.1001 - val_precision_1: 0.9946 - val_recall_1: 0.9667\n",
      "Epoch 12/40\n",
      "557/557 [==============================] - 1s 2ms/step - loss: 0.0968 - precision_1: 0.7251 - recall_1: 0.4781 - val_loss: 0.1550 - val_precision_1: 0.9986 - val_recall_1: 0.9220\n",
      "Epoch 13/40\n",
      "557/557 [==============================] - 1s 2ms/step - loss: 0.0943 - precision_1: 0.7043 - recall_1: 0.5063 - val_loss: 0.3002 - val_precision_1: 0.9993 - val_recall_1: 0.8689\n",
      "Epoch 14/40\n",
      "557/557 [==============================] - 1s 2ms/step - loss: 0.0946 - precision_1: 0.7275 - recall_1: 0.4672 - val_loss: 0.3021 - val_precision_1: 0.9993 - val_recall_1: 0.8806\n",
      "Epoch 15/40\n",
      "557/557 [==============================] - 1s 2ms/step - loss: 0.0900 - precision_1: 0.7679 - recall_1: 0.5375 - val_loss: 0.1940 - val_precision_1: 0.9989 - val_recall_1: 0.9499\n",
      "Epoch 16/40\n",
      "557/557 [==============================] - 1s 2ms/step - loss: 0.0840 - precision_1: 0.7754 - recall_1: 0.5719 - val_loss: 0.1091 - val_precision_1: 0.9985 - val_recall_1: 0.9727\n",
      "Epoch 17/40\n",
      "557/557 [==============================] - 1s 2ms/step - loss: 0.0823 - precision_1: 0.7596 - recall_1: 0.5875 - val_loss: 0.0647 - val_precision_1: 0.9970 - val_recall_1: 0.9765\n",
      "Epoch 18/40\n",
      "557/557 [==============================] - 1s 2ms/step - loss: 0.0765 - precision_1: 0.8212 - recall_1: 0.6172 - val_loss: 0.3209 - val_precision_1: 0.9998 - val_recall_1: 0.8756\n",
      "Epoch 19/40\n",
      "557/557 [==============================] - 1s 2ms/step - loss: 0.0763 - precision_1: 0.8219 - recall_1: 0.6203 - val_loss: 0.0943 - val_precision_1: 0.9983 - val_recall_1: 0.9509\n",
      "Epoch 20/40\n",
      "557/557 [==============================] - 1s 2ms/step - loss: 0.0818 - precision_1: 0.7876 - recall_1: 0.5969 - val_loss: 0.0492 - val_precision_1: 0.9979 - val_recall_1: 0.9827\n",
      "Epoch 21/40\n",
      "557/557 [==============================] - 1s 2ms/step - loss: 0.0745 - precision_1: 0.7945 - recall_1: 0.6281 - val_loss: 0.0991 - val_precision_1: 0.9985 - val_recall_1: 0.9732\n",
      "Epoch 22/40\n",
      "557/557 [==============================] - 1s 2ms/step - loss: 0.0778 - precision_1: 0.8120 - recall_1: 0.6141 - val_loss: 0.0586 - val_precision_1: 0.9987 - val_recall_1: 0.9821\n",
      "Epoch 23/40\n",
      "557/557 [==============================] - 1s 2ms/step - loss: 0.0753 - precision_1: 0.7917 - recall_1: 0.6297 - val_loss: 0.0321 - val_precision_1: 0.9958 - val_recall_1: 0.9929\n",
      "Epoch 24/40\n",
      "557/557 [==============================] - 1s 2ms/step - loss: 0.0696 - precision_1: 0.8495 - recall_1: 0.6438 - val_loss: 0.1473 - val_precision_1: 0.9989 - val_recall_1: 0.9222\n",
      "Epoch 25/40\n",
      "557/557 [==============================] - 1s 2ms/step - loss: 0.0691 - precision_1: 0.8712 - recall_1: 0.6766 - val_loss: 0.0505 - val_precision_1: 0.9979 - val_recall_1: 0.9815\n",
      "Epoch 26/40\n",
      "557/557 [==============================] - 1s 2ms/step - loss: 0.0666 - precision_1: 0.8456 - recall_1: 0.7016 - val_loss: 0.1907 - val_precision_1: 0.9988 - val_recall_1: 0.9029\n",
      "Epoch 27/40\n",
      "557/557 [==============================] - 1s 2ms/step - loss: 0.0689 - precision_1: 0.8142 - recall_1: 0.6641 - val_loss: 0.0872 - val_precision_1: 0.9989 - val_recall_1: 0.9609\n",
      "Epoch 28/40\n",
      "557/557 [==============================] - 1s 2ms/step - loss: 0.0696 - precision_1: 0.8080 - recall_1: 0.6906 - val_loss: 0.0513 - val_precision_1: 0.9981 - val_recall_1: 0.9794\n",
      "Epoch 29/40\n",
      "557/557 [==============================] - 1s 2ms/step - loss: 0.0666 - precision_1: 0.8214 - recall_1: 0.6828 - val_loss: 0.1073 - val_precision_1: 0.9993 - val_recall_1: 0.9461\n",
      "Epoch 30/40\n",
      "557/557 [==============================] - 1s 2ms/step - loss: 0.0626 - precision_1: 0.8516 - recall_1: 0.6906 - val_loss: 0.1304 - val_precision_1: 0.9987 - val_recall_1: 0.9332\n",
      "Epoch 31/40\n",
      "557/557 [==============================] - 1s 2ms/step - loss: 0.0630 - precision_1: 0.8490 - recall_1: 0.7203 - val_loss: 0.1960 - val_precision_1: 0.9993 - val_recall_1: 0.9130\n",
      "Epoch 32/40\n",
      "557/557 [==============================] - 1s 2ms/step - loss: 0.0638 - precision_1: 0.8665 - recall_1: 0.7203 - val_loss: 0.0689 - val_precision_1: 0.9991 - val_recall_1: 0.9682\n",
      "Epoch 33/40\n",
      "557/557 [==============================] - 1s 2ms/step - loss: 0.0609 - precision_1: 0.8632 - recall_1: 0.7297 - val_loss: 0.0519 - val_precision_1: 0.9985 - val_recall_1: 0.9757\n",
      "Epoch 34/40\n",
      "557/557 [==============================] - 1s 2ms/step - loss: 0.0598 - precision_1: 0.8505 - recall_1: 0.7469 - val_loss: 0.0466 - val_precision_1: 0.9977 - val_recall_1: 0.9875\n",
      "Epoch 35/40\n",
      "557/557 [==============================] - 1s 2ms/step - loss: 0.0589 - precision_1: 0.8523 - recall_1: 0.7391 - val_loss: 0.0624 - val_precision_1: 0.9991 - val_recall_1: 0.9732\n",
      "Epoch 36/40\n",
      "557/557 [==============================] - 1s 2ms/step - loss: 0.0584 - precision_1: 0.8495 - recall_1: 0.7406 - val_loss: 0.0459 - val_precision_1: 0.9987 - val_recall_1: 0.9852\n",
      "Epoch 37/40\n",
      "557/557 [==============================] - 1s 2ms/step - loss: 0.0506 - precision_1: 0.8903 - recall_1: 0.7734 - val_loss: 0.0336 - val_precision_1: 0.9989 - val_recall_1: 0.9869\n",
      "Epoch 38/40\n",
      "557/557 [==============================] - 1s 2ms/step - loss: 0.0597 - precision_1: 0.8828 - recall_1: 0.7297 - val_loss: 0.0231 - val_precision_1: 0.9977 - val_recall_1: 0.9917\n",
      "Epoch 39/40\n",
      "557/557 [==============================] - 1s 2ms/step - loss: 0.0555 - precision_1: 0.8642 - recall_1: 0.7656 - val_loss: 0.0269 - val_precision_1: 0.9983 - val_recall_1: 0.9913\n",
      "Epoch 40/40\n",
      "557/557 [==============================] - 1s 2ms/step - loss: 0.0579 - precision_1: 0.8516 - recall_1: 0.7531 - val_loss: 0.0354 - val_precision_1: 0.9994 - val_recall_1: 0.9867\n"
     ]
    }
   ],
   "source": [
    "# train the best estimator\n",
    "\n",
    "best=grid_result.best_estimator_\n",
    "history = best.fit(X_resampled_nn, y_resampled_nn, verbose=1, validation_split=0.3)"
   ]
  },
  {
   "cell_type": "code",
   "execution_count": null,
   "metadata": {},
   "outputs": [],
   "source": []
  },
  {
   "cell_type": "code",
   "execution_count": 102,
   "metadata": {
    "id": "BSSCcvE5c8mH"
   },
   "outputs": [
    {
     "name": "stdout",
     "output_type": "stream",
     "text": [
      "              precision    recall  f1-score   support\n",
      "\n",
      "           0       0.99      1.00      0.99      3395\n",
      "           1       0.90      0.73      0.80       181\n",
      "\n",
      "    accuracy                           0.98      3576\n",
      "   macro avg       0.94      0.86      0.90      3576\n",
      "weighted avg       0.98      0.98      0.98      3576\n",
      "\n",
      "[[ 132   49]\n",
      " [  15 3380]]\n"
     ]
    },
    {
     "data": {
      "text/plain": [
       "<matplotlib.legend.Legend at 0x7f89ef317ad0>"
      ]
     },
     "execution_count": 102,
     "metadata": {},
     "output_type": "execute_result"
    },
    {
     "data": {
      "image/png": "[encoded data removed]",
      "text/plain": [
       "<Figure size 1440x360 with 3 Axes>"
      ]
     },
     "metadata": {
      "needs_background": "light"
     },
     "output_type": "display_data"
    }
   ],
   "source": [
    "# evaluation of model\n",
    "\n",
    "# Prediction of test set\n",
    "Y_pred = best.predict(X_test_nn)\n",
    "\n",
    "# classification report, confusion matrix\n",
    "print(classification_report(y_true=y_test_nn, y_pred=Y_pred))\n",
    "print(confusion_matrix(y_test_nn,Y_pred,labels=[1,0]))\n",
    "\n",
    "ln_loss = history.history['loss']\n",
    "ln_val_loss = history.history['val_loss']\n",
    "ln_p = history.history[list(history.history.keys())[1]]           #precision\n",
    "ln_val_p = history.history[list(history.history.keys())[4]]       #val_precision\n",
    "ln_r = history.history[list(history.history.keys())[2]]           #recall\n",
    "ln_val_r = history.history[list(history.history.keys())[5]]       #val_recall\n",
    "\n",
    "#precision plot\n",
    "plt.figure(figsize=(20,5))\n",
    "plt.subplot(131)\n",
    "plt.plot(ln_p)\n",
    "plt.plot(ln_val_p)\n",
    "plt.ylabel('Precision')\n",
    "plt.xlabel('Epoche')\n",
    "plt.legend(['Training', 'Validation'], loc='lower right')\n",
    "\n",
    "#recall plot\n",
    "plt.subplot(132)\n",
    "plt.plot(ln_r)\n",
    "plt.plot(ln_val_r)\n",
    "plt.ylabel('Recall')\n",
    "plt.xlabel('Epoche')\n",
    "plt.legend(['Training', 'Validation'], loc='lower right')\n",
    "\n",
    "#loss plot\n",
    "plt.subplot(133)\n",
    "plt.plot(ln_loss)\n",
    "plt.plot(ln_val_loss)\n",
    "plt.ylabel('Loss')\n",
    "plt.xlabel('Epoche')\n",
    "plt.legend(['Training', 'Validation'], loc='lower right')"
   ]
  },
  {
   "cell_type": "markdown",
   "metadata": {
    "id": "o9LCUaBYdfE6"
   },
   "source": [
    "#### Tuning the best CV model"
   ]
  },
  {
   "cell_type": "code",
   "execution_count": 61,
   "metadata": {
    "id": "2-CTozfmddHI"
   },
   "outputs": [],
   "source": [
    "\n",
    "best=grid_result.best_estimator_\n",
    "best_tuned_1 = best.fit(X_resampled_nn, y_resampled_nn, epochs=100)"
   ]
  },
  {
   "cell_type": "code",
   "execution_count": 100,
   "metadata": {
    "id": "bWRedoWnddJW"
   },
   "outputs": [
    {
     "name": "stdout",
     "output_type": "stream",
     "text": [
      "              precision    recall  f1-score   support\n",
      "\n",
      "           0       0.99      1.00      0.99      3395\n",
      "           1       0.90      0.73      0.80       181\n",
      "\n",
      "    accuracy                           0.98      3576\n",
      "   macro avg       0.94      0.86      0.90      3576\n",
      "weighted avg       0.98      0.98      0.98      3576\n",
      "\n",
      "[[ 132   49]\n",
      " [  15 3380]]\n"
     ]
    },
    {
     "data": {
      "text/plain": [
       "<matplotlib.legend.Legend at 0x7f89a9598750>"
      ]
     },
     "execution_count": 100,
     "metadata": {},
     "output_type": "execute_result"
    },
    {
     "data": {
      "image/png": "[encoded data removed]",
      "text/plain": [
       "<Figure size 1440x360 with 3 Axes>"
      ]
     },
     "metadata": {
      "needs_background": "light"
     },
     "output_type": "display_data"
    }
   ],
   "source": [
    "#evaluation of tuned model\n",
    "\n",
    "#rf_matrixt = metrics.confusion_matrix(y_test, y_pred_test, labels=[1,0])\n",
    "\n",
    "Y_pred_2 = best.predict(np.array(X_test_nn))\n",
    "print(classification_report(y_true=y_test_nn, y_pred=Y_pred_2))\n",
    "print(confusion_matrix(y_test_nn,Y_pred_2,labels=[1,0]))\n",
    "\n",
    "#change all _2 suffixes to \n",
    "\n",
    "ln_loss = best_tuned_1.history['loss']\n",
    "ln_val_loss = best_tuned_1.history['val_loss']\n",
    "ln_p = best_tuned_1.history[list(best_tuned_1.history.keys())[1]]               #precision\n",
    "ln_val_p = best_tuned_1.history[list(best_tuned_1.history.keys())[4]]           #val_precision\n",
    "ln_r = best_tuned_1.history[list(best_tuned_1.history.keys())[2]]               #recall\n",
    "ln_val_r = best_tuned_1.history[list(best_tuned_1.history.keys())[5]]           #val_recall\n",
    "\n",
    "\n",
    "plt.figure(figsize=(20,5))\n",
    "plt.subplot(131)\n",
    "plt.plot(ln_p)\n",
    "plt.plot(ln_val_p)\n",
    "plt.ylabel('Precision')\n",
    "plt.xlabel('Epoche')\n",
    "plt.legend(['Training', 'Validation'], loc='lower right')\n",
    "\n",
    "plt.subplot(132)\n",
    "plt.plot(ln_r)\n",
    "plt.plot(ln_val_r)\n",
    "plt.ylabel('Recall')\n",
    "plt.xlabel('Epoche')\n",
    "plt.legend(['Training', 'Validation'], loc='lower right')\n",
    "\n",
    "plt.subplot(133)\n",
    "plt.plot(ln_loss)\n",
    "plt.plot(ln_val_loss)\n",
    "plt.ylabel('Loss')\n",
    "plt.xlabel('Epoche')\n",
    "plt.legend(['Training', 'Validation'], loc='lower right')\n"
   ]
  },
  {
   "cell_type": "code",
   "execution_count": 92,
   "metadata": {
    "id": "ti2aCx87dnzn"
   },
   "outputs": [
    {
     "data": {
      "image/png": "[encoded data removed]",
      "text/plain": [
       "<Figure size 648x432 with 1 Axes>"
      ]
     },
     "metadata": {
      "needs_background": "light"
     },
     "output_type": "display_data"
    }
   ],
   "source": [
    "#Precision recall curve\n",
    "\n",
    "from sklearn.metrics import precision_recall_curve\n",
    "import matplotlib.pyplot as plt\n",
    "\n",
    "best=grid_result.best_estimator_\n",
    "y_score = best.predict_proba(np.array(X_test_nn))[:, 1]\n",
    "\n",
    "#calculate precision and recall\n",
    "precision, recall, thresholds = precision_recall_curve(y_test_nn, y_score)\n",
    "\n",
    "\n",
    "#create precision recall curve\n",
    "fig, ax = plt.subplots()\n",
    "\n",
    "fig.set_size_inches(9,6)\n",
    "ax.plot(recall, precision, color='purple')\n",
    "\n",
    "#add axis labels to plot\n",
    "ax.set_title('Precision-Recall Curve of Best Neural Network Model')\n",
    "ax.set_ylabel('Precision')\n",
    "ax.set_xlabel('Recall')\n",
    "\n",
    "#display plot\n",
    "plt.show()"
   ]
  },
  {
   "cell_type": "markdown",
   "metadata": {
    "id": "r011wwfXdxa2",
    "jp-MarkdownHeadingCollapsed": true,
    "tags": []
   },
   "source": [
    "### End of Project"
   ]
  }
 ],
 "metadata": {
  "colab": {
   "collapsed_sections": [
    "nWnQZ2Iockv1",
    "Yu9X449GcfgK",
    "duInICEsc1Ve",
    "o9LCUaBYdfE6"
   ],
   "machine_shape": "hm",
   "name": "“Untitled0.ipynb”的副本",
   "provenance": []
  },
  "gpuClass": "standard",
  "kernelspec": {
   "display_name": "Python 3 (ipykernel)",
   "language": "python",
   "name": "python3"
  },
  "language_info": {
   "codemirror_mode": {
    "name": "ipython",
    "version": 3
   },
   "file_extension": ".py",
   "mimetype": "text/x-python",
   "name": "python",
   "nbconvert_exporter": "python",
   "pygments_lexer": "ipython3",
   "version": "3.7.12"
  }
 },
 "nbformat": 4,
 "nbformat_minor": 4
}
