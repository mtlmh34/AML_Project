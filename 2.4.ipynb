{
 "cells": [
  {
   "cell_type": "markdown",
   "metadata": {},
   "source": [
    "# CS610 Group Project: Fake Jobs Posting Prediction"
   ]
  },
  {
   "cell_type": "markdown",
   "metadata": {},
   "source": [
    "------------"
   ]
  },
  {
   "cell_type": "markdown",
   "metadata": {
    "id": "tvz2wZ84d6dh"
   },
   "source": [
    "### Import dataset, packages"
   ]
  },
  {
   "cell_type": "code",
   "execution_count": 1,
   "metadata": {
    "id": "xCH7DTWeizFf"
   },
   "outputs": [],
   "source": [
    "import numpy as np\n",
    "import pandas as pd\n",
    "import re\n",
    "import string\n",
    "import nltk\n",
    "#nltk.download('stopwords')\n",
    "#nltk.download('wordnet')\n",
    "#nltk.download('omw-1.4')\n",
    "from nltk.corpus import stopwords\n",
    "from nltk.tokenize import word_tokenize\n",
    "from nltk.tokenize import RegexpTokenizer\n",
    "from sklearn.feature_extraction.text import TfidfVectorizer\n",
    "from sklearn.preprocessing import StandardScaler\n",
    "from sklearn import linear_model, tree, model_selection, ensemble, svm, metrics, naive_bayes\n",
    "from sklearn.model_selection import RandomizedSearchCV\n",
    "from imblearn.combine import SMOTETomek\n",
    "from imblearn.over_sampling import SMOTE\n",
    "from sklearn.tree import DecisionTreeClassifier\n",
    "from sklearn.model_selection import train_test_split\n",
    "from sklearn.metrics import precision_recall_curve, fbeta_score, precision_score,recall_score,accuracy_score,classification_report,confusion_matrix\n",
    "import matplotlib.pyplot as plt"
   ]
  },
  {
   "cell_type": "code",
   "execution_count": 2,
   "metadata": {
    "id": "jxZWZEf_3_Es"
   },
   "outputs": [],
   "source": [
    "df=pd.read_csv('fake_job_postings.csv')"
   ]
  },
  {
   "cell_type": "markdown",
   "metadata": {
    "id": "dtOBJpfOZiSZ",
    "tags": []
   },
   "source": [
    "### Data preprocessing"
   ]
  },
  {
   "cell_type": "code",
   "execution_count": 3,
   "metadata": {
    "id": "_JH8Z9yPXqJX"
   },
   "outputs": [],
   "source": [
    "# drop columns department and salary range as they have more than 50% missing data \n",
    "# drop column for industry as it has too many unique values\n",
    "\n",
    "df.drop(columns=['department', 'salary_range', 'industry'], inplace = True)"
   ]
  },
  {
   "cell_type": "code",
   "execution_count": 4,
   "metadata": {
    "id": "UHLwulQr3_Jf"
   },
   "outputs": [],
   "source": [
    "#-------------------start cleaning for location column\n",
    "\n",
    "#--------1. split the columns to country, state, and city\n",
    "df['country']=df.location.str.split(',',expand=True)[:][0]\n",
    "df['state']=df.location.str.split(',',expand=True)[:][1]\n",
    "df['city']=df.location.str.split(',',expand=True)[:][2]\n",
    "\n",
    "#----------2. replacing different kinds of missing value to np.nan\n",
    "df.state = df.state.str.strip()\n",
    "df.state.fillna(value=np.nan, inplace=True)\n",
    "df.state.replace('', np.nan, inplace=True)\n",
    "df.state.replace(' ', np.nan, inplace=True)\n",
    "\n",
    "#----------3. clear the whitespaces and signs at the start/end\n",
    "df.city = df.city.str.strip(' /:\\\\')\n",
    "\n",
    "#---------4. replacing different kinds of missing value to np.nan\n",
    "df.city.fillna(value=np.nan, inplace=True)\n",
    "df.city.replace('', np.nan, inplace=True)\n",
    "df.city.replace(' ', np.nan, inplace=True)\n",
    "df['city']=df.city.str.lower()\n",
    "\n",
    "#---------\n",
    "\n",
    "# drop unnecessary columns\n",
    "df.drop(['location'], axis = 1, inplace = True)\n",
    "\n",
    "# too many unique entries in city, hence dropped column for city\n",
    "df.drop(columns=['city'], axis=1, inplace = True)"
   ]
  },
  {
   "cell_type": "code",
   "execution_count": 5,
   "metadata": {
    "id": "EAgM4IvEi8Yr"
   },
   "outputs": [],
   "source": [
    "#-------------------start cleaning for text columns\n",
    "\n",
    "#extract text dataframe\n",
    "text_df = df[[\"title\", \"company_profile\", \"description\", \"requirements\", \"benefits\"]]\n",
    "text_df = text_df.fillna(' ')\n",
    "\n",
    "\n",
    "#preprocessing of text_df, concat. all columns\n",
    "text = text_df[text_df.columns[0:-1]].apply(lambda x: ','.join(x.dropna().astype(str)),axis=1)"
   ]
  },
  {
   "cell_type": "code",
   "execution_count": 6,
   "metadata": {
    "id": "1nM59EUPi8be"
   },
   "outputs": [],
   "source": [
    "#cleaning text\n",
    "def clean_text(text):\n",
    "    '''Make text lowercase, remove text in square brackets,remove links,remove punctuation\n",
    "    and remove words containing numbers.'''\n",
    "    text = text.lower()\n",
    "    text = re.sub('\\[.*?\\]', '', text)\n",
    "    text = re.sub('https?://\\S+|www\\.\\S+', '', text)                    #links\n",
    "    text = re.sub('<.*?>+', '', text)                                   #punctuation\n",
    "    text = re.sub('[%s]' % re.escape(string.punctuation), '', text)     #punctuations\n",
    "    text = re.sub('\\n', '', text)                                       #remove \\n\n",
    "    text = re.sub('\\w*\\d\\w*', '', text)                                 #remove numbers in between words\n",
    "    return text\n",
    "\n",
    "# Apply the cleaning function to both test and training datasets\n",
    "text = text.apply(lambda x: clean_text(x))"
   ]
  },
  {
   "cell_type": "code",
   "execution_count": 7,
   "metadata": {
    "id": "oSAm-9b9i8eZ"
   },
   "outputs": [],
   "source": [
    "# remove stop words\n",
    "\n",
    "stop_words = stopwords.words('english')\n",
    "\n",
    "def remove_stopwords(text):\n",
    "    words = [w for w in text if w not in stop_words]\n",
    "    return words\n",
    "\n",
    "def combine_text(list_of_text):\n",
    "    combined_text = ' '.join(list_of_text)\n",
    "    return combined_text\n",
    "\n",
    "tokenizer = RegexpTokenizer(r'\\w+')                       #tokenize\n",
    "text = text.apply(lambda x: tokenizer.tokenize(x))\n",
    "text = text.apply(lambda x : remove_stopwords(x))         #remove stopwords\n",
    "text = text.apply(lambda x : combine_text(x))             #combine elements of words"
   ]
  },
  {
   "cell_type": "code",
   "execution_count": 8,
   "metadata": {
    "id": "YjWKkTpTjErS"
   },
   "outputs": [],
   "source": [
    "# Identify which text feature is not populated before dropping these text columns.\n",
    "\n",
    "columns_to_remove = [\"company_profile\", \"description\", \"requirements\", \"benefits\", \"title\"]\n",
    "\n",
    "\n",
    "# create new binary columns to check if attribute field is populated in the record.\n",
    "# note that all records have 'title' information, so no additional binary column is required for title. \n",
    "\n",
    "for i in columns_to_remove:\n",
    "      df[i] = df[i].fillna(\"unspecified\")\n",
    "new_columns = [\"has_company_profile\", \"has_description\", \"has_requirements\", \"has_benefits\"]\n",
    "\n",
    "for i in range(len(new_columns)):\n",
    "      df[new_columns[i]] = df[columns_to_remove[i]].apply(lambda x: 0 if x == \"unspecified\" else 1)\n",
    "\n",
    "df.drop(columns = columns_to_remove, axis = 1, inplace = True)"
   ]
  },
  {
   "cell_type": "code",
   "execution_count": 9,
   "metadata": {
    "id": "uxcESC0SjEtb"
   },
   "outputs": [],
   "source": [
    "# column for job_id is not required and hence, dropped\n",
    "\n",
    "df.drop(columns = ['job_id'], axis = 1, inplace = True)"
   ]
  },
  {
   "cell_type": "code",
   "execution_count": 10,
   "metadata": {
    "id": "WwS6OxPxjEwJ"
   },
   "outputs": [],
   "source": [
    "#-------------------cleaning categorical columns \n",
    "\n",
    "category_columns = ['employment_type', 'required_experience', 'required_education', \n",
    "                    'function', 'country', 'state']\n",
    "\n",
    "# when populating missing fields with unspecified, the attribute name is added as a \n",
    "# prefix for unspecified to preserve the attribute information. this is required as \n",
    "# all categorical columns will be converted into indicator variables in the later step.\n",
    "\n",
    "for i in category_columns:\n",
    "  df[i] = df[i].fillna(i + \"_unspecified\")\n",
    "\n",
    "\n",
    "# country codes duplicated in country and state columns\n",
    "\n",
    "duplicated = ['BE', 'DE', 'PA', 'NL', 'ID', 'PL', 'IL', 'IN', 'RS', 'ES', 'SA', \n",
    "              'SD', 'MT', 'MA', 'IS', 'SK', 'HR', 'BR', 'TN', 'JM', 'CO', 'CN', \n",
    "              'AL', 'AR', 'CH', 'CA', 'BY']\n",
    "\n",
    "\n",
    "# remove duplicated codes from state column\n",
    "\n",
    "state_features = pd.get_dummies(df['state'])\n",
    "state_features.drop(columns = duplicated, axis = 1, inplace = True)\n",
    "\n",
    "\n",
    "# convert all categorical columns into indicator variables and concate them together.\n",
    "\n",
    "categorical_features = pd.concat([pd.get_dummies(df['employment_type']), \n",
    "                                  pd.get_dummies(df['required_experience']), \n",
    "                                  pd.get_dummies(df['required_education']),\n",
    "                                  pd.get_dummies(df['country']),\n",
    "                                  state_features],\n",
    "                                  axis = 1)\n",
    "\n",
    "df.drop(columns = category_columns, axis = 1, inplace = True)"
   ]
  },
  {
   "cell_type": "code",
   "execution_count": 11,
   "metadata": {
    "id": "DjorO8BPjEyk"
   },
   "outputs": [],
   "source": [
    "# train-test-split\n",
    "\n",
    "# separate target column from dataframe\n",
    "df_combined = pd.concat([df, categorical_features, text], axis =1, ignore_index=False)\n",
    "df_combined.rename(columns={ df_combined.columns[-1]: \"text\" }, inplace = True)\n",
    "X_data = df_combined.drop('fraudulent', axis = 1)\n",
    "y_data = df_combined['fraudulent']\n",
    "\n",
    "X_train_df, X_test_df, y_train, y_test = train_test_split(X_data, y_data, test_size=0.2, random_state=42)"
   ]
  },
  {
   "cell_type": "code",
   "execution_count": 12,
   "metadata": {
    "id": "8pWV4sy9jE1P"
   },
   "outputs": [
    {
     "name": "stderr",
     "output_type": "stream",
     "text": [
      "C:\\Users\\lohsi\\anaconda3\\lib\\site-packages\\sklearn\\utils\\deprecation.py:87: FutureWarning: Function get_feature_names is deprecated; get_feature_names is deprecated in 1.0 and will be removed in 1.2. Please use get_feature_names_out instead.\n",
      "  warnings.warn(msg, category=FutureWarning)\n",
      "C:\\Users\\lohsi\\anaconda3\\lib\\site-packages\\sklearn\\utils\\deprecation.py:87: FutureWarning: Function get_feature_names is deprecated; get_feature_names is deprecated in 1.0 and will be removed in 1.2. Please use get_feature_names_out instead.\n",
      "  warnings.warn(msg, category=FutureWarning)\n"
     ]
    }
   ],
   "source": [
    "# apply vectoriser after train-test-split\n",
    "\n",
    "# TF_IDF vectorizer\n",
    "tfidf = TfidfVectorizer(ngram_range = (1,2), min_df= 0.05, max_df= 0.5)\n",
    "\n",
    "# train set fit_transform\n",
    "transformed = tfidf.fit_transform(X_train_df['text'])\n",
    "df_vec = pd.DataFrame(transformed.todense(),columns=tfidf.get_feature_names())\n",
    "\n",
    "X_train = X_train_df.drop('text', axis = 1)\n",
    "X_train = pd.concat([X_train.reset_index(), df_vec.reset_index()], axis = 1)\n",
    "X_train.drop('index', axis = 1, inplace = True)\n",
    "\n",
    "# test set transform\n",
    "test_text = tfidf.transform(X_test_df['text'])\n",
    "df_vec_test = pd.DataFrame(test_text.todense(),columns=tfidf.get_feature_names())\n",
    "\n",
    "X_test = X_test_df.drop('text', axis = 1)\n",
    "X_test = pd.concat([X_test.reset_index(), df_vec_test.reset_index()], axis = 1)\n",
    "X_test.drop('index', axis = 1, inplace = True)"
   ]
  },
  {
   "cell_type": "code",
   "execution_count": 13,
   "metadata": {
    "id": "Amdn6e6DjE3z"
   },
   "outputs": [
    {
     "name": "stderr",
     "output_type": "stream",
     "text": [
      "C:\\Users\\lohsi\\anaconda3\\lib\\site-packages\\sklearn\\utils\\deprecation.py:87: FutureWarning: Function get_feature_names is deprecated; get_feature_names is deprecated in 1.0 and will be removed in 1.2. Please use get_feature_names_out instead.\n",
      "  warnings.warn(msg, category=FutureWarning)\n",
      "C:\\Users\\lohsi\\anaconda3\\lib\\site-packages\\sklearn\\utils\\deprecation.py:87: FutureWarning: Function get_feature_names is deprecated; get_feature_names is deprecated in 1.0 and will be removed in 1.2. Please use get_feature_names_out instead.\n",
      "  warnings.warn(msg, category=FutureWarning)\n"
     ]
    }
   ],
   "source": [
    "# additional standardisation step for artificial neural network\n",
    "\n",
    "#standard scaler that applies to to text vectors\n",
    "scaler = StandardScaler()\n",
    "\n",
    "# train set fit_transform\n",
    "df_vec_scaled = scaler.fit_transform(df_vec)\n",
    "df_vec_scaled=pd.DataFrame(df_vec_scaled, columns=tfidf.get_feature_names())\n",
    "\n",
    "X_train_nn = X_train_df.drop('text', axis = 1)\n",
    "X_train_nn = pd.concat([X_train_nn.reset_index(), df_vec_scaled.reset_index()], axis = 1)\n",
    "X_train_nn.drop('index', axis = 1, inplace = True)\n",
    "\n",
    "# test set transform\n",
    "df_vec_scaled_test = scaler.transform(df_vec_test)\n",
    "df_vec_scaled_test=pd.DataFrame(df_vec_scaled_test, columns=tfidf.get_feature_names())\n",
    "\n",
    "X_test_nn = X_test_df.drop('text', axis = 1)\n",
    "X_test_nn = pd.concat([X_test_nn.reset_index(), df_vec_scaled_test.reset_index()], axis = 1)\n",
    "X_test_nn.drop('index', axis = 1, inplace = True)"
   ]
  },
  {
   "cell_type": "code",
   "execution_count": 14,
   "metadata": {
    "colab": {
     "base_uri": "https://localhost:8080/"
    },
    "id": "T-82MnmZjE6n",
    "outputId": "aaf31adc-f2d1-4d4c-ca3d-2d0e397a8605"
   },
   "outputs": [
    {
     "name": "stdout",
     "output_type": "stream",
     "text": [
      "Number of text columns:  668\n",
      "Number of binary columns:  424\n"
     ]
    }
   ],
   "source": [
    "# check the ratio of text columns against number  of binary columns\n",
    "# minus 1 for X_train_df.shape[1] due to 'text' column in X_train_df\n",
    "\n",
    "print(\"Number of text columns: \", X_train.shape[1] - (X_train_df.shape[1] - 1))\n",
    "print(\"Number of binary columns: \", X_train_df.shape[1] - 1)"
   ]
  },
  {
   "cell_type": "code",
   "execution_count": 15,
   "metadata": {
    "colab": {
     "base_uri": "https://localhost:8080/"
    },
    "id": "o8sCUEqji8hE",
    "outputId": "ae2d1eeb-f3c6-41b7-9187-e619f84c4c58"
   },
   "outputs": [
    {
     "name": "stdout",
     "output_type": "stream",
     "text": [
      "Number of text columns:  668\n",
      "Number of binary columns:  424\n"
     ]
    }
   ],
   "source": [
    "# same checks for artificial neural network\n",
    "\n",
    "print(\"Number of text columns: \", X_train_nn.shape[1] - (X_train_df.shape[1] - 1))\n",
    "print(\"Number of binary columns: \", X_train_df.shape[1] - 1)"
   ]
  },
  {
   "cell_type": "markdown",
   "metadata": {
    "id": "lKbe7oTp3nW4",
    "tags": []
   },
   "source": [
    "### Evaluate Sampling Strategy"
   ]
  },
  {
   "cell_type": "code",
   "execution_count": 16,
   "metadata": {
    "id": "bsMmSAqm4ZkJ"
   },
   "outputs": [],
   "source": [
    "import warnings\n",
    "warnings.filterwarnings('ignore')\n",
    "\n",
    "# create function to evaluate whether SMOTE-TOMEK or SMOTE sampling gives a better fbeta score.\n",
    "# the size of the sampling strategy is also evaluated.\n",
    "# this is only a quick evaluation of the sampling type and size, hence a simpler model, decision tree is used.\n",
    "# evaluation is performed on X_train, y_train. the results will be applied for X_train_nn, y_train_nn. \n",
    "\n",
    "def sampling_evaluation(type, size):\n",
    "    if type == 'smote-tomek':\n",
    "        smt = SMOTETomek(random_state=42, sampling_strategy=size)\n",
    "    elif type == 'smote':\n",
    "        smt = SMOTE(random_state=42, sampling_strategy=size)\n",
    "\n",
    "    X_resample, y_resampled = smt.fit_resample(X_train, y_train)\n",
    "\n",
    "  # train decision tree model\n",
    "    dt = DecisionTreeClassifier(random_state=42)\n",
    "    dt.fit(X_resample, y_resampled)\n",
    "\n",
    "  # evaluate predictions\n",
    "    y_pred_test = dt.predict(X_test)\n",
    "    fbeta = fbeta_score(y_test, y_pred_test, beta = 2.0)\n",
    "    \n",
    "    return fbeta"
   ]
  },
  {
   "cell_type": "code",
   "execution_count": 17,
   "metadata": {
    "colab": {
     "base_uri": "https://localhost:8080/"
    },
    "id": "u0rmwtoO4Zm0",
    "outputId": "205ea375-51ac-48d5-c368-25ac63bee797"
   },
   "outputs": [
    {
     "name": "stdout",
     "output_type": "stream",
     "text": [
      "('smote-tomek', 0.4) :  0.7135250266240682\n",
      "('smote-tomek', 0.5) :  0.6837606837606838\n",
      "('smote-tomek', 0.6) :  0.6928034371643395\n",
      "('smote', 0.4) :  0.7211538461538461\n",
      "('smote', 0.5) :  0.6774193548387096\n",
      "('smote', 0.6) :  0.6928034371643395\n"
     ]
    }
   ],
   "source": [
    "# the over-sampling techniques and the corresponding sampling strategy size is as listed below.\n",
    "sampling_strat = [('smote-tomek', 0.4), ('smote-tomek', 0.5), ('smote-tomek', 0.6), ('smote', 0.4), ('smote', 0.5), ('smote', 0.6)]\n",
    "\n",
    "for strat in sampling_strat:\n",
    "    print(strat, \": \", sampling_evaluation(strat[0], strat[1]))"
   ]
  },
  {
   "cell_type": "code",
   "execution_count": 18,
   "metadata": {
    "id": "Q7PyHBjK-Y4D"
   },
   "outputs": [],
   "source": [
    "# SMOTE with sampling strategy of 0.4 has the best performance \n",
    "# hence, this will be used to perform over-sampling \n",
    "\n",
    "smt = SMOTE(random_state=42, sampling_strategy=0.4)\n",
    "X_resampled, y_resampled = smt.fit_resample(X_train, y_train)"
   ]
  },
  {
   "cell_type": "code",
   "execution_count": 19,
   "metadata": {
    "id": "iSRwXm7qTlJU"
   },
   "outputs": [],
   "source": [
    "# the same sampling is performed for the data to be used for artificial neural network  \n",
    "\n",
    "smt_nn = SMOTE(random_state=42, sampling_strategy=0.4)\n",
    "X_resampled_nn, y_resampled_nn = smt_nn.fit_resample(X_train_nn, y_train)"
   ]
  },
  {
   "cell_type": "code",
   "execution_count": 20,
   "metadata": {
    "colab": {
     "base_uri": "https://localhost:8080/"
    },
    "id": "RbGwNjTuUezx",
    "outputId": "322b651d-ddd1-4274-e3bf-0eb35c42e828"
   },
   "outputs": [
    {
     "name": "stdout",
     "output_type": "stream",
     "text": [
      "For all others:\n",
      " 0    13619\n",
      "1     5447\n",
      "Name: fraudulent, dtype: int64\n",
      "\n",
      "For neural network:\n",
      " 0    13619\n",
      "1     5447\n",
      "Name: fraudulent, dtype: int64\n"
     ]
    }
   ],
   "source": [
    "print(\"For all others:\\n\", y_resampled.value_counts())\n",
    "print(\"\")\n",
    "print(\"For neural network:\\n\", y_resampled_nn.value_counts())"
   ]
  },
  {
   "cell_type": "markdown",
   "metadata": {
    "id": "UFUVjcPQZ6Ge",
    "tags": []
   },
   "source": [
    "### Multinomial Naive Bayes"
   ]
  },
  {
   "cell_type": "code",
   "execution_count": 21,
   "metadata": {},
   "outputs": [],
   "source": [
    "# only text columns required\n",
    "\n",
    "# SMOTE with sampling strategy of 0.4 has the best performance \n",
    "# hence, this will be used to perform over-sampling \n",
    "\n",
    "smt = SMOTE(random_state=42, sampling_strategy=0.4)\n",
    "X_resampled_text, y_resampled_text = smt.fit_resample(df_vec, y_train)"
   ]
  },
  {
   "cell_type": "code",
   "execution_count": 22,
   "metadata": {
    "id": "C3DHaYZLXY1Q"
   },
   "outputs": [],
   "source": [
    "def model_results(model, X_values, y_values, train_test):\n",
    "    y_pred = model.predict(X_values)\n",
    "    y_pred_prob = model.predict_proba(X_values)[:,1]\n",
    "\n",
    "    precision = metrics.precision_score(y_values, y_pred)\n",
    "    recall = metrics.recall_score(y_values, y_pred)\n",
    "    f1 = metrics.f1_score(y_values, y_pred)\n",
    "    roc_auc = metrics.roc_auc_score(y_values, y_pred_prob)\n",
    "    fbeta = fbeta_score(y_values, y_pred, beta = 2.0)\n",
    "\n",
    "    cf_matrix = metrics.confusion_matrix(y_values, y_pred, labels=[1,0])\n",
    "\n",
    "    evaluation_metrics = ['precision', 'recall', 'f1', 'roc_auc', 'f-beta']\n",
    "    scores = [precision, recall, f1, roc_auc, fbeta]\n",
    "    print(pd.DataFrame([scores], columns = evaluation_metrics, index = [train_test]))\n",
    "    print(\"\")\n",
    "    print(\"Confusion matrix: \")\n",
    "    print(cf_matrix)"
   ]
  },
  {
   "cell_type": "code",
   "execution_count": 23,
   "metadata": {
    "colab": {
     "base_uri": "https://localhost:8080/"
    },
    "id": "5mc4PU72KfnS",
    "outputId": "0f284005-f14c-4c4e-bcb5-e924a8afadbf"
   },
   "outputs": [],
   "source": [
    "# identify top features in naive bayes model\n",
    "\n",
    "def top_features(mnb, X_resampled):\n",
    "    # match feature names and respective feature counts in each class\n",
    "    f = {'Feature': X_resampled.columns, 'fraud': mnb.feature_count_[1,:],\n",
    "          'not_fraud': mnb.feature_count_[0,:]}\n",
    "    features = pd.DataFrame(data=f)\n",
    "\n",
    "    # calculate the P(feature|class) by using feature count in the class divided by respective class count\n",
    "    # 1 count is added to all feature counts to ensure ratio can be calculated later\n",
    "    features['P (f|fraud)'] = (features['fraud'] +1) / mnb.class_count_[1]\n",
    "    features['P (f|not_fraud)'] = (features['not_fraud'] +1) / mnb.class_count_[0]\n",
    "\n",
    "    # ratio of the P(feature|class) is used to evaluate the predictiveness of the token \n",
    "    features['Ratio'] = features['P (f|fraud)'] / features['P (f|not_fraud)']\n",
    "\n",
    "    # print out the top 10 features for each class\n",
    "    print('The top 20 most predictive tokens for fraud job postings are:')\n",
    "    print(features.sort_values(by=['Ratio'], ascending= False).head(20)['Feature'].values)\n",
    "\n",
    "    print('The top 20 most predictive tokens for not fraud job postings are:')\n",
    "    print(features.sort_values(by=['Ratio'], ascending= False).tail(20)['Feature'].values)"
   ]
  },
  {
   "cell_type": "code",
   "execution_count": 24,
   "metadata": {},
   "outputs": [
    {
     "name": "stdout",
     "output_type": "stream",
     "text": [
      "       precision    recall        f1   roc_auc    f-beta\n",
      "Train   0.847359  0.615568  0.713101  0.935011  0.651194\n",
      "\n",
      "Confusion matrix: \n",
      "[[ 3353  2094]\n",
      " [  604 13015]]\n",
      "\n",
      "      precision    recall        f1   roc_auc    f-beta\n",
      "Test   0.405904  0.607735  0.486726  0.911181  0.552764\n",
      "\n",
      "Confusion matrix: \n",
      "[[ 110   71]\n",
      " [ 161 3234]]\n",
      "\n",
      "The top 20 most predictive tokens for fraud job postings are:\n",
      "['entry' 'administrative' 'per' 'internet' 'needed' 'follow' 'free' 'call'\n",
      " 'home' 'center' 'area' 'desire' 'week' 'access' 'calls' 'recruiting'\n",
      " 'maximize' 'require' 'able work' 'equipment']\n",
      "The top 20 most predictive tokens for not fraud job postings are:\n",
      "['digital' 'media' 'recruitment' 'search' 'founded' 'since'\n",
      " 'experience preferred' 'secure' 'continually' 'trusted' 'engage' 'fun'\n",
      " 'teaching' 'website' 'amazing' 'relevant job' 'passionate' 'social media'\n",
      " 'consultants' 'abroad']\n"
     ]
    }
   ],
   "source": [
    "# model building\n",
    "\n",
    "mnb_text = naive_bayes.MultinomialNB()\n",
    "mnb_text.fit(X_resampled_text, y_resampled_text)\n",
    "\n",
    "model_results(mnb_text, X_resampled_text, y_resampled_text, \"Train\")\n",
    "\n",
    "print('')\n",
    "model_results(mnb_text, df_vec_test, y_test, \"Test\")\n",
    "\n",
    "print('')\n",
    "top_features(mnb_text, X_resampled_text)"
   ]
  },
  {
   "cell_type": "code",
   "execution_count": 25,
   "metadata": {},
   "outputs": [
    {
     "name": "stdout",
     "output_type": "stream",
     "text": [
      "       precision    recall        f1  roc_auc    f-beta\n",
      "Train   0.849118  0.910226  0.878611  0.97892  0.897311\n",
      "\n",
      "Confusion matrix: \n",
      "[[ 4958   489]\n",
      " [  881 12738]]\n",
      "      precision    recall       f1   roc_auc    f-beta\n",
      "Test   0.407104  0.823204  0.54479  0.953655  0.683486\n",
      "\n",
      "Confusion matrix: \n",
      "[[ 149   32]\n",
      " [ 217 3178]]\n",
      "\n",
      "The top 20 most predictive tokens for fraud job postings are:\n",
      "['work home' 'data entry' 'typing' 'earn' 'gas industry' 'signing'\n",
      " 'referral' 'encouraged' 'facilitating' 'gas' 'ranging' 'oil' 'minutes'\n",
      " 'entry' 'cash' 'offshore' 'maximizing' 'financing' 'bonuses' 'aptitude']\n",
      "The top 20 most predictive tokens for not fraud job postings are:\n",
      "['english teacher' 'monthly cost' 'teachers get' 'secure jobs' 'get safe'\n",
      " 'student loanscredit' 'loanscredit' 'jobs abroad' 'amp secure' 'safe amp'\n",
      " 'tesol celta' 'tefl tesol' 'celta' 'help teachers' 'tesol'\n",
      " 'teaching experience' 'tefl' 'teacher' 'teachers' 'abroad']\n"
     ]
    }
   ],
   "source": [
    "# apply vectoriser with different min_df and max_df\n",
    "\n",
    "# TF_IDF vectorizer\n",
    "tfidf_nb2 = TfidfVectorizer(ngram_range = (1,2), min_df= 0.01, max_df= 0.7)\n",
    "\n",
    "# train set fit_transform\n",
    "transformed_nb2 = tfidf_nb2.fit_transform(X_train_df['text'])\n",
    "df_vec_nb2 = pd.DataFrame(transformed_nb2.todense(),columns=tfidf_nb2.get_feature_names())\n",
    "\n",
    "# test set transform\n",
    "test_text_nb2 = tfidf_nb2.transform(X_test_df['text'])\n",
    "df_vec_test_nb2 = pd.DataFrame(test_text_nb2.todense(),columns=tfidf_nb2.get_feature_names())\n",
    "\n",
    "# SMOTE sampling\n",
    "smt = SMOTE(random_state=42, sampling_strategy=0.4)\n",
    "X_resampled_text2, y_resampled_text2 = smt.fit_resample(df_vec_nb2, y_train)\n",
    "\n",
    "# model building\n",
    "mnb_nb2 = naive_bayes.MultinomialNB()\n",
    "mnb_nb2.fit(X_resampled_text2, y_resampled_text2)\n",
    "\n",
    "# results \n",
    "model_results(mnb_nb2, X_resampled_text2, y_resampled_text2, \"Train\")\n",
    "\n",
    "model_results(mnb_nb2, df_vec_test_nb2, y_test, \"Test\")\n",
    "\n",
    "print('')\n",
    "top_features(mnb_nb2, X_resampled_text2)"
   ]
  },
  {
   "cell_type": "code",
   "execution_count": 26,
   "metadata": {},
   "outputs": [
    {
     "data": {
      "image/png": "[encoded data removed]",
      "text/plain": [
       "<Figure size 432x288 with 1 Axes>"
      ]
     },
     "metadata": {
      "needs_background": "light"
     },
     "output_type": "display_data"
    }
   ],
   "source": [
    "# precision-recall curve \n",
    "y_score = mnb_nb2.predict_proba(df_vec_test_nb2)[:, 1]\n",
    "\n",
    "#calculate precision and recall\n",
    "precision, recall, thresholds = precision_recall_curve(y_test, y_score)\n",
    "\n",
    "#create precision recall curve\n",
    "fig, ax = plt.subplots()\n",
    "ax.plot(recall, precision, color='green')\n",
    "\n",
    "#add axis labels to plot\n",
    "ax.set_title('Precision-Recall Curve for optimal Naive Bayes')\n",
    "ax.set_ylabel('Precision')\n",
    "ax.set_xlabel('Recall')\n",
    "\n",
    "#display plot\n",
    "plt.show()"
   ]
  },
  {
   "cell_type": "markdown",
   "metadata": {
    "id": "Fv8pWLzYZ-yF",
    "tags": []
   },
   "source": [
    "### Gradient Boosting"
   ]
  },
  {
   "cell_type": "code",
   "execution_count": 27,
   "metadata": {
    "id": "fp5A4iCsSmBr"
   },
   "outputs": [
    {
     "data": {
      "text/html": [
       "<style>#sk-container-id-1 {color: black;background-color: white;}#sk-container-id-1 pre{padding: 0;}#sk-container-id-1 div.sk-toggleable {background-color: white;}#sk-container-id-1 label.sk-toggleable__label {cursor: pointer;display: block;width: 100%;margin-bottom: 0;padding: 0.3em;box-sizing: border-box;text-align: center;}#sk-container-id-1 label.sk-toggleable__label-arrow:before {content: \"▸\";float: left;margin-right: 0.25em;color: #696969;}#sk-container-id-1 label.sk-toggleable__label-arrow:hover:before {color: black;}#sk-container-id-1 div.sk-estimator:hover label.sk-toggleable__label-arrow:before {color: black;}#sk-container-id-1 div.sk-toggleable__content {max-height: 0;max-width: 0;overflow: hidden;text-align: left;background-color: #f0f8ff;}#sk-container-id-1 div.sk-toggleable__content pre {margin: 0.2em;color: black;border-radius: 0.25em;background-color: #f0f8ff;}#sk-container-id-1 input.sk-toggleable__control:checked~div.sk-toggleable__content {max-height: 200px;max-width: 100%;overflow: auto;}#sk-container-id-1 input.sk-toggleable__control:checked~label.sk-toggleable__label-arrow:before {content: \"▾\";}#sk-container-id-1 div.sk-estimator input.sk-toggleable__control:checked~label.sk-toggleable__label {background-color: #d4ebff;}#sk-container-id-1 div.sk-label input.sk-toggleable__control:checked~label.sk-toggleable__label {background-color: #d4ebff;}#sk-container-id-1 input.sk-hidden--visually {border: 0;clip: rect(1px 1px 1px 1px);clip: rect(1px, 1px, 1px, 1px);height: 1px;margin: -1px;overflow: hidden;padding: 0;position: absolute;width: 1px;}#sk-container-id-1 div.sk-estimator {font-family: monospace;background-color: #f0f8ff;border: 1px dotted black;border-radius: 0.25em;box-sizing: border-box;margin-bottom: 0.5em;}#sk-container-id-1 div.sk-estimator:hover {background-color: #d4ebff;}#sk-container-id-1 div.sk-parallel-item::after {content: \"\";width: 100%;border-bottom: 1px solid gray;flex-grow: 1;}#sk-container-id-1 div.sk-label:hover label.sk-toggleable__label {background-color: #d4ebff;}#sk-container-id-1 div.sk-serial::before {content: \"\";position: absolute;border-left: 1px solid gray;box-sizing: border-box;top: 0;bottom: 0;left: 50%;z-index: 0;}#sk-container-id-1 div.sk-serial {display: flex;flex-direction: column;align-items: center;background-color: white;padding-right: 0.2em;padding-left: 0.2em;position: relative;}#sk-container-id-1 div.sk-item {position: relative;z-index: 1;}#sk-container-id-1 div.sk-parallel {display: flex;align-items: stretch;justify-content: center;background-color: white;position: relative;}#sk-container-id-1 div.sk-item::before, #sk-container-id-1 div.sk-parallel-item::before {content: \"\";position: absolute;border-left: 1px solid gray;box-sizing: border-box;top: 0;bottom: 0;left: 50%;z-index: -1;}#sk-container-id-1 div.sk-parallel-item {display: flex;flex-direction: column;z-index: 1;position: relative;background-color: white;}#sk-container-id-1 div.sk-parallel-item:first-child::after {align-self: flex-end;width: 50%;}#sk-container-id-1 div.sk-parallel-item:last-child::after {align-self: flex-start;width: 50%;}#sk-container-id-1 div.sk-parallel-item:only-child::after {width: 0;}#sk-container-id-1 div.sk-dashed-wrapped {border: 1px dashed gray;margin: 0 0.4em 0.5em 0.4em;box-sizing: border-box;padding-bottom: 0.4em;background-color: white;}#sk-container-id-1 div.sk-label label {font-family: monospace;font-weight: bold;display: inline-block;line-height: 1.2em;}#sk-container-id-1 div.sk-label-container {text-align: center;}#sk-container-id-1 div.sk-container {/* jupyter's `normalize.less` sets `[hidden] { display: none; }` but bootstrap.min.css set `[hidden] { display: none !important; }` so we also need the `!important` here to be able to override the default hidden behavior on the sphinx rendered scikit-learn.org. See: https://github.com/scikit-learn/scikit-learn/issues/21755 */display: inline-block !important;position: relative;}#sk-container-id-1 div.sk-text-repr-fallback {display: none;}</style><div id=\"sk-container-id-1\" class=\"sk-top-container\"><div class=\"sk-text-repr-fallback\"><pre>GradientBoostingClassifier(random_state=42)</pre><b>In a Jupyter environment, please rerun this cell to show the HTML representation or trust the notebook. <br />On GitHub, the HTML representation is unable to render, please try loading this page with nbviewer.org.</b></div><div class=\"sk-container\" hidden><div class=\"sk-item\"><div class=\"sk-estimator sk-toggleable\"><input class=\"sk-toggleable__control sk-hidden--visually\" id=\"sk-estimator-id-1\" type=\"checkbox\" checked><label for=\"sk-estimator-id-1\" class=\"sk-toggleable__label sk-toggleable__label-arrow\">GradientBoostingClassifier</label><div class=\"sk-toggleable__content\"><pre>GradientBoostingClassifier(random_state=42)</pre></div></div></div></div></div>"
      ],
      "text/plain": [
       "GradientBoostingClassifier(random_state=42)"
      ]
     },
     "execution_count": 27,
     "metadata": {},
     "output_type": "execute_result"
    }
   ],
   "source": [
    "gbt = ensemble.GradientBoostingClassifier(random_state=42)\n",
    "gbt.fit(X_resampled, y_resampled)"
   ]
  },
  {
   "cell_type": "code",
   "execution_count": 28,
   "metadata": {
    "id": "PWJ8uH2pSmEr"
   },
   "outputs": [
    {
     "name": "stdout",
     "output_type": "stream",
     "text": [
      "       precision    recall        f1   roc_auc    f-beta\n",
      "Train   0.967474  0.939233  0.953144  0.996485  0.944748\n",
      "\n",
      "Confusion matrix: \n",
      "[[ 5116   331]\n",
      " [  172 13447]]\n"
     ]
    }
   ],
   "source": [
    "model_results(gbt, X_resampled, y_resampled, \"Train\")\n"
   ]
  },
  {
   "cell_type": "code",
   "execution_count": 29,
   "metadata": {
    "id": "abaAQUbz95Te"
   },
   "outputs": [
    {
     "name": "stdout",
     "output_type": "stream",
     "text": [
      "      precision    recall        f1   roc_auc    f-beta\n",
      "Test   0.681081  0.696133  0.688525  0.973085  0.693069\n",
      "\n",
      "Confusion matrix: \n",
      "[[ 126   55]\n",
      " [  59 3336]]\n"
     ]
    }
   ],
   "source": [
    "model_results(gbt, X_test, y_test, \"Test\")"
   ]
  },
  {
   "cell_type": "code",
   "execution_count": 30,
   "metadata": {
    "id": "IALCcX9SW4hB"
   },
   "outputs": [
    {
     "data": {
      "text/html": [
       "<div>\n",
       "<style scoped>\n",
       "    .dataframe tbody tr th:only-of-type {\n",
       "        vertical-align: middle;\n",
       "    }\n",
       "\n",
       "    .dataframe tbody tr th {\n",
       "        vertical-align: top;\n",
       "    }\n",
       "\n",
       "    .dataframe thead th {\n",
       "        text-align: right;\n",
       "    }\n",
       "</style>\n",
       "<table border=\"1\" class=\"dataframe\">\n",
       "  <thead>\n",
       "    <tr style=\"text-align: right;\">\n",
       "      <th></th>\n",
       "      <th>Feature</th>\n",
       "      <th>Importance</th>\n",
       "    </tr>\n",
       "  </thead>\n",
       "  <tbody>\n",
       "    <tr>\n",
       "      <th>0</th>\n",
       "      <td>has_company_profile</td>\n",
       "      <td>0.264058</td>\n",
       "    </tr>\n",
       "    <tr>\n",
       "      <th>1</th>\n",
       "      <td>has_company_logo</td>\n",
       "      <td>0.073606</td>\n",
       "    </tr>\n",
       "    <tr>\n",
       "      <th>2</th>\n",
       "      <td>recruiting</td>\n",
       "      <td>0.050164</td>\n",
       "    </tr>\n",
       "    <tr>\n",
       "      <th>3</th>\n",
       "      <td>program</td>\n",
       "      <td>0.038281</td>\n",
       "    </tr>\n",
       "    <tr>\n",
       "      <th>4</th>\n",
       "      <td>addition</td>\n",
       "      <td>0.026780</td>\n",
       "    </tr>\n",
       "    <tr>\n",
       "      <th>5</th>\n",
       "      <td>maximize</td>\n",
       "      <td>0.023804</td>\n",
       "    </tr>\n",
       "    <tr>\n",
       "      <th>6</th>\n",
       "      <td>High School or equivalent</td>\n",
       "      <td>0.023001</td>\n",
       "    </tr>\n",
       "    <tr>\n",
       "      <th>7</th>\n",
       "      <td>exciting</td>\n",
       "      <td>0.018896</td>\n",
       "    </tr>\n",
       "    <tr>\n",
       "      <th>8</th>\n",
       "      <td>medium</td>\n",
       "      <td>0.018483</td>\n",
       "    </tr>\n",
       "    <tr>\n",
       "      <th>9</th>\n",
       "      <td>area</td>\n",
       "      <td>0.016394</td>\n",
       "    </tr>\n",
       "  </tbody>\n",
       "</table>\n",
       "</div>"
      ],
      "text/plain": [
       "                     Feature  Importance\n",
       "0        has_company_profile    0.264058\n",
       "1           has_company_logo    0.073606\n",
       "2                 recruiting    0.050164\n",
       "3                    program    0.038281\n",
       "4                   addition    0.026780\n",
       "5                   maximize    0.023804\n",
       "6  High School or equivalent    0.023001\n",
       "7                   exciting    0.018896\n",
       "8                     medium    0.018483\n",
       "9                       area    0.016394"
      ]
     },
     "execution_count": 30,
     "metadata": {},
     "output_type": "execute_result"
    }
   ],
   "source": [
    "gbt = {'Feature': gbt.feature_names_in_, 'Importance': gbt.feature_importances_}\n",
    "df_gbt = pd.DataFrame(gbt)\n",
    "df_gbt = df_gbt.sort_values(by = 'Importance', key = abs, ascending = False, ignore_index =True)\n",
    "df_gbt.head(10)"
   ]
  },
  {
   "cell_type": "code",
   "execution_count": 33,
   "metadata": {
    "id": "w2OQ_zCjV-LK"
   },
   "outputs": [],
   "source": [
    "def model_build(base_estimator, parameters):\n",
    "    \n",
    "    clf = model_selection.RandomizedSearchCV(\n",
    "        base_estimator, \n",
    "        parameters, \n",
    "        scoring = 'recall',\n",
    "        cv = 5)\n",
    "    \n",
    "    clf.fit(X_resampled, y_resampled)\n",
    "    \n",
    "    print('best score:', clf.best_score_)\n",
    "    print('best parameters: ', clf.best_params_)\n",
    "\n",
    "    optimised = clf.best_estimator_\n",
    "    return optimised"
   ]
  },
  {
   "cell_type": "code",
   "execution_count": 34,
   "metadata": {
    "id": "ywQCDjVadlMl"
   },
   "outputs": [
    {
     "name": "stdout",
     "output_type": "stream",
     "text": [
      "best score: 0.9416335161456096\n",
      "best parameters:  {'n_estimators': 160, 'learning_rate': 0.1}\n"
     ]
    }
   ],
   "source": [
    "gradient_grid = {'n_estimators': [x for x in np.arange(start=100,stop=180,step=20)],\n",
    "               'learning_rate': [0.001, 0.01, 0.1]}\n",
    "\n",
    "optimised_gbt = model_build(ensemble.GradientBoostingClassifier(random_state=2022), gradient_grid)"
   ]
  },
  {
   "cell_type": "code",
   "execution_count": 35,
   "metadata": {
    "id": "uv1f452OdlRU"
   },
   "outputs": [
    {
     "data": {
      "text/html": [
       "<div>\n",
       "<style scoped>\n",
       "    .dataframe tbody tr th:only-of-type {\n",
       "        vertical-align: middle;\n",
       "    }\n",
       "\n",
       "    .dataframe tbody tr th {\n",
       "        vertical-align: top;\n",
       "    }\n",
       "\n",
       "    .dataframe thead th {\n",
       "        text-align: right;\n",
       "    }\n",
       "</style>\n",
       "<table border=\"1\" class=\"dataframe\">\n",
       "  <thead>\n",
       "    <tr style=\"text-align: right;\">\n",
       "      <th></th>\n",
       "      <th>Feature</th>\n",
       "      <th>Importance</th>\n",
       "    </tr>\n",
       "  </thead>\n",
       "  <tbody>\n",
       "    <tr>\n",
       "      <th>0</th>\n",
       "      <td>has_company_profile</td>\n",
       "      <td>0.243553</td>\n",
       "    </tr>\n",
       "    <tr>\n",
       "      <th>1</th>\n",
       "      <td>has_company_logo</td>\n",
       "      <td>0.086642</td>\n",
       "    </tr>\n",
       "    <tr>\n",
       "      <th>2</th>\n",
       "      <td>recruiting</td>\n",
       "      <td>0.049391</td>\n",
       "    </tr>\n",
       "    <tr>\n",
       "      <th>3</th>\n",
       "      <td>program</td>\n",
       "      <td>0.032017</td>\n",
       "    </tr>\n",
       "    <tr>\n",
       "      <th>4</th>\n",
       "      <td>addition</td>\n",
       "      <td>0.029930</td>\n",
       "    </tr>\n",
       "    <tr>\n",
       "      <th>5</th>\n",
       "      <td>maximize</td>\n",
       "      <td>0.021390</td>\n",
       "    </tr>\n",
       "    <tr>\n",
       "      <th>6</th>\n",
       "      <td>High School or equivalent</td>\n",
       "      <td>0.021135</td>\n",
       "    </tr>\n",
       "    <tr>\n",
       "      <th>7</th>\n",
       "      <td>TX</td>\n",
       "      <td>0.016958</td>\n",
       "    </tr>\n",
       "    <tr>\n",
       "      <th>8</th>\n",
       "      <td>area</td>\n",
       "      <td>0.016924</td>\n",
       "    </tr>\n",
       "    <tr>\n",
       "      <th>9</th>\n",
       "      <td>medium</td>\n",
       "      <td>0.016546</td>\n",
       "    </tr>\n",
       "  </tbody>\n",
       "</table>\n",
       "</div>"
      ],
      "text/plain": [
       "                     Feature  Importance\n",
       "0        has_company_profile    0.243553\n",
       "1           has_company_logo    0.086642\n",
       "2                 recruiting    0.049391\n",
       "3                    program    0.032017\n",
       "4                   addition    0.029930\n",
       "5                   maximize    0.021390\n",
       "6  High School or equivalent    0.021135\n",
       "7                         TX    0.016958\n",
       "8                       area    0.016924\n",
       "9                     medium    0.016546"
      ]
     },
     "execution_count": 35,
     "metadata": {},
     "output_type": "execute_result"
    }
   ],
   "source": [
    "gbt = {'Feature': optimised_gbt.feature_names_in_, 'Importance': optimised_gbt.feature_importances_}\n",
    "df_gbt = pd.DataFrame(gbt)\n",
    "df_gbt = df_gbt.sort_values(by = 'Importance', ascending = False, ignore_index =True)\n",
    "df_gbt.head(10)"
   ]
  },
  {
   "cell_type": "code",
   "execution_count": 36,
   "metadata": {
    "id": "ppWVSrfSdlWz"
   },
   "outputs": [
    {
     "name": "stdout",
     "output_type": "stream",
     "text": [
      "       precision    recall        f1   roc_auc    f-beta\n",
      "Train   0.979412  0.960712  0.969972  0.998479  0.964395\n",
      "\n",
      "Confusion matrix: \n",
      "[[ 5233   214]\n",
      " [  110 13509]]\n",
      "      precision    recall        f1   roc_auc    f-beta\n",
      "Test   0.726744  0.690608  0.708215  0.976488  0.697545\n",
      "\n",
      "Confusion matrix: \n",
      "[[ 125   56]\n",
      " [  47 3348]]\n"
     ]
    }
   ],
   "source": [
    "model_results(optimised_gbt, X_resampled, y_resampled, \"Train\")\n",
    "model_results(optimised_gbt, X_test, y_test, \"Test\")"
   ]
  },
  {
   "cell_type": "code",
   "execution_count": 37,
   "metadata": {
    "id": "FZII06jZdlb8"
   },
   "outputs": [
    {
     "data": {
      "image/png": "[encoded data removed]",
      "text/plain": [
       "<Figure size 432x288 with 1 Axes>"
      ]
     },
     "metadata": {
      "needs_background": "light"
     },
     "output_type": "display_data"
    }
   ],
   "source": [
    "y_score = optimised_gbt.predict_proba(X_test)[:, 1]\n",
    "\n",
    "#calculate precision and recall\n",
    "precision, recall, thresholds = precision_recall_curve(y_test, y_score)\n",
    "\n",
    "#create precision recall curve\n",
    "fig, ax = plt.subplots()\n",
    "ax.plot(recall, precision, color='purple')\n",
    "\n",
    "#add axis labels to plot\n",
    "ax.set_title('Precision-Recall Curve')\n",
    "ax.set_ylabel('Precision')\n",
    "ax.set_xlabel('Recall')\n",
    "\n",
    "#display plot\n",
    "plt.show()"
   ]
  },
  {
   "cell_type": "markdown",
   "metadata": {
    "id": "8sLaFKDoaIMj",
    "tags": []
   },
   "source": [
    "### Support Vector Machine"
   ]
  },
  {
   "cell_type": "code",
   "execution_count": 38,
   "metadata": {
    "id": "aL2i7BLGgvWj"
   },
   "outputs": [
    {
     "data": {
      "text/html": [
       "<style>#sk-container-id-2 {color: black;background-color: white;}#sk-container-id-2 pre{padding: 0;}#sk-container-id-2 div.sk-toggleable {background-color: white;}#sk-container-id-2 label.sk-toggleable__label {cursor: pointer;display: block;width: 100%;margin-bottom: 0;padding: 0.3em;box-sizing: border-box;text-align: center;}#sk-container-id-2 label.sk-toggleable__label-arrow:before {content: \"▸\";float: left;margin-right: 0.25em;color: #696969;}#sk-container-id-2 label.sk-toggleable__label-arrow:hover:before {color: black;}#sk-container-id-2 div.sk-estimator:hover label.sk-toggleable__label-arrow:before {color: black;}#sk-container-id-2 div.sk-toggleable__content {max-height: 0;max-width: 0;overflow: hidden;text-align: left;background-color: #f0f8ff;}#sk-container-id-2 div.sk-toggleable__content pre {margin: 0.2em;color: black;border-radius: 0.25em;background-color: #f0f8ff;}#sk-container-id-2 input.sk-toggleable__control:checked~div.sk-toggleable__content {max-height: 200px;max-width: 100%;overflow: auto;}#sk-container-id-2 input.sk-toggleable__control:checked~label.sk-toggleable__label-arrow:before {content: \"▾\";}#sk-container-id-2 div.sk-estimator input.sk-toggleable__control:checked~label.sk-toggleable__label {background-color: #d4ebff;}#sk-container-id-2 div.sk-label input.sk-toggleable__control:checked~label.sk-toggleable__label {background-color: #d4ebff;}#sk-container-id-2 input.sk-hidden--visually {border: 0;clip: rect(1px 1px 1px 1px);clip: rect(1px, 1px, 1px, 1px);height: 1px;margin: -1px;overflow: hidden;padding: 0;position: absolute;width: 1px;}#sk-container-id-2 div.sk-estimator {font-family: monospace;background-color: #f0f8ff;border: 1px dotted black;border-radius: 0.25em;box-sizing: border-box;margin-bottom: 0.5em;}#sk-container-id-2 div.sk-estimator:hover {background-color: #d4ebff;}#sk-container-id-2 div.sk-parallel-item::after {content: \"\";width: 100%;border-bottom: 1px solid gray;flex-grow: 1;}#sk-container-id-2 div.sk-label:hover label.sk-toggleable__label {background-color: #d4ebff;}#sk-container-id-2 div.sk-serial::before {content: \"\";position: absolute;border-left: 1px solid gray;box-sizing: border-box;top: 0;bottom: 0;left: 50%;z-index: 0;}#sk-container-id-2 div.sk-serial {display: flex;flex-direction: column;align-items: center;background-color: white;padding-right: 0.2em;padding-left: 0.2em;position: relative;}#sk-container-id-2 div.sk-item {position: relative;z-index: 1;}#sk-container-id-2 div.sk-parallel {display: flex;align-items: stretch;justify-content: center;background-color: white;position: relative;}#sk-container-id-2 div.sk-item::before, #sk-container-id-2 div.sk-parallel-item::before {content: \"\";position: absolute;border-left: 1px solid gray;box-sizing: border-box;top: 0;bottom: 0;left: 50%;z-index: -1;}#sk-container-id-2 div.sk-parallel-item {display: flex;flex-direction: column;z-index: 1;position: relative;background-color: white;}#sk-container-id-2 div.sk-parallel-item:first-child::after {align-self: flex-end;width: 50%;}#sk-container-id-2 div.sk-parallel-item:last-child::after {align-self: flex-start;width: 50%;}#sk-container-id-2 div.sk-parallel-item:only-child::after {width: 0;}#sk-container-id-2 div.sk-dashed-wrapped {border: 1px dashed gray;margin: 0 0.4em 0.5em 0.4em;box-sizing: border-box;padding-bottom: 0.4em;background-color: white;}#sk-container-id-2 div.sk-label label {font-family: monospace;font-weight: bold;display: inline-block;line-height: 1.2em;}#sk-container-id-2 div.sk-label-container {text-align: center;}#sk-container-id-2 div.sk-container {/* jupyter's `normalize.less` sets `[hidden] { display: none; }` but bootstrap.min.css set `[hidden] { display: none !important; }` so we also need the `!important` here to be able to override the default hidden behavior on the sphinx rendered scikit-learn.org. See: https://github.com/scikit-learn/scikit-learn/issues/21755 */display: inline-block !important;position: relative;}#sk-container-id-2 div.sk-text-repr-fallback {display: none;}</style><div id=\"sk-container-id-2\" class=\"sk-top-container\"><div class=\"sk-text-repr-fallback\"><pre>SVC(probability=True, random_state=42)</pre><b>In a Jupyter environment, please rerun this cell to show the HTML representation or trust the notebook. <br />On GitHub, the HTML representation is unable to render, please try loading this page with nbviewer.org.</b></div><div class=\"sk-container\" hidden><div class=\"sk-item\"><div class=\"sk-estimator sk-toggleable\"><input class=\"sk-toggleable__control sk-hidden--visually\" id=\"sk-estimator-id-2\" type=\"checkbox\" checked><label for=\"sk-estimator-id-2\" class=\"sk-toggleable__label sk-toggleable__label-arrow\">SVC</label><div class=\"sk-toggleable__content\"><pre>SVC(probability=True, random_state=42)</pre></div></div></div></div></div>"
      ],
      "text/plain": [
       "SVC(probability=True, random_state=42)"
      ]
     },
     "execution_count": 38,
     "metadata": {},
     "output_type": "execute_result"
    }
   ],
   "source": [
    "clf_svm = svm.SVC(probability=True, random_state=42)\n",
    "clf_svm.fit(X_resampled, y_resampled)"
   ]
  },
  {
   "cell_type": "code",
   "execution_count": 39,
   "metadata": {
    "id": "p8pDxBOFdJBy"
   },
   "outputs": [
    {
     "name": "stdout",
     "output_type": "stream",
     "text": [
      "       precision    recall        f1   roc_auc    f-beta\n",
      "Train   0.992224  0.983844  0.988016  0.999654  0.985509\n",
      "\n",
      "Confusion matrix: \n",
      "[[ 5359    88]\n",
      " [   42 13577]]\n"
     ]
    }
   ],
   "source": [
    "model_results(clf_svm, X_resampled, y_resampled, \"Train\")\n"
   ]
  },
  {
   "cell_type": "code",
   "execution_count": 40,
   "metadata": {
    "id": "phXRV-5NdS_X"
   },
   "outputs": [
    {
     "name": "stdout",
     "output_type": "stream",
     "text": [
      "      precision    recall        f1   roc_auc    f-beta\n",
      "Test   0.903846  0.779006  0.836795  0.977757  0.801136\n",
      "\n",
      "Confusion matrix: \n",
      "[[ 141   40]\n",
      " [  15 3380]]\n"
     ]
    }
   ],
   "source": [
    "model_results(clf_svm, X_test, y_test, \"Test\")"
   ]
  },
  {
   "cell_type": "code",
   "execution_count": 41,
   "metadata": {
    "id": "4puv3-aEhG2K"
   },
   "outputs": [],
   "source": [
    "from sklearn.model_selection import GridSearchCV\n",
    "def model_build2(base_estimator, parameters):\n",
    "    \n",
    "    clf = model_selection.GridSearchCV(\n",
    "        base_estimator, \n",
    "        parameters,\n",
    "        cv=5)\n",
    "    \n",
    "    clf.fit(X_resampled, y_resampled)\n",
    "    \n",
    "    print('best score:', clf.best_score_)\n",
    "    print('best parameters: ', clf.best_params_)\n",
    "\n",
    "    optimised = clf.best_estimator_\n",
    "    return optimised"
   ]
  },
  {
   "cell_type": "code",
   "execution_count": null,
   "metadata": {
    "id": "nz8VK09lg9hx"
   },
   "outputs": [],
   "source": [
    "svm_grid = {'C': [0.1, 1.0, 10]}\n",
    "\n",
    "optimised_svm = model_build2(svm.SVC(random_state=2022, probability=True), svm_grid)"
   ]
  },
  {
   "cell_type": "code",
   "execution_count": null,
   "metadata": {
    "id": "WagPjiqJd-kW"
   },
   "outputs": [],
   "source": [
    "model_results(optimised_svm, X_resampled, y_resampled, \"Train\")\n",
    "model_results(optimised_svm, X_test, y_test, \"Test\")"
   ]
  },
  {
   "cell_type": "code",
   "execution_count": null,
   "metadata": {
    "id": "MXYLN01a4Ft7"
   },
   "outputs": [],
   "source": [
    "y_score = optimised_svm.predict_proba(X_test)[:, 1]\n",
    "\n",
    "#calculate precision and recall\n",
    "precision, recall, thresholds = precision_recall_curve(y_test, y_score)\n",
    "\n",
    "#create precision recall curve\n",
    "fig, ax = plt.subplots()\n",
    "ax.plot(recall, precision, color='purple')\n",
    "\n",
    "#add axis labels to plot\n",
    "ax.set_title('Precision-Recall Curve')\n",
    "ax.set_ylabel('Precision')\n",
    "ax.set_xlabel('Recall')\n",
    "\n",
    "#display plot\n",
    "plt.show()"
   ]
  },
  {
   "cell_type": "markdown",
   "metadata": {
    "id": "Eck-UmZgaPaB",
    "tags": []
   },
   "source": [
    "### Neural Network"
   ]
  },
  {
   "cell_type": "code",
   "execution_count": null,
   "metadata": {
    "id": "BUV2EJ_Ucaj_"
   },
   "outputs": [],
   "source": [
    "import tensorflow as tf\n",
    "import keras\n",
    "from keras.models import Sequential\n",
    "from keras.layers import Dense, Dropout, Flatten, BatchNormalization, Activation,Embedding,GlobalAveragePooling1D\n",
    "from keras.wrappers.scikit_learn import KerasClassifier\n",
    "from keras import regularizers"
   ]
  },
  {
   "cell_type": "code",
   "execution_count": null,
   "metadata": {
    "colab": {
     "base_uri": "https://localhost:8080/"
    },
    "id": "YXv1EG6NeZor",
    "outputId": "04dd15b2-6bfe-4bd3-8179-52b9215c3296"
   },
   "outputs": [],
   "source": [
    "X_resampled_nn.shape"
   ]
  },
  {
   "cell_type": "code",
   "execution_count": null,
   "metadata": {
    "id": "YlXlvCY728x4"
   },
   "outputs": [],
   "source": [
    "def create_model(optimizer='adam',dropout_rate=0.2):\n",
    "    model = Sequential()\n",
    "\n",
    "    model.add(Dense(128, input_shape=(1130,), activation='relu'))\n",
    "    model.add(Dropout(dropout_rate))\n",
    "    model.add(BatchNormalization())\n",
    "\n",
    "    model.add(Dense(64, activation='relu'))\n",
    "    model.add(Dropout(dropout_rate))\n",
    "    model.add(BatchNormalization())\n",
    "    \n",
    "    model.add(Dense(64, activation='relu'))\n",
    "    model.add(Dropout(dropout_rate))\n",
    "    model.add(BatchNormalization())\n",
    "\n",
    "    model.add(Dense(16, activation='relu'))\n",
    "    model.add(Dropout(dropout_rate))\n",
    "    model.add(BatchNormalization())\n",
    "\n",
    "    model.add(Dense(1))\n",
    "    model.add(Activation('sigmoid'))\n",
    "\n",
    "    # compile the model\n",
    "    model.compile(loss='binary_crossentropy', \n",
    "                  optimizer=optimizer, \n",
    "                  metrics=[tf.keras.metrics.Precision(), tf.keras.metrics.Recall()])\n",
    "    \n",
    "    return model"
   ]
  },
  {
   "cell_type": "code",
   "execution_count": null,
   "metadata": {
    "id": "7xMdk30bmc9Q"
   },
   "outputs": [],
   "source": [
    "X_resampled_nn = np.asarray(X_resampled_nn)\n",
    "y_resampled_nn = np.asarray(y_resampled_nn)\n",
    "X_test_nn = np.asarray(X_test_nn)\n",
    "y_test_nn = np.asarray(y_test)"
   ]
  },
  {
   "cell_type": "code",
   "execution_count": null,
   "metadata": {
    "id": "uBNF59KCcu5U"
   },
   "outputs": [],
   "source": [
    "model = KerasClassifier(build_fn=create_model, verbose=0, validation_split=0.2)\n",
    "# define the grid search parameters\n",
    "\n",
    "batch_size = [8,16,24,32]\n",
    "epochs = [20,30,40]\n",
    "optimizer = ['SGD', 'RMSprop', 'Adam']\n",
    "dropout_rate = [0.3, 0.4, 0.5, 0.6]\n",
    "\n",
    "param_grid = dict(batch_size=batch_size, \n",
    "                  epochs=epochs,\n",
    "                  optimizer=optimizer,\n",
    "                  dropout_rate=dropout_rate)\n",
    "\n",
    "grid = RandomizedSearchCV(estimator=model, \n",
    "                          n_iter=10,\n",
    "                          param_distributions=param_grid, \n",
    "                          n_jobs=-1, \n",
    "                          cv=10, \n",
    "                          scoring ='recall',\n",
    "                          random_state=42)\n",
    "\n",
    "grid_result = grid.fit(X_resampled_nn, y_resampled_nn, validation_split=0.4)"
   ]
  },
  {
   "cell_type": "markdown",
   "metadata": {
    "id": "duInICEsc1Ve"
   },
   "source": [
    "#### Evaluating best model of SearchCV"
   ]
  },
  {
   "cell_type": "code",
   "execution_count": null,
   "metadata": {
    "id": "4YGUPHKWc8fG"
   },
   "outputs": [],
   "source": [
    "# summarize results\n",
    "print(\"Best: %f using %s\" % (grid_result.best_score_, grid_result.best_params_))\n",
    "means = grid_result.cv_results_['mean_test_score']\n",
    "stds = grid_result.cv_results_['std_test_score']\n",
    "params = grid_result.cv_results_['params']\n",
    "for mean, stdev, param in zip(means, stds, params):\n",
    "    print(\"%f (%f) with: %r\" % (mean, stdev, param))"
   ]
  },
  {
   "cell_type": "code",
   "execution_count": null,
   "metadata": {
    "id": "r35I0-1Pc8hk"
   },
   "outputs": [],
   "source": [
    "# train the best estimator\n",
    "\n",
    "best=grid_result.best_estimator_\n",
    "history = best.fit(X_resampled_nn, y_resampled_nn, verbose=1, validation_split=0.3)"
   ]
  },
  {
   "cell_type": "code",
   "execution_count": null,
   "metadata": {
    "id": "BSSCcvE5c8mH"
   },
   "outputs": [],
   "source": [
    "# evaluation of model\n",
    "\n",
    "# Prediction of test set\n",
    "Y_pred = best.predict(X_test_nn)\n",
    "\n",
    "# classification report, confusion matrix\n",
    "print(classification_report(y_true=y_test_nn, y_pred=Y_pred))\n",
    "print(confusion_matrix(y_test_nn,Y_pred,labels=[1,0]))\n",
    "\n",
    "ln_loss = history.history['loss']\n",
    "ln_val_loss = history.history['val_loss']\n",
    "ln_p = history.history[list(history.history.keys())[1]]           #precision\n",
    "ln_val_p = history.history[list(history.history.keys())[4]]       #val_precision\n",
    "ln_r = history.history[list(history.history.keys())[2]]           #recall\n",
    "ln_val_r = history.history[list(history.history.keys())[5]]       #val_recall\n",
    "\n",
    "#precision plot\n",
    "plt.figure(figsize=(20,5))\n",
    "plt.subplot(131)\n",
    "plt.plot(ln_p)\n",
    "plt.plot(ln_val_p)\n",
    "plt.ylabel('Precision')\n",
    "plt.xlabel('Epoche')\n",
    "plt.legend(['Training', 'Validation'], loc='lower right')\n",
    "\n",
    "#recall plot\n",
    "plt.subplot(132)\n",
    "plt.plot(ln_r)\n",
    "plt.plot(ln_val_r)\n",
    "plt.ylabel('Recall')\n",
    "plt.xlabel('Epoche')\n",
    "plt.legend(['Training', 'Validation'], loc='lower right')\n",
    "\n",
    "#loss plot\n",
    "plt.subplot(133)\n",
    "plt.plot(ln_loss)\n",
    "plt.plot(ln_val_loss)\n",
    "plt.ylabel('Loss')\n",
    "plt.xlabel('Epoche')\n",
    "plt.legend(['Training', 'Validation'], loc='lower right')"
   ]
  },
  {
   "cell_type": "markdown",
   "metadata": {
    "id": "o9LCUaBYdfE6"
   },
   "source": [
    "#### Tuning the best CV model"
   ]
  },
  {
   "cell_type": "code",
   "execution_count": null,
   "metadata": {
    "id": "2-CTozfmddHI"
   },
   "outputs": [],
   "source": [
    "\n",
    "best=grid_result.best_estimator_\n",
    "best_tuned_1 = best.fit(X_resampled_nn, y_resampled_nn, epochs=100)"
   ]
  },
  {
   "cell_type": "code",
   "execution_count": null,
   "metadata": {
    "id": "bWRedoWnddJW"
   },
   "outputs": [],
   "source": [
    "#evaluation of tuned model\n",
    "\n",
    "#rf_matrixt = metrics.confusion_matrix(y_test, y_pred_test, labels=[1,0])\n",
    "\n",
    "Y_pred_2 = best.predict(np.array(X_test_nn))\n",
    "print(classification_report(y_true=y_test_nn, y_pred=Y_pred_2))\n",
    "print(confusion_matrix(y_test_nn,Y_pred_2,labels=[1,0]))\n",
    "\n",
    "#change all _2 suffixes to \n",
    "\n",
    "ln_loss = best_tuned_1.history['loss']\n",
    "ln_val_loss = best_tuned_1.history['val_loss']\n",
    "ln_p = best_tuned_1.history[list(best_tuned_1.history.keys())[1]]               #precision\n",
    "ln_val_p = best_tuned_1.history[list(best_tuned_1.history.keys())[4]]           #val_precision\n",
    "ln_r = best_tuned_1.history[list(best_tuned_1.history.keys())[2]]               #recall\n",
    "ln_val_r = best_tuned_1.history[list(best_tuned_1.history.keys())[5]]           #val_recall\n",
    "\n",
    "\n",
    "plt.figure(figsize=(20,5))\n",
    "plt.subplot(131)\n",
    "plt.plot(ln_p)\n",
    "plt.plot(ln_val_p)\n",
    "plt.ylabel('Precision')\n",
    "plt.xlabel('Epoche')\n",
    "plt.legend(['Training', 'Validation'], loc='lower right')\n",
    "\n",
    "plt.subplot(132)\n",
    "plt.plot(ln_r)\n",
    "plt.plot(ln_val_r)\n",
    "plt.ylabel('Recall')\n",
    "plt.xlabel('Epoche')\n",
    "plt.legend(['Training', 'Validation'], loc='lower right')\n",
    "\n",
    "plt.subplot(133)\n",
    "plt.plot(ln_loss)\n",
    "plt.plot(ln_val_loss)\n",
    "plt.ylabel('Loss')\n",
    "plt.xlabel('Epoche')\n",
    "plt.legend(['Training', 'Validation'], loc='lower right')\n"
   ]
  },
  {
   "cell_type": "code",
   "execution_count": null,
   "metadata": {
    "id": "ti2aCx87dnzn"
   },
   "outputs": [],
   "source": [
    "#Precision recall curve\n",
    "\n",
    "from sklearn.metrics import precision_recall_curve\n",
    "import matplotlib.pyplot as plt\n",
    "\n",
    "best=grid_result.best_estimator_\n",
    "y_score = best.predict_proba(np.array(X_test_nn))[:, 1]\n",
    "\n",
    "#calculate precision and recall\n",
    "precision, recall, thresholds = precision_recall_curve(y_test_nn, y_score)\n",
    "\n",
    "\n",
    "#create precision recall curve\n",
    "fig, ax = plt.subplots()\n",
    "\n",
    "fig.set_size_inches(9,6)\n",
    "ax.plot(recall, precision, color='purple')\n",
    "\n",
    "#add axis labels to plot\n",
    "ax.set_title('Precision-Recall Curve of Best Neural Network Model')\n",
    "ax.set_ylabel('Precision')\n",
    "ax.set_xlabel('Recall')\n",
    "\n",
    "#display plot\n",
    "plt.show()"
   ]
  },
  {
   "cell_type": "markdown",
   "metadata": {
    "id": "r011wwfXdxa2",
    "jp-MarkdownHeadingCollapsed": true,
    "tags": []
   },
   "source": [
    "### End of Project"
   ]
  }
 ],
 "metadata": {
  "colab": {
   "collapsed_sections": [
    "nWnQZ2Iockv1",
    "Yu9X449GcfgK",
    "duInICEsc1Ve",
    "o9LCUaBYdfE6"
   ],
   "machine_shape": "hm",
   "name": "“Untitled0.ipynb”的副本",
   "provenance": []
  },
  "gpuClass": "standard",
  "kernelspec": {
   "display_name": "Python 3 (ipykernel)",
   "language": "python",
   "name": "python3"
  },
  "language_info": {
   "codemirror_mode": {
    "name": "ipython",
    "version": 3
   },
   "file_extension": ".py",
   "mimetype": "text/x-python",
   "name": "python",
   "nbconvert_exporter": "python",
   "pygments_lexer": "ipython3",
   "version": "3.9.7"
  }
 },
 "nbformat": 4,
 "nbformat_minor": 4
}
