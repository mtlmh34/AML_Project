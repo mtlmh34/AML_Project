{
  "cells": [
    {
      "cell_type": "markdown",
      "metadata": {
        "id": "view-in-github",
        "colab_type": "text"
      },
      "source": [
        "<a href=\"https://colab.research.google.com/github/mtlmh34/AML_Project/blob/main/grp%20proj1.4.ipynb\" target=\"_parent\"><img src=\"https://colab.research.google.com/assets/colab-badge.svg\" alt=\"Open In Colab\"/></a>"
      ]
    },
    {
      "cell_type": "code",
      "execution_count": 51,
      "metadata": {
        "id": "b8zPpvpM4-UX",
        "outputId": "ca4e381e-e91c-4e9d-f7ae-a4fbbb578882",
        "colab": {
          "base_uri": "https://localhost:8080/"
        }
      },
      "outputs": [
        {
          "output_type": "stream",
          "name": "stderr",
          "text": [
            "[nltk_data] Downloading package stopwords to /root/nltk_data...\n",
            "[nltk_data]   Package stopwords is already up-to-date!\n",
            "[nltk_data] Downloading package wordnet to /root/nltk_data...\n",
            "[nltk_data]   Package wordnet is already up-to-date!\n",
            "[nltk_data] Downloading package omw-1.4 to /root/nltk_data...\n",
            "[nltk_data]   Package omw-1.4 is already up-to-date!\n"
          ]
        }
      ],
      "source": [
        "import numpy as np\n",
        "import pandas as pd\n",
        "import re\n",
        "import nltk\n",
        "nltk.download('stopwords')\n",
        "nltk.download('wordnet')\n",
        "nltk.download('omw-1.4')\n",
        "from nltk.tokenize import RegexpTokenizer\n",
        "from nltk.stem import WordNetLemmatizer\n",
        "from nltk.corpus import stopwords\n",
        "from sklearn.feature_extraction.text import TfidfVectorizer\n",
        "from sklearn import linear_model, tree, model_selection, ensemble, svm, metrics, naive_bayes\n",
        "\n"
      ]
    },
    {
      "cell_type": "code",
      "execution_count": 52,
      "metadata": {
        "id": "L_qvOIoouWbZ"
      },
      "outputs": [],
      "source": [
        "df=pd.read_csv('fake_job_postings.csv')"
      ]
    },
    {
      "cell_type": "code",
      "execution_count": 53,
      "metadata": {
        "id": "wJQF_Wpysx6B"
      },
      "outputs": [],
      "source": [
        "#--------1. split the columns to country, state, and city\n",
        "\n",
        "# to use country only?\n",
        "df['country']=df.location.str.split(',',expand=True)[:][0]\n",
        "\n",
        "df['state']=df.location.str.split(',',expand=True)[:][1]\n",
        "df['city']=df.location.str.split(',',expand=True)[:][2]"
      ]
    },
    {
      "cell_type": "code",
      "execution_count": 54,
      "metadata": {
        "id": "62UzEgHxsx3P"
      },
      "outputs": [],
      "source": [
        "#----------2. replacing different kinds of missing value to np.nan\n",
        "df.state = df.state.str.strip()\n",
        "df.state.fillna(value=np.nan, inplace=True)\n",
        "df.state.replace('', np.nan, inplace=True)\n",
        "df.state.replace(' ', np.nan, inplace=True)\n",
        "\n",
        "\n",
        "#df['state'].sort_values().unique()"
      ]
    },
    {
      "cell_type": "code",
      "execution_count": 55,
      "metadata": {
        "id": "ELs_Ntfesx0M"
      },
      "outputs": [],
      "source": [
        "#----------3. clear the whitespaces and signs at the start/end\n",
        "\n",
        "df.city = df.city.str.strip(' /:\\\\')\n",
        "\n",
        "#---------4. replacing different kinds of missing value to np.nan\n",
        "df.city.fillna(value=np.nan, inplace=True)\n",
        "df.city.replace('', np.nan, inplace=True)\n",
        "df.city.replace(' ', np.nan, inplace=True)\n",
        "df['city']=df.city.str.lower()\n",
        "#------\n",
        "\n",
        "#print(df['city'].sort_values().unique().tolist())"
      ]
    },
    {
      "cell_type": "code",
      "execution_count": 56,
      "metadata": {
        "id": "j6z_cs7Psxr4"
      },
      "outputs": [],
      "source": [
        "df.salary_range.fillna(value=np.nan, inplace=True)\n",
        "df.salary_range.replace('', np.nan, inplace=True)\n",
        "df.salary_range.replace(' ', np.nan, inplace=True)\n",
        "\n",
        "#---------4. spilt salary range into min and max\n",
        "\n",
        "df['min_salary']=df.salary_range.str.split('-',expand=True)[:][0]\n",
        "df['max_salary']=df.salary_range.str.split('-',expand=True)[:][1]\n",
        "\n",
        "df.max_salary.fillna(value=np.nan, inplace=True)"
      ]
    },
    {
      "cell_type": "code",
      "execution_count": 57,
      "metadata": {
        "id": "H-JNUhuWs4Mf"
      },
      "outputs": [],
      "source": [
        "#----------5. for entry of salary_range as date, max and min salary are grouped as null value\n",
        "df.loc[df['max_salary'].isin(['Apr', 'Dec', 'Jun', 'Nov', 'Oct', 'Sep']),['max_salary', 'min_salary']]=np.nan\n",
        "df.loc[df['min_salary'].isin(['Dec', 'Jun', 'Oct']),['max_salary', 'min_salary']]=np.nan\n",
        "\n",
        "#convert them into numerical value\n",
        "df[['min_salary','max_salary']] = df[['min_salary','max_salary']].astype(float)\n",
        "\n",
        "#for regression model, need to impute NaN values to median/mean\n",
        "# df['max_salary'].fillna(value=df['max_salary'].mean(), inplace=True)\n",
        "# df['min_salary'].fillna(value=df['min_salary'].mean(), inplace=True)"
      ]
    },
    {
      "cell_type": "code",
      "execution_count": 58,
      "metadata": {
        "id": "2OkZX02ztSUM"
      },
      "outputs": [],
      "source": [
        "df.drop(['location', 'salary_range'], axis = 1, inplace = True)"
      ]
    },
    {
      "cell_type": "code",
      "execution_count": null,
      "metadata": {
        "id": "P_ZZmaMPs4Uo"
      },
      "outputs": [],
      "source": [
        "#-------------------end of processing for column salary_range and location"
      ]
    },
    {
      "cell_type": "code",
      "execution_count": null,
      "metadata": {
        "id": "JZmSGfnss4Xv"
      },
      "outputs": [],
      "source": [
        "#-------------------start cleaning for text columns"
      ]
    },
    {
      "cell_type": "code",
      "execution_count": 59,
      "metadata": {
        "id": "S9-gm9R-s4dd"
      },
      "outputs": [],
      "source": [
        "# this function for preprocessing text is used linked from the next function\n",
        "\n",
        "def preprocess_text(text):\n",
        "    # Tokenise words while ignoring punctuation\n",
        "    tokeniser = RegexpTokenizer(r'(?u)\\b\\w\\w+\\b')\n",
        "    tokens = tokeniser.tokenize(text)\n",
        "    \n",
        "    # Lowercase and lemmatise \n",
        "    lemmatiser = WordNetLemmatizer()\n",
        "    lemmas = [lemmatiser.lemmatize(token.lower(), pos='v') for token in tokens]\n",
        "    \n",
        "    # Remove stopwords\n",
        "    keywords= [lemma for lemma in lemmas if lemma not in stopwords.words('english')]\n",
        "    return keywords"
      ]
    },
    {
      "cell_type": "code",
      "execution_count": 12,
      "metadata": {
        "id": "DqahbPfqs4jT"
      },
      "outputs": [],
      "source": [
        "df['text'] = df.apply(lambda row: (str(row['title']) + ' ' + \n",
        "                                   str(row['company_profile']) + ' ' + \n",
        "                                   str(row['description']) + ' ' + \n",
        "                                   str(row['requirements']) + ' ' + \n",
        "                                   str(row['benefits'])), axis = 1)\n",
        "\n",
        "# Fill empty columns with \"Unspecified\"\n",
        "df['text'] = df['text'].fillna(\"Unspecified\")\n",
        "    \n",
        "# Create an instance of TfidfVectorizer\n",
        "vectoriser = TfidfVectorizer(analyzer=preprocess_text, ngram_range = (1,2),   #TRY ADJUSTING ngram_range and min_df, max_df\n",
        "                                min_df= 0.01, max_df= 0.6)\n",
        "\n",
        "# Fit to the data and transform to feature matrix\n",
        "text_column = vectoriser.fit_transform(df['text'])\n",
        "\n",
        "# Convert sparse matrix to dataframe\n",
        "text_column = pd.DataFrame.sparse.from_spmatrix(text_column)\n",
        "\n",
        "# Save mapping on which index refers to which words\n",
        "col_map = {v:k for k, v in vectoriser.vocabulary_.items()}\n",
        "\n",
        "# Rename each column using the mapping\n",
        "for col in text_column.columns:\n",
        "    text_column.rename(columns={col: col_map[col]}, inplace=True)\n",
        "    "
      ]
    },
    {
      "cell_type": "code",
      "execution_count": 13,
      "metadata": {
        "id": "FZevgIeuEQVu"
      },
      "outputs": [],
      "source": [
        "columns_to_remove = ['company_profile', 'description', 'requirements', 'benefits']\n",
        "\n",
        "for i in columns_to_remove:\n",
        "  df[i] = df[i].fillna(\"unspecified\")\n",
        "\n",
        "df['title'] = df['title'].fillna(\"Unspecified\")\n",
        "df['requirements'] = df['requirements'].fillna(\"Unspecified\")\n",
        "df['benefits'] = df['benefits'].fillna(\"Unspecified\")\n",
        "df['company_profile'] = df['company_profile'].fillna(\"Unspecified\")\n",
        "df['description'] = df['description'].fillna(\"Unspecified\")\n",
        "\n",
        "df['has_title'] = df['title'].apply(lambda x: 0 if x == \"unspecified\" else 1)\n",
        "df['has_requirements'] = df['company_profile'].apply(lambda x: 0 if x == \"unspecified\" else 1)\n",
        "df['has_comp_profile'] = df['description'].apply(lambda x: 0 if x == \"unspecified\" else 1)\n",
        "df['has_description'] = df['requirements'].apply(lambda x: 0 if x == \"unspecified\" else 1)\n",
        "df['has_benefits'] = df['benefits'].apply(lambda x: 0 if x == \"unspecified\" else 1)"
      ]
    },
    {
      "cell_type": "code",
      "execution_count": 14,
      "metadata": {
        "id": "6ee6SyQ5B5QU"
      },
      "outputs": [],
      "source": [
        "df = pd.concat([df, text_column], axis =1, ignore_index=False)\n",
        "\n",
        "df.drop(columns= ['title', 'text', 'job_id', 'company_profile', 'description', 'requirements', 'benefits'], axis = 1, inplace = True)"
      ]
    },
    {
      "cell_type": "code",
      "execution_count": null,
      "metadata": {
        "id": "2RYswSLVCK29"
      },
      "outputs": [],
      "source": [
        "#-------------------end cleaning for text columns"
      ]
    },
    {
      "cell_type": "code",
      "execution_count": 16,
      "metadata": {
        "id": "uoSk0hYgCK0j"
      },
      "outputs": [],
      "source": [
        "df_trial = df.copy(deep = True)"
      ]
    },
    {
      "cell_type": "code",
      "execution_count": null,
      "metadata": {
        "id": "qxYzQcZICKtt"
      },
      "outputs": [],
      "source": [
        "# This column is not run because there are missing fields in this column and SMOTE cannot be performed when there are missing fields\n",
        "#from sklearn.preprocessing import StandardScaler\n",
        "#trial = pd.concat([df['min_salary'], df['max_salary']], axis = 1)\n",
        "\n",
        "#scaler = StandardScaler()\n",
        "#std_trial = scaler.fit_transform(trial)\n",
        "#salary_df = pd.DataFrame(data = std_trial, columns={'min_salary', 'max_salary'})\n",
        "\n",
        "# df_trial.drop(columns=['min_salary', 'max_salary'], axis=1, inplace=True)\n",
        "# df_trial = pd.concat([df_trial, salary_df], axis = 1)"
      ]
    },
    {
      "cell_type": "code",
      "execution_count": 17,
      "metadata": {
        "id": "pXOlN5D7Lh1k"
      },
      "outputs": [],
      "source": [
        "y_trial = df_trial['fraudulent']\n",
        "df_trial.drop(columns='fraudulent', axis = 1, inplace = True)\n",
        "\n",
        "# columns with missing fields need to be dropped for SMOTE to work\n",
        "df_trial.dropna(axis = 1, inplace = True)"
      ]
    },
    {
      "cell_type": "code",
      "execution_count": 18,
      "metadata": {
        "colab": {
          "base_uri": "https://localhost:8080/"
        },
        "id": "NeVPGq-nfF8a",
        "outputId": "d85780b3-d872-47fb-d845-2946cd3720b3"
      },
      "outputs": [
        {
          "output_type": "stream",
          "name": "stderr",
          "text": [
            "/usr/local/lib/python3.7/dist-packages/sklearn/utils/validation.py:625: UserWarning: pandas.DataFrame with sparse columns found.It will be converted to a dense numpy array.\n",
            "  \"pandas.DataFrame with sparse columns found.\"\n"
          ]
        }
      ],
      "source": [
        "# Perform SMOTE and train-test-split\n",
        "\n",
        "from imblearn.combine import SMOTETomek\n",
        "from sklearn.model_selection import train_test_split\n",
        "smt = SMOTETomek(random_state=42,sampling_strategy=0.4)\n",
        "X_train, X_test, y_train, y_test = train_test_split(df_trial, y_trial, test_size=0.2, random_state=42)\n",
        "X_resample, y_resampled = smt.fit_resample(X_train, y_train)"
      ]
    },
    {
      "cell_type": "code",
      "execution_count": 20,
      "metadata": {
        "colab": {
          "base_uri": "https://localhost:8080/"
        },
        "id": "ivGtksTpc7Xs",
        "outputId": "3ad86b82-f0b9-46c2-f7f2-dadaa4494b5b"
      },
      "outputs": [
        {
          "output_type": "execute_result",
          "data": {
            "text/plain": [
              "(0    13619\n",
              " 1     5447\n",
              " Name: fraudulent, dtype: int64, 0    17014\n",
              " 1      866\n",
              " Name: fraudulent, dtype: int64)"
            ]
          },
          "metadata": {},
          "execution_count": 20
        }
      ],
      "source": [
        "# to check the ratio of fraud-nonfraud after SMOTE\n",
        "y_resampled.value_counts(), y_trial.value_counts()"
      ]
    },
    {
      "cell_type": "code",
      "execution_count": null,
      "metadata": {
        "colab": {
          "base_uri": "https://localhost:8080/"
        },
        "id": "rxJLhEuRX2-e",
        "outputId": "fbcc0813-a1b8-4a62-9803-30689b395520"
      },
      "outputs": [
        {
          "name": "stderr",
          "output_type": "stream",
          "text": [
            "c:\\Users\\bdbai\\miniconda3\\lib\\site-packages\\sklearn\\utils\\validation.py:758: UserWarning: pandas.DataFrame with sparse columns found.It will be converted to a dense numpy array.\n",
            "  warnings.warn(\n"
          ]
        },
        {
          "data": {
            "text/html": [
              "<style>#sk-container-id-1 {color: black;background-color: white;}#sk-container-id-1 pre{padding: 0;}#sk-container-id-1 div.sk-toggleable {background-color: white;}#sk-container-id-1 label.sk-toggleable__label {cursor: pointer;display: block;width: 100%;margin-bottom: 0;padding: 0.3em;box-sizing: border-box;text-align: center;}#sk-container-id-1 label.sk-toggleable__label-arrow:before {content: \"▸\";float: left;margin-right: 0.25em;color: #696969;}#sk-container-id-1 label.sk-toggleable__label-arrow:hover:before {color: black;}#sk-container-id-1 div.sk-estimator:hover label.sk-toggleable__label-arrow:before {color: black;}#sk-container-id-1 div.sk-toggleable__content {max-height: 0;max-width: 0;overflow: hidden;text-align: left;background-color: #f0f8ff;}#sk-container-id-1 div.sk-toggleable__content pre {margin: 0.2em;color: black;border-radius: 0.25em;background-color: #f0f8ff;}#sk-container-id-1 input.sk-toggleable__control:checked~div.sk-toggleable__content {max-height: 200px;max-width: 100%;overflow: auto;}#sk-container-id-1 input.sk-toggleable__control:checked~label.sk-toggleable__label-arrow:before {content: \"▾\";}#sk-container-id-1 div.sk-estimator input.sk-toggleable__control:checked~label.sk-toggleable__label {background-color: #d4ebff;}#sk-container-id-1 div.sk-label input.sk-toggleable__control:checked~label.sk-toggleable__label {background-color: #d4ebff;}#sk-container-id-1 input.sk-hidden--visually {border: 0;clip: rect(1px 1px 1px 1px);clip: rect(1px, 1px, 1px, 1px);height: 1px;margin: -1px;overflow: hidden;padding: 0;position: absolute;width: 1px;}#sk-container-id-1 div.sk-estimator {font-family: monospace;background-color: #f0f8ff;border: 1px dotted black;border-radius: 0.25em;box-sizing: border-box;margin-bottom: 0.5em;}#sk-container-id-1 div.sk-estimator:hover {background-color: #d4ebff;}#sk-container-id-1 div.sk-parallel-item::after {content: \"\";width: 100%;border-bottom: 1px solid gray;flex-grow: 1;}#sk-container-id-1 div.sk-label:hover label.sk-toggleable__label {background-color: #d4ebff;}#sk-container-id-1 div.sk-serial::before {content: \"\";position: absolute;border-left: 1px solid gray;box-sizing: border-box;top: 0;bottom: 0;left: 50%;z-index: 0;}#sk-container-id-1 div.sk-serial {display: flex;flex-direction: column;align-items: center;background-color: white;padding-right: 0.2em;padding-left: 0.2em;position: relative;}#sk-container-id-1 div.sk-item {position: relative;z-index: 1;}#sk-container-id-1 div.sk-parallel {display: flex;align-items: stretch;justify-content: center;background-color: white;position: relative;}#sk-container-id-1 div.sk-item::before, #sk-container-id-1 div.sk-parallel-item::before {content: \"\";position: absolute;border-left: 1px solid gray;box-sizing: border-box;top: 0;bottom: 0;left: 50%;z-index: -1;}#sk-container-id-1 div.sk-parallel-item {display: flex;flex-direction: column;z-index: 1;position: relative;background-color: white;}#sk-container-id-1 div.sk-parallel-item:first-child::after {align-self: flex-end;width: 50%;}#sk-container-id-1 div.sk-parallel-item:last-child::after {align-self: flex-start;width: 50%;}#sk-container-id-1 div.sk-parallel-item:only-child::after {width: 0;}#sk-container-id-1 div.sk-dashed-wrapped {border: 1px dashed gray;margin: 0 0.4em 0.5em 0.4em;box-sizing: border-box;padding-bottom: 0.4em;background-color: white;}#sk-container-id-1 div.sk-label label {font-family: monospace;font-weight: bold;display: inline-block;line-height: 1.2em;}#sk-container-id-1 div.sk-label-container {text-align: center;}#sk-container-id-1 div.sk-container {/* jupyter's `normalize.less` sets `[hidden] { display: none; }` but bootstrap.min.css set `[hidden] { display: none !important; }` so we also need the `!important` here to be able to override the default hidden behavior on the sphinx rendered scikit-learn.org. See: https://github.com/scikit-learn/scikit-learn/issues/21755 */display: inline-block !important;position: relative;}#sk-container-id-1 div.sk-text-repr-fallback {display: none;}</style><div id=\"sk-container-id-1\" class=\"sk-top-container\"><div class=\"sk-text-repr-fallback\"><pre>DecisionTreeClassifier(random_state=42)</pre><b>In a Jupyter environment, please rerun this cell to show the HTML representation or trust the notebook. <br />On GitHub, the HTML representation is unable to render, please try loading this page with nbviewer.org.</b></div><div class=\"sk-container\" hidden><div class=\"sk-item\"><div class=\"sk-estimator sk-toggleable\"><input class=\"sk-toggleable__control sk-hidden--visually\" id=\"sk-estimator-id-1\" type=\"checkbox\" checked><label for=\"sk-estimator-id-1\" class=\"sk-toggleable__label sk-toggleable__label-arrow\">DecisionTreeClassifier</label><div class=\"sk-toggleable__content\"><pre>DecisionTreeClassifier(random_state=42)</pre></div></div></div></div></div>"
            ],
            "text/plain": [
              "DecisionTreeClassifier(random_state=42)"
            ]
          },
          "execution_count": 19,
          "metadata": {},
          "output_type": "execute_result"
        }
      ],
      "source": [
        "# Build Decision Tree Model\n",
        "from sklearn import tree\n",
        "clf = tree.DecisionTreeClassifier(random_state=42)\n",
        "clf.fit(X_resample, y_resampled)"
      ]
    },
    {
      "cell_type": "code",
      "execution_count": null,
      "metadata": {
        "colab": {
          "base_uri": "https://localhost:8080/"
        },
        "id": "TbRpCw-HZym3",
        "outputId": "1759592d-812d-48b2-df9b-14ddb4eb332c"
      },
      "outputs": [
        {
          "name": "stderr",
          "output_type": "stream",
          "text": [
            "c:\\Users\\bdbai\\miniconda3\\lib\\site-packages\\sklearn\\utils\\validation.py:758: UserWarning: pandas.DataFrame with sparse columns found.It will be converted to a dense numpy array.\n",
            "  warnings.warn(\n",
            "c:\\Users\\bdbai\\miniconda3\\lib\\site-packages\\sklearn\\utils\\validation.py:758: UserWarning: pandas.DataFrame with sparse columns found.It will be converted to a dense numpy array.\n",
            "  warnings.warn(\n"
          ]
        }
      ],
      "source": [
        "y_pred_train = clf.predict(X_resample)\n",
        "y_pred_prob_train = clf.predict_proba(X_resample)[:,1]\n",
        "    \n",
        "precision_train = metrics.precision_score(y_resampled, y_pred_train)\n",
        "recall_train = metrics.recall_score(y_resampled, y_pred_train)\n",
        "f1_train = metrics.f1_score(y_resampled, y_pred_train)\n",
        "roc_auc_train = metrics.roc_auc_score(y_resampled, y_pred_prob_train)"
      ]
    },
    {
      "cell_type": "code",
      "execution_count": null,
      "metadata": {
        "colab": {
          "base_uri": "https://localhost:8080/"
        },
        "id": "GBIx7fUbZyga",
        "outputId": "4660ab52-7bed-461f-9d7f-15ea865e09a4"
      },
      "outputs": [
        {
          "data": {
            "text/plain": [
              "(1.0, 1.0, 1.0, 1.0)"
            ]
          },
          "execution_count": 21,
          "metadata": {},
          "output_type": "execute_result"
        }
      ],
      "source": [
        "precision_train, recall_train, f1_train, roc_auc_train"
      ]
    },
    {
      "cell_type": "code",
      "execution_count": null,
      "metadata": {
        "colab": {
          "base_uri": "https://localhost:8080/"
        },
        "id": "pSq6efu1aXln",
        "outputId": "7b35a78e-c2e2-4de7-e60c-775d413616a9"
      },
      "outputs": [
        {
          "name": "stderr",
          "output_type": "stream",
          "text": [
            "c:\\Users\\bdbai\\miniconda3\\lib\\site-packages\\sklearn\\utils\\validation.py:758: UserWarning: pandas.DataFrame with sparse columns found.It will be converted to a dense numpy array.\n",
            "  warnings.warn(\n",
            "c:\\Users\\bdbai\\miniconda3\\lib\\site-packages\\sklearn\\utils\\validation.py:758: UserWarning: pandas.DataFrame with sparse columns found.It will be converted to a dense numpy array.\n",
            "  warnings.warn(\n"
          ]
        }
      ],
      "source": [
        "y_pred_test = clf.predict(X_test)\n",
        "y_pred_prob_test = clf.predict_proba(X_test)[:,1]\n",
        "    \n",
        "precision = metrics.precision_score(y_test, y_pred_test)\n",
        "recall = metrics.recall_score(y_test, y_pred_test)\n",
        "f1 = metrics.f1_score(y_test, y_pred_test)\n",
        "roc_auc = metrics.roc_auc_score(y_test, y_pred_prob_test)"
      ]
    },
    {
      "cell_type": "code",
      "execution_count": null,
      "metadata": {
        "colab": {
          "base_uri": "https://localhost:8080/"
        },
        "id": "CJ3_SjpAaXcp",
        "outputId": "c658c4b8-ecb1-4277-c12a-fd1ff38e8f71"
      },
      "outputs": [
        {
          "data": {
            "text/plain": [
              "(0.6598984771573604,\n",
              " 0.7182320441988951,\n",
              " 0.6878306878306878,\n",
              " 0.8492485699639541)"
            ]
          },
          "execution_count": 23,
          "metadata": {},
          "output_type": "execute_result"
        }
      ],
      "source": [
        "precision, recall, f1, roc_auc"
      ]
    },
    {
      "cell_type": "code",
      "execution_count": null,
      "metadata": {
        "colab": {
          "base_uri": "https://localhost:8080/",
          "height": 373
        },
        "id": "H1WWp_G3a4gL",
        "outputId": "ef4ca966-c9ce-482c-ba42-16b228e52101"
      },
      "outputs": [
        {
          "name": "stderr",
          "output_type": "stream",
          "text": [
            "c:\\Users\\bdbai\\miniconda3\\lib\\site-packages\\sklearn\\utils\\validation.py:758: UserWarning: pandas.DataFrame with sparse columns found.It will be converted to a dense numpy array.\n",
            "  warnings.warn(\n"
          ]
        },
        {
          "data": {
            "text/html": [
              "<style>#sk-container-id-2 {color: black;background-color: white;}#sk-container-id-2 pre{padding: 0;}#sk-container-id-2 div.sk-toggleable {background-color: white;}#sk-container-id-2 label.sk-toggleable__label {cursor: pointer;display: block;width: 100%;margin-bottom: 0;padding: 0.3em;box-sizing: border-box;text-align: center;}#sk-container-id-2 label.sk-toggleable__label-arrow:before {content: \"▸\";float: left;margin-right: 0.25em;color: #696969;}#sk-container-id-2 label.sk-toggleable__label-arrow:hover:before {color: black;}#sk-container-id-2 div.sk-estimator:hover label.sk-toggleable__label-arrow:before {color: black;}#sk-container-id-2 div.sk-toggleable__content {max-height: 0;max-width: 0;overflow: hidden;text-align: left;background-color: #f0f8ff;}#sk-container-id-2 div.sk-toggleable__content pre {margin: 0.2em;color: black;border-radius: 0.25em;background-color: #f0f8ff;}#sk-container-id-2 input.sk-toggleable__control:checked~div.sk-toggleable__content {max-height: 200px;max-width: 100%;overflow: auto;}#sk-container-id-2 input.sk-toggleable__control:checked~label.sk-toggleable__label-arrow:before {content: \"▾\";}#sk-container-id-2 div.sk-estimator input.sk-toggleable__control:checked~label.sk-toggleable__label {background-color: #d4ebff;}#sk-container-id-2 div.sk-label input.sk-toggleable__control:checked~label.sk-toggleable__label {background-color: #d4ebff;}#sk-container-id-2 input.sk-hidden--visually {border: 0;clip: rect(1px 1px 1px 1px);clip: rect(1px, 1px, 1px, 1px);height: 1px;margin: -1px;overflow: hidden;padding: 0;position: absolute;width: 1px;}#sk-container-id-2 div.sk-estimator {font-family: monospace;background-color: #f0f8ff;border: 1px dotted black;border-radius: 0.25em;box-sizing: border-box;margin-bottom: 0.5em;}#sk-container-id-2 div.sk-estimator:hover {background-color: #d4ebff;}#sk-container-id-2 div.sk-parallel-item::after {content: \"\";width: 100%;border-bottom: 1px solid gray;flex-grow: 1;}#sk-container-id-2 div.sk-label:hover label.sk-toggleable__label {background-color: #d4ebff;}#sk-container-id-2 div.sk-serial::before {content: \"\";position: absolute;border-left: 1px solid gray;box-sizing: border-box;top: 0;bottom: 0;left: 50%;z-index: 0;}#sk-container-id-2 div.sk-serial {display: flex;flex-direction: column;align-items: center;background-color: white;padding-right: 0.2em;padding-left: 0.2em;position: relative;}#sk-container-id-2 div.sk-item {position: relative;z-index: 1;}#sk-container-id-2 div.sk-parallel {display: flex;align-items: stretch;justify-content: center;background-color: white;position: relative;}#sk-container-id-2 div.sk-item::before, #sk-container-id-2 div.sk-parallel-item::before {content: \"\";position: absolute;border-left: 1px solid gray;box-sizing: border-box;top: 0;bottom: 0;left: 50%;z-index: -1;}#sk-container-id-2 div.sk-parallel-item {display: flex;flex-direction: column;z-index: 1;position: relative;background-color: white;}#sk-container-id-2 div.sk-parallel-item:first-child::after {align-self: flex-end;width: 50%;}#sk-container-id-2 div.sk-parallel-item:last-child::after {align-self: flex-start;width: 50%;}#sk-container-id-2 div.sk-parallel-item:only-child::after {width: 0;}#sk-container-id-2 div.sk-dashed-wrapped {border: 1px dashed gray;margin: 0 0.4em 0.5em 0.4em;box-sizing: border-box;padding-bottom: 0.4em;background-color: white;}#sk-container-id-2 div.sk-label label {font-family: monospace;font-weight: bold;display: inline-block;line-height: 1.2em;}#sk-container-id-2 div.sk-label-container {text-align: center;}#sk-container-id-2 div.sk-container {/* jupyter's `normalize.less` sets `[hidden] { display: none; }` but bootstrap.min.css set `[hidden] { display: none !important; }` so we also need the `!important` here to be able to override the default hidden behavior on the sphinx rendered scikit-learn.org. See: https://github.com/scikit-learn/scikit-learn/issues/21755 */display: inline-block !important;position: relative;}#sk-container-id-2 div.sk-text-repr-fallback {display: none;}</style><div id=\"sk-container-id-2\" class=\"sk-top-container\"><div class=\"sk-text-repr-fallback\"><pre>RandomForestClassifier(random_state=42)</pre><b>In a Jupyter environment, please rerun this cell to show the HTML representation or trust the notebook. <br />On GitHub, the HTML representation is unable to render, please try loading this page with nbviewer.org.</b></div><div class=\"sk-container\" hidden><div class=\"sk-item\"><div class=\"sk-estimator sk-toggleable\"><input class=\"sk-toggleable__control sk-hidden--visually\" id=\"sk-estimator-id-2\" type=\"checkbox\" checked><label for=\"sk-estimator-id-2\" class=\"sk-toggleable__label sk-toggleable__label-arrow\">RandomForestClassifier</label><div class=\"sk-toggleable__content\"><pre>RandomForestClassifier(random_state=42)</pre></div></div></div></div></div>"
            ],
            "text/plain": [
              "RandomForestClassifier(random_state=42)"
            ]
          },
          "execution_count": 24,
          "metadata": {},
          "output_type": "execute_result"
        }
      ],
      "source": [
        "clf = ensemble.RandomForestClassifier(random_state=42)\n",
        "clf.fit(X_resample, y_resampled)"
      ]
    },
    {
      "cell_type": "code",
      "execution_count": null,
      "metadata": {
        "id": "GlJLxOv7a4qf",
        "outputId": "d2b1b87a-06c7-430b-80ba-7be87b4c2c2e"
      },
      "outputs": [
        {
          "name": "stderr",
          "output_type": "stream",
          "text": [
            "c:\\Users\\bdbai\\miniconda3\\lib\\site-packages\\sklearn\\utils\\validation.py:758: UserWarning: pandas.DataFrame with sparse columns found.It will be converted to a dense numpy array.\n",
            "  warnings.warn(\n",
            "c:\\Users\\bdbai\\miniconda3\\lib\\site-packages\\sklearn\\utils\\validation.py:758: UserWarning: pandas.DataFrame with sparse columns found.It will be converted to a dense numpy array.\n",
            "  warnings.warn(\n"
          ]
        },
        {
          "data": {
            "text/plain": [
              "(1.0, 1.0, 1.0, 1.0)"
            ]
          },
          "execution_count": 25,
          "metadata": {},
          "output_type": "execute_result"
        }
      ],
      "source": [
        "y_pred_train = clf.predict(X_resample)\n",
        "y_pred_prob_train = clf.predict_proba(X_resample)[:,1]\n",
        "    \n",
        "precision_train = metrics.precision_score(y_resampled, y_pred_train)\n",
        "recall_train = metrics.recall_score(y_resampled, y_pred_train)\n",
        "f1_train = metrics.f1_score(y_resampled, y_pred_train)\n",
        "roc_auc_train = metrics.roc_auc_score(y_resampled, y_pred_prob_train)\n",
        "\n",
        "precision_train, recall_train, f1_train, roc_auc_train"
      ]
    },
    {
      "cell_type": "code",
      "execution_count": null,
      "metadata": {
        "id": "sBpLIZWPa403",
        "outputId": "36a2229d-62dd-4089-8f5a-c03cb6491985"
      },
      "outputs": [
        {
          "name": "stderr",
          "output_type": "stream",
          "text": [
            "c:\\Users\\bdbai\\miniconda3\\lib\\site-packages\\sklearn\\utils\\validation.py:758: UserWarning: pandas.DataFrame with sparse columns found.It will be converted to a dense numpy array.\n",
            "  warnings.warn(\n",
            "c:\\Users\\bdbai\\miniconda3\\lib\\site-packages\\sklearn\\utils\\validation.py:758: UserWarning: pandas.DataFrame with sparse columns found.It will be converted to a dense numpy array.\n",
            "  warnings.warn(\n"
          ]
        },
        {
          "data": {
            "text/plain": [
              "(1.0, 0.6353591160220995, 0.7770270270270271, 0.9897021131172752)"
            ]
          },
          "execution_count": 26,
          "metadata": {},
          "output_type": "execute_result"
        }
      ],
      "source": [
        "y_pred_test = clf.predict(X_test)\n",
        "y_pred_prob_test = clf.predict_proba(X_test)[:,1]\n",
        "    \n",
        "precision = metrics.precision_score(y_test, y_pred_test)\n",
        "recall = metrics.recall_score(y_test, y_pred_test)\n",
        "f1 = metrics.f1_score(y_test, y_pred_test)\n",
        "roc_auc = metrics.roc_auc_score(y_test, y_pred_prob_test)\n",
        "\n",
        "precision, recall, f1, roc_auc"
      ]
    },
    {
      "cell_type": "code",
      "execution_count": null,
      "metadata": {
        "colab": {
          "base_uri": "https://localhost:8080/"
        },
        "id": "ghqdBO6xbeFZ",
        "outputId": "fb3abfae-ae4c-4aa8-a61b-7e61c4729f24"
      },
      "outputs": [
        {
          "name": "stderr",
          "output_type": "stream",
          "text": [
            "c:\\Users\\bdbai\\miniconda3\\lib\\site-packages\\sklearn\\utils\\validation.py:758: UserWarning: pandas.DataFrame with sparse columns found.It will be converted to a dense numpy array.\n",
            "  warnings.warn(\n"
          ]
        },
        {
          "data": {
            "text/html": [
              "<style>#sk-container-id-3 {color: black;background-color: white;}#sk-container-id-3 pre{padding: 0;}#sk-container-id-3 div.sk-toggleable {background-color: white;}#sk-container-id-3 label.sk-toggleable__label {cursor: pointer;display: block;width: 100%;margin-bottom: 0;padding: 0.3em;box-sizing: border-box;text-align: center;}#sk-container-id-3 label.sk-toggleable__label-arrow:before {content: \"▸\";float: left;margin-right: 0.25em;color: #696969;}#sk-container-id-3 label.sk-toggleable__label-arrow:hover:before {color: black;}#sk-container-id-3 div.sk-estimator:hover label.sk-toggleable__label-arrow:before {color: black;}#sk-container-id-3 div.sk-toggleable__content {max-height: 0;max-width: 0;overflow: hidden;text-align: left;background-color: #f0f8ff;}#sk-container-id-3 div.sk-toggleable__content pre {margin: 0.2em;color: black;border-radius: 0.25em;background-color: #f0f8ff;}#sk-container-id-3 input.sk-toggleable__control:checked~div.sk-toggleable__content {max-height: 200px;max-width: 100%;overflow: auto;}#sk-container-id-3 input.sk-toggleable__control:checked~label.sk-toggleable__label-arrow:before {content: \"▾\";}#sk-container-id-3 div.sk-estimator input.sk-toggleable__control:checked~label.sk-toggleable__label {background-color: #d4ebff;}#sk-container-id-3 div.sk-label input.sk-toggleable__control:checked~label.sk-toggleable__label {background-color: #d4ebff;}#sk-container-id-3 input.sk-hidden--visually {border: 0;clip: rect(1px 1px 1px 1px);clip: rect(1px, 1px, 1px, 1px);height: 1px;margin: -1px;overflow: hidden;padding: 0;position: absolute;width: 1px;}#sk-container-id-3 div.sk-estimator {font-family: monospace;background-color: #f0f8ff;border: 1px dotted black;border-radius: 0.25em;box-sizing: border-box;margin-bottom: 0.5em;}#sk-container-id-3 div.sk-estimator:hover {background-color: #d4ebff;}#sk-container-id-3 div.sk-parallel-item::after {content: \"\";width: 100%;border-bottom: 1px solid gray;flex-grow: 1;}#sk-container-id-3 div.sk-label:hover label.sk-toggleable__label {background-color: #d4ebff;}#sk-container-id-3 div.sk-serial::before {content: \"\";position: absolute;border-left: 1px solid gray;box-sizing: border-box;top: 0;bottom: 0;left: 50%;z-index: 0;}#sk-container-id-3 div.sk-serial {display: flex;flex-direction: column;align-items: center;background-color: white;padding-right: 0.2em;padding-left: 0.2em;position: relative;}#sk-container-id-3 div.sk-item {position: relative;z-index: 1;}#sk-container-id-3 div.sk-parallel {display: flex;align-items: stretch;justify-content: center;background-color: white;position: relative;}#sk-container-id-3 div.sk-item::before, #sk-container-id-3 div.sk-parallel-item::before {content: \"\";position: absolute;border-left: 1px solid gray;box-sizing: border-box;top: 0;bottom: 0;left: 50%;z-index: -1;}#sk-container-id-3 div.sk-parallel-item {display: flex;flex-direction: column;z-index: 1;position: relative;background-color: white;}#sk-container-id-3 div.sk-parallel-item:first-child::after {align-self: flex-end;width: 50%;}#sk-container-id-3 div.sk-parallel-item:last-child::after {align-self: flex-start;width: 50%;}#sk-container-id-3 div.sk-parallel-item:only-child::after {width: 0;}#sk-container-id-3 div.sk-dashed-wrapped {border: 1px dashed gray;margin: 0 0.4em 0.5em 0.4em;box-sizing: border-box;padding-bottom: 0.4em;background-color: white;}#sk-container-id-3 div.sk-label label {font-family: monospace;font-weight: bold;display: inline-block;line-height: 1.2em;}#sk-container-id-3 div.sk-label-container {text-align: center;}#sk-container-id-3 div.sk-container {/* jupyter's `normalize.less` sets `[hidden] { display: none; }` but bootstrap.min.css set `[hidden] { display: none !important; }` so we also need the `!important` here to be able to override the default hidden behavior on the sphinx rendered scikit-learn.org. See: https://github.com/scikit-learn/scikit-learn/issues/21755 */display: inline-block !important;position: relative;}#sk-container-id-3 div.sk-text-repr-fallback {display: none;}</style><div id=\"sk-container-id-3\" class=\"sk-top-container\"><div class=\"sk-text-repr-fallback\"><pre>GradientBoostingClassifier(random_state=42)</pre><b>In a Jupyter environment, please rerun this cell to show the HTML representation or trust the notebook. <br />On GitHub, the HTML representation is unable to render, please try loading this page with nbviewer.org.</b></div><div class=\"sk-container\" hidden><div class=\"sk-item\"><div class=\"sk-estimator sk-toggleable\"><input class=\"sk-toggleable__control sk-hidden--visually\" id=\"sk-estimator-id-3\" type=\"checkbox\" checked><label for=\"sk-estimator-id-3\" class=\"sk-toggleable__label sk-toggleable__label-arrow\">GradientBoostingClassifier</label><div class=\"sk-toggleable__content\"><pre>GradientBoostingClassifier(random_state=42)</pre></div></div></div></div></div>"
            ],
            "text/plain": [
              "GradientBoostingClassifier(random_state=42)"
            ]
          },
          "execution_count": 27,
          "metadata": {},
          "output_type": "execute_result"
        }
      ],
      "source": [
        "# build Gradient Boosting Model\n",
        "clf = ensemble.GradientBoostingClassifier(random_state=42)\n",
        "clf.fit(X_resample, y_resampled)"
      ]
    },
    {
      "cell_type": "code",
      "execution_count": null,
      "metadata": {
        "colab": {
          "base_uri": "https://localhost:8080/"
        },
        "id": "tO8coCeubhff",
        "outputId": "baec9aef-297f-4747-c450-6fa29fa21b11"
      },
      "outputs": [
        {
          "name": "stderr",
          "output_type": "stream",
          "text": [
            "c:\\Users\\bdbai\\miniconda3\\lib\\site-packages\\sklearn\\utils\\validation.py:758: UserWarning: pandas.DataFrame with sparse columns found.It will be converted to a dense numpy array.\n",
            "  warnings.warn(\n",
            "c:\\Users\\bdbai\\miniconda3\\lib\\site-packages\\sklearn\\utils\\validation.py:758: UserWarning: pandas.DataFrame with sparse columns found.It will be converted to a dense numpy array.\n",
            "  warnings.warn(\n"
          ]
        },
        {
          "data": {
            "text/plain": [
              "(0.975609756097561, 0.9473104461171287, 0.9612518628912071, 0.997252782397641)"
            ]
          },
          "execution_count": 28,
          "metadata": {},
          "output_type": "execute_result"
        }
      ],
      "source": [
        "y_pred_train = clf.predict(X_resample)\n",
        "y_pred_prob_train = clf.predict_proba(X_resample)[:,1]\n",
        "    \n",
        "precision_train = metrics.precision_score(y_resampled, y_pred_train)\n",
        "recall_train = metrics.recall_score(y_resampled, y_pred_train)\n",
        "f1_train = metrics.f1_score(y_resampled, y_pred_train)\n",
        "roc_auc_train = metrics.roc_auc_score(y_resampled, y_pred_prob_train)\n",
        "\n",
        "precision_train, recall_train, f1_train, roc_auc_train"
      ]
    },
    {
      "cell_type": "code",
      "execution_count": null,
      "metadata": {
        "colab": {
          "base_uri": "https://localhost:8080/"
        },
        "id": "Gfi0pujnbhSP",
        "outputId": "17f7f7b7-23c7-45c9-b428-c393d8a48bc9"
      },
      "outputs": [
        {
          "name": "stderr",
          "output_type": "stream",
          "text": [
            "c:\\Users\\bdbai\\miniconda3\\lib\\site-packages\\sklearn\\utils\\validation.py:758: UserWarning: pandas.DataFrame with sparse columns found.It will be converted to a dense numpy array.\n",
            "  warnings.warn(\n",
            "c:\\Users\\bdbai\\miniconda3\\lib\\site-packages\\sklearn\\utils\\validation.py:758: UserWarning: pandas.DataFrame with sparse columns found.It will be converted to a dense numpy array.\n",
            "  warnings.warn(\n"
          ]
        },
        {
          "data": {
            "text/plain": [
              "(0.7714285714285715,\n",
              " 0.7458563535911602,\n",
              " 0.7584269662921349,\n",
              " 0.9778012839811553)"
            ]
          },
          "execution_count": 29,
          "metadata": {},
          "output_type": "execute_result"
        }
      ],
      "source": [
        "y_pred_test = clf.predict(X_test)\n",
        "y_pred_prob_test = clf.predict_proba(X_test)[:,1]\n",
        "    \n",
        "precision = metrics.precision_score(y_test, y_pred_test)\n",
        "recall = metrics.recall_score(y_test, y_pred_test)\n",
        "f1 = metrics.f1_score(y_test, y_pred_test)\n",
        "roc_auc = metrics.roc_auc_score(y_test, y_pred_prob_test)\n",
        "\n",
        "precision, recall, f1, roc_auc"
      ]
    },
    {
      "cell_type": "code",
      "execution_count": null,
      "metadata": {
        "id": "2ddYWwzLbhH_",
        "outputId": "8a93a0b8-50f4-4508-dff7-ec3c581ef571"
      },
      "outputs": [
        {
          "name": "stderr",
          "output_type": "stream",
          "text": [
            "c:\\Users\\bdbai\\miniconda3\\lib\\site-packages\\sklearn\\utils\\validation.py:758: UserWarning: pandas.DataFrame with sparse columns found.It will be converted to a dense numpy array.\n",
            "  warnings.warn(\n"
          ]
        },
        {
          "data": {
            "text/html": [
              "<style>#sk-container-id-5 {color: black;background-color: white;}#sk-container-id-5 pre{padding: 0;}#sk-container-id-5 div.sk-toggleable {background-color: white;}#sk-container-id-5 label.sk-toggleable__label {cursor: pointer;display: block;width: 100%;margin-bottom: 0;padding: 0.3em;box-sizing: border-box;text-align: center;}#sk-container-id-5 label.sk-toggleable__label-arrow:before {content: \"▸\";float: left;margin-right: 0.25em;color: #696969;}#sk-container-id-5 label.sk-toggleable__label-arrow:hover:before {color: black;}#sk-container-id-5 div.sk-estimator:hover label.sk-toggleable__label-arrow:before {color: black;}#sk-container-id-5 div.sk-toggleable__content {max-height: 0;max-width: 0;overflow: hidden;text-align: left;background-color: #f0f8ff;}#sk-container-id-5 div.sk-toggleable__content pre {margin: 0.2em;color: black;border-radius: 0.25em;background-color: #f0f8ff;}#sk-container-id-5 input.sk-toggleable__control:checked~div.sk-toggleable__content {max-height: 200px;max-width: 100%;overflow: auto;}#sk-container-id-5 input.sk-toggleable__control:checked~label.sk-toggleable__label-arrow:before {content: \"▾\";}#sk-container-id-5 div.sk-estimator input.sk-toggleable__control:checked~label.sk-toggleable__label {background-color: #d4ebff;}#sk-container-id-5 div.sk-label input.sk-toggleable__control:checked~label.sk-toggleable__label {background-color: #d4ebff;}#sk-container-id-5 input.sk-hidden--visually {border: 0;clip: rect(1px 1px 1px 1px);clip: rect(1px, 1px, 1px, 1px);height: 1px;margin: -1px;overflow: hidden;padding: 0;position: absolute;width: 1px;}#sk-container-id-5 div.sk-estimator {font-family: monospace;background-color: #f0f8ff;border: 1px dotted black;border-radius: 0.25em;box-sizing: border-box;margin-bottom: 0.5em;}#sk-container-id-5 div.sk-estimator:hover {background-color: #d4ebff;}#sk-container-id-5 div.sk-parallel-item::after {content: \"\";width: 100%;border-bottom: 1px solid gray;flex-grow: 1;}#sk-container-id-5 div.sk-label:hover label.sk-toggleable__label {background-color: #d4ebff;}#sk-container-id-5 div.sk-serial::before {content: \"\";position: absolute;border-left: 1px solid gray;box-sizing: border-box;top: 0;bottom: 0;left: 50%;z-index: 0;}#sk-container-id-5 div.sk-serial {display: flex;flex-direction: column;align-items: center;background-color: white;padding-right: 0.2em;padding-left: 0.2em;position: relative;}#sk-container-id-5 div.sk-item {position: relative;z-index: 1;}#sk-container-id-5 div.sk-parallel {display: flex;align-items: stretch;justify-content: center;background-color: white;position: relative;}#sk-container-id-5 div.sk-item::before, #sk-container-id-5 div.sk-parallel-item::before {content: \"\";position: absolute;border-left: 1px solid gray;box-sizing: border-box;top: 0;bottom: 0;left: 50%;z-index: -1;}#sk-container-id-5 div.sk-parallel-item {display: flex;flex-direction: column;z-index: 1;position: relative;background-color: white;}#sk-container-id-5 div.sk-parallel-item:first-child::after {align-self: flex-end;width: 50%;}#sk-container-id-5 div.sk-parallel-item:last-child::after {align-self: flex-start;width: 50%;}#sk-container-id-5 div.sk-parallel-item:only-child::after {width: 0;}#sk-container-id-5 div.sk-dashed-wrapped {border: 1px dashed gray;margin: 0 0.4em 0.5em 0.4em;box-sizing: border-box;padding-bottom: 0.4em;background-color: white;}#sk-container-id-5 div.sk-label label {font-family: monospace;font-weight: bold;display: inline-block;line-height: 1.2em;}#sk-container-id-5 div.sk-label-container {text-align: center;}#sk-container-id-5 div.sk-container {/* jupyter's `normalize.less` sets `[hidden] { display: none; }` but bootstrap.min.css set `[hidden] { display: none !important; }` so we also need the `!important` here to be able to override the default hidden behavior on the sphinx rendered scikit-learn.org. See: https://github.com/scikit-learn/scikit-learn/issues/21755 */display: inline-block !important;position: relative;}#sk-container-id-5 div.sk-text-repr-fallback {display: none;}</style><div id=\"sk-container-id-5\" class=\"sk-top-container\"><div class=\"sk-text-repr-fallback\"><pre>SVC(probability=True, random_state=42)</pre><b>In a Jupyter environment, please rerun this cell to show the HTML representation or trust the notebook. <br />On GitHub, the HTML representation is unable to render, please try loading this page with nbviewer.org.</b></div><div class=\"sk-container\" hidden><div class=\"sk-item\"><div class=\"sk-estimator sk-toggleable\"><input class=\"sk-toggleable__control sk-hidden--visually\" id=\"sk-estimator-id-5\" type=\"checkbox\" checked><label for=\"sk-estimator-id-5\" class=\"sk-toggleable__label sk-toggleable__label-arrow\">SVC</label><div class=\"sk-toggleable__content\"><pre>SVC(probability=True, random_state=42)</pre></div></div></div></div></div>"
            ],
            "text/plain": [
              "SVC(probability=True, random_state=42)"
            ]
          },
          "execution_count": 32,
          "metadata": {},
          "output_type": "execute_result"
        }
      ],
      "source": [
        "# build SVM model\n",
        "clf = svm.SVC(probability=True, random_state=42)\n",
        "clf.fit(X_resample, y_resampled)"
      ]
    },
    {
      "cell_type": "code",
      "execution_count": null,
      "metadata": {
        "id": "WeSBxh3vvN7e",
        "outputId": "e70538a4-6320-4d09-d513-6e52c12c9406"
      },
      "outputs": [
        {
          "name": "stderr",
          "output_type": "stream",
          "text": [
            "c:\\Users\\bdbai\\miniconda3\\lib\\site-packages\\sklearn\\utils\\validation.py:758: UserWarning: pandas.DataFrame with sparse columns found.It will be converted to a dense numpy array.\n",
            "  warnings.warn(\n",
            "c:\\Users\\bdbai\\miniconda3\\lib\\site-packages\\sklearn\\utils\\validation.py:758: UserWarning: pandas.DataFrame with sparse columns found.It will be converted to a dense numpy array.\n",
            "  warnings.warn(\n"
          ]
        },
        {
          "data": {
            "text/plain": [
              "(0.9935697225794599,\n",
              " 0.9928400954653938,\n",
              " 0.9932047750229568,\n",
              " 0.9998695315631101)"
            ]
          },
          "execution_count": 33,
          "metadata": {},
          "output_type": "execute_result"
        }
      ],
      "source": [
        "y_pred_train = clf.predict(X_resample)\n",
        "y_pred_prob_train = clf.predict_proba(X_resample)[:,1]\n",
        "    \n",
        "precision_train = metrics.precision_score(y_resampled, y_pred_train)\n",
        "recall_train = metrics.recall_score(y_resampled, y_pred_train)\n",
        "f1_train = metrics.f1_score(y_resampled, y_pred_train)\n",
        "roc_auc_train = metrics.roc_auc_score(y_resampled, y_pred_prob_train)\n",
        "\n",
        "precision_train, recall_train, f1_train, roc_auc_train"
      ]
    },
    {
      "cell_type": "code",
      "execution_count": null,
      "metadata": {
        "id": "6pEk2NYwvN7e",
        "outputId": "6475034f-d32d-4e73-d692-9d7da3b46a05"
      },
      "outputs": [
        {
          "name": "stderr",
          "output_type": "stream",
          "text": [
            "c:\\Users\\bdbai\\miniconda3\\lib\\site-packages\\sklearn\\utils\\validation.py:758: UserWarning: pandas.DataFrame with sparse columns found.It will be converted to a dense numpy array.\n",
            "  warnings.warn(\n",
            "c:\\Users\\bdbai\\miniconda3\\lib\\site-packages\\sklearn\\utils\\validation.py:758: UserWarning: pandas.DataFrame with sparse columns found.It will be converted to a dense numpy array.\n",
            "  warnings.warn(\n"
          ]
        },
        {
          "data": {
            "text/plain": [
              "(0.9294871794871795,\n",
              " 0.8011049723756906,\n",
              " 0.8605341246290801,\n",
              " 0.9805181490492193)"
            ]
          },
          "execution_count": 34,
          "metadata": {},
          "output_type": "execute_result"
        }
      ],
      "source": [
        "y_pred_test = clf.predict(X_test)\n",
        "y_pred_prob_test = clf.predict_proba(X_test)[:,1]\n",
        "\n",
        "precision = metrics.precision_score(y_test, y_pred_test)\n",
        "recall = metrics.recall_score(y_test, y_pred_test)\n",
        "f1 = metrics.f1_score(y_test, y_pred_test)\n",
        "roc_auc = metrics.roc_auc_score(y_test, y_pred_prob_test)\n",
        "\n",
        "precision, recall, f1, roc_auc"
      ]
    },
    {
      "cell_type": "code",
      "source": [
        "# build Naive Bayes Model\n",
        "mnb = naive_bayes.MultinomialNB()\n",
        "mnb.fit(X_resample, y_resampled)"
      ],
      "metadata": {
        "id": "COeb6g_yP4Y0",
        "outputId": "003bbae3-602a-495d-b300-24215f5cde40",
        "colab": {
          "base_uri": "https://localhost:8080/"
        }
      },
      "execution_count": 21,
      "outputs": [
        {
          "output_type": "stream",
          "name": "stderr",
          "text": [
            "/usr/local/lib/python3.7/dist-packages/sklearn/utils/validation.py:625: UserWarning: pandas.DataFrame with sparse columns found.It will be converted to a dense numpy array.\n",
            "  \"pandas.DataFrame with sparse columns found.\"\n"
          ]
        },
        {
          "output_type": "execute_result",
          "data": {
            "text/plain": [
              "MultinomialNB()"
            ]
          },
          "metadata": {},
          "execution_count": 21
        }
      ]
    },
    {
      "cell_type": "code",
      "execution_count": 22,
      "metadata": {
        "colab": {
          "base_uri": "https://localhost:8080/"
        },
        "outputId": "dc597727-3003-4936-f672-012a899ec272",
        "id": "RTRWyCk6QNSk"
      },
      "outputs": [
        {
          "output_type": "stream",
          "name": "stderr",
          "text": [
            "/usr/local/lib/python3.7/dist-packages/sklearn/utils/validation.py:625: UserWarning: pandas.DataFrame with sparse columns found.It will be converted to a dense numpy array.\n",
            "  \"pandas.DataFrame with sparse columns found.\"\n",
            "/usr/local/lib/python3.7/dist-packages/sklearn/utils/validation.py:625: UserWarning: pandas.DataFrame with sparse columns found.It will be converted to a dense numpy array.\n",
            "  \"pandas.DataFrame with sparse columns found.\"\n"
          ]
        },
        {
          "output_type": "execute_result",
          "data": {
            "text/plain": [
              "(0.8871431308679824,\n",
              " 0.8500091793647879,\n",
              " 0.8681792612038253,\n",
              " 0.9767442387134693)"
            ]
          },
          "metadata": {},
          "execution_count": 22
        }
      ],
      "source": [
        "y_pred_train = mnb.predict(X_resample)\n",
        "y_pred_prob_train = mnb.predict_proba(X_resample)[:,1]\n",
        "    \n",
        "precision_train = metrics.precision_score(y_resampled, y_pred_train)\n",
        "recall_train = metrics.recall_score(y_resampled, y_pred_train)\n",
        "f1_train = metrics.f1_score(y_resampled, y_pred_train)\n",
        "roc_auc_train = metrics.roc_auc_score(y_resampled, y_pred_prob_train)\n",
        "\n",
        "precision_train, recall_train, f1_train, roc_auc_train"
      ]
    },
    {
      "cell_type": "code",
      "execution_count": 24,
      "metadata": {
        "colab": {
          "base_uri": "https://localhost:8080/"
        },
        "outputId": "435701f5-7b9c-49ee-e95b-a69e5cd02a41",
        "id": "OSShPaGEQNSk"
      },
      "outputs": [
        {
          "output_type": "stream",
          "name": "stderr",
          "text": [
            "/usr/local/lib/python3.7/dist-packages/sklearn/utils/validation.py:625: UserWarning: pandas.DataFrame with sparse columns found.It will be converted to a dense numpy array.\n",
            "  \"pandas.DataFrame with sparse columns found.\"\n",
            "/usr/local/lib/python3.7/dist-packages/sklearn/utils/validation.py:625: UserWarning: pandas.DataFrame with sparse columns found.It will be converted to a dense numpy array.\n",
            "  \"pandas.DataFrame with sparse columns found.\"\n"
          ]
        },
        {
          "output_type": "execute_result",
          "data": {
            "text/plain": [
              "(0.446875, 0.7900552486187845, 0.5708582834331337, 0.9600940609768996)"
            ]
          },
          "metadata": {},
          "execution_count": 24
        }
      ],
      "source": [
        "y_pred_test = mnb.predict(X_test)\n",
        "y_pred_prob_test = mnb.predict_proba(X_test)[:,1]\n",
        "    \n",
        "precision = metrics.precision_score(y_test, y_pred_test)\n",
        "recall = metrics.recall_score(y_test, y_pred_test)\n",
        "f1 = metrics.f1_score(y_test, y_pred_test)\n",
        "roc_auc = metrics.roc_auc_score(y_test, y_pred_prob_test)\n",
        "\n",
        "precision, recall, f1, roc_auc"
      ]
    },
    {
      "cell_type": "code",
      "source": [
        "from sklearn import metrics\n",
        "\n",
        "cf_matrixtr = metrics.confusion_matrix(y_resampled, y_pred_train)\n",
        "cf_matrixte = metrics.confusion_matrix(y_test, y_pred_test)\n",
        "\n",
        "report = \"\"\"\n",
        "Confusion Matrix for train dataset:\n",
        "{}\n",
        "Confusion Matrix for test dataset:\n",
        "{}\n",
        "\"\"\".format(cf_matrixtr, cf_matrixte)\n",
        "print(report)"
      ],
      "metadata": {
        "id": "TvgtvmbJQjAd",
        "outputId": "09b55365-1f73-4eb1-9f45-39f7ba7b2109",
        "colab": {
          "base_uri": "https://localhost:8080/"
        }
      },
      "execution_count": 25,
      "outputs": [
        {
          "output_type": "stream",
          "name": "stdout",
          "text": [
            "\n",
            "Confusion Matrix for train dataset:\n",
            "[[13030   589]\n",
            " [  817  4630]]\n",
            "Confusion Matrix for test dataset:\n",
            "[[3218  177]\n",
            " [  38  143]]\n",
            "\n"
          ]
        }
      ]
    },
    {
      "cell_type": "code",
      "source": [
        "# match feature names and respective feature counts in each class\n",
        "f = {'Feature': X_resample.columns, 'fraud': mnb.feature_count_[1,:],\n",
        "         'not_fraud': mnb.feature_count_[0,:]}\n",
        "features = pd.DataFrame(data=f)\n",
        "\n",
        "# calculate the P(feature|class) by using feature count in the class divided by respective class count\n",
        "# 1 count is added to all feature counts to ensure ratio can be calculated later\n",
        "features['P (f|fraud)'] = (features['fraud'] +1) / mnb.class_count_[1]\n",
        "features['P (f|not_fraud)'] = (features['not_fraud'] +1) / mnb.class_count_[0]\n",
        "\n",
        "# ratio of the P(feature|class) is used to evaluate the predictiveness of the token \n",
        "features['Ratio'] = features['P (f|fraud)'] / features['P (f|not_fraud)']\n",
        "\n",
        "# print out the top 10 features for each class\n",
        "print('The top 10 most predictive tokens for fraud job postings are:')\n",
        "print(features.sort_values(by=['Ratio'], ascending= False).head(20)['Feature'].values)\n",
        "\n",
        "print('The top 10 most predictive tokens for not fraud job postings are:')\n",
        "print(features.sort_values(by=['Ratio'], ascending= False).tail(20)['Feature'].values)"
      ],
      "metadata": {
        "id": "sF-c0WzyQM4x",
        "outputId": "cd41411d-dcbc-4410-c3e5-6d7e0877cb57",
        "colab": {
          "base_uri": "https://localhost:8080/"
        }
      },
      "execution_count": 35,
      "outputs": [
        {
          "output_type": "stream",
          "name": "stdout",
          "text": [
            "The top 10 most predictive tokens for fraud job postings are:\n",
            "['clerical' 'clerk' 'earn' 'entry' 'figure' 'duration' 'oil' 'cash'\n",
            " 'aptitude' 'gas' '400' 'referral' 'offshore' 'refine' 'minutes'\n",
            " 'recovery' 'fee' 'suitable' 'guarantee' 'administrative']\n",
            "The top 10 most predictive tokens for not fraud job postings are:\n",
            "['necessarycanada' 'olds' 'teachers' 'european' 'interactive' 'airfare'\n",
            " 'game' 'passport' 'teacher' 'cardsgabriel'\n",
            " 'url_ed9094c60184b8a4975333957f05be37e69d3cdb68decc9dd9a4242733cfd7f7'\n",
            " 'url_75db76d58f7994c7db24e8998c2fc953ab9a20ea9ac948b217693963f78d2e6b'\n",
            " 'adkins' 'reimbursedexcellent' 'celta' '1500' 'tesol' 'tefl' 'asia'\n",
            " 'abroad']\n"
          ]
        }
      ]
    },
    {
      "cell_type": "code",
      "source": [
        "# try naive bayes with only text columns\n",
        "X_train, X_test, y_train, y_test = train_test_split(df_trial, y_trial, test_size=0.2, random_state=42)\n",
        "X_resample, y_resampled = smt.fit_resample(X_train, y_train)\n",
        "text_resample = X_resample.drop(X_resample.columns[0:8], axis = 1)\n",
        "text_test = X_test.drop(X_resample.columns[0:8], axis = 1)"
      ],
      "metadata": {
        "id": "kp1mTyqGSXx6",
        "outputId": "3e8855f0-d8ba-43de-c641-63b7fdc96f0d",
        "colab": {
          "base_uri": "https://localhost:8080/"
        }
      },
      "execution_count": 31,
      "outputs": [
        {
          "output_type": "execute_result",
          "data": {
            "text/plain": [
              "Index(['telecommuting', 'has_company_logo', 'has_questions', 'has_title',\n",
              "       'has_requirements', 'has_comp_profile', 'has_description',\n",
              "       'has_benefits', '00', '000',\n",
              "       ...\n",
              "       'writtenlifting', 'xml', 'year', 'years', 'yes', 'yet', 'york', 'young',\n",
              "       'zealand', 'zone'],\n",
              "      dtype='object', length=2340)"
            ]
          },
          "metadata": {},
          "execution_count": 31
        }
      ]
    },
    {
      "cell_type": "code",
      "source": [
        "mnb2 = naive_bayes.MultinomialNB()\n",
        "mnb2.fit(text_resample, y_resampled)\n",
        "\n",
        "y_pred_train = mnb.predict(X_resample)\n",
        "y_pred_prob_train = mnb.predict_proba(X_resample)[:,1]\n",
        "y_pred_test = mnb2.predict(text_test)\n",
        "y_pred_prob_test = mnb2.predict_proba(text_test)[:,1]\n",
        "    \n",
        "precision = metrics.precision_score(y_test, y_pred_test)\n",
        "recall = metrics.recall_score(y_test, y_pred_test)\n",
        "f1 = metrics.f1_score(y_test, y_pred_test)\n",
        "roc_auc = metrics.roc_auc_score(y_test, y_pred_prob_test)\n",
        "\n",
        "precision, recall, f1, roc_auc"
      ],
      "metadata": {
        "colab": {
          "base_uri": "https://localhost:8080/"
        },
        "id": "VTrA5G_fUlW3",
        "outputId": "518b42d2-0b7d-4828-c572-29a682c66712"
      },
      "execution_count": 77,
      "outputs": [
        {
          "output_type": "stream",
          "name": "stderr",
          "text": [
            "/usr/local/lib/python3.7/dist-packages/sklearn/utils/validation.py:625: UserWarning: pandas.DataFrame with sparse columns found.It will be converted to a dense numpy array.\n",
            "  \"pandas.DataFrame with sparse columns found.\"\n",
            "/usr/local/lib/python3.7/dist-packages/sklearn/utils/validation.py:625: UserWarning: pandas.DataFrame with sparse columns found.It will be converted to a dense numpy array.\n",
            "  \"pandas.DataFrame with sparse columns found.\"\n"
          ]
        },
        {
          "output_type": "execute_result",
          "data": {
            "text/plain": [
              "(0.4723127035830619,\n",
              " 0.8011049723756906,\n",
              " 0.5942622950819673,\n",
              " 0.9501655831210996)"
            ]
          },
          "metadata": {},
          "execution_count": 77
        }
      ]
    },
    {
      "cell_type": "code",
      "source": [
        "from sklearn import metrics\n",
        "\n",
        "cf_matrixtr = metrics.confusion_matrix(y_resampled, y_pred_train)\n",
        "cf_matrixte = metrics.confusion_matrix(y_test, y_pred_test)\n",
        "\n",
        "report = \"\"\"\n",
        "Confusion Matrix for train dataset:\n",
        "{}\n",
        "Confusion Matrix for test dataset:\n",
        "{}\n",
        "\"\"\".format(cf_matrixtr, cf_matrixte)\n",
        "print(report)"
      ],
      "metadata": {
        "colab": {
          "base_uri": "https://localhost:8080/"
        },
        "id": "7T_uJEbuWE7Z",
        "outputId": "162c5980-91c4-4489-cefa-c10dc750427a"
      },
      "execution_count": 78,
      "outputs": [
        {
          "output_type": "stream",
          "name": "stdout",
          "text": [
            "\n",
            "Confusion Matrix for train dataset:\n",
            "[[13030   589]\n",
            " [  817  4630]]\n",
            "Confusion Matrix for test dataset:\n",
            "[[3233  162]\n",
            " [  36  145]]\n",
            "\n"
          ]
        }
      ]
    },
    {
      "cell_type": "code",
      "source": [
        "# try min_df = 0.1\n",
        "df['text'] = df.apply(lambda row: (str(row['title']) + ' ' + \n",
        "                                   str(row['company_profile']) + ' ' + \n",
        "                                   str(row['description']) + ' ' + \n",
        "                                   str(row['requirements']) + ' ' + \n",
        "                                   str(row['benefits'])), axis = 1)\n",
        "\n",
        "# Fill empty columns with \"Unspecified\"\n",
        "df['text'] = df['text'].fillna(\"Unspecified\")\n",
        "vectoriser = TfidfVectorizer(analyzer=preprocess_text, ngram_range = (1,2),   #TRY ADJUSTING ngram_range and min_df, max_df\n",
        "                                min_df= 0.1, max_df= 0.6)\n",
        "\n",
        "# Fit to the data and transform to feature matrix\n",
        "text_column = vectoriser.fit_transform(df['text'])\n",
        "\n",
        "# Convert sparse matrix to dataframe\n",
        "text_column = pd.DataFrame.sparse.from_spmatrix(text_column)\n",
        "\n",
        "# Save mapping on which index refers to which words\n",
        "col_map = {v:k for k, v in vectoriser.vocabulary_.items()}\n",
        "\n",
        "# Rename each column using the mapping\n",
        "for col in text_column.columns:\n",
        "    text_column.rename(columns={col: col_map[col]}, inplace=True)\n",
        "    \n"
      ],
      "metadata": {
        "id": "_-5s3iqGZhkg"
      },
      "execution_count": 60,
      "outputs": []
    },
    {
      "cell_type": "code",
      "execution_count": 73,
      "metadata": {
        "id": "N02YtGdDaNSF"
      },
      "outputs": [],
      "source": [
        "text = pd.concat([df[['fraudulent']], text_column], axis =1, ignore_index=False)\n",
        "\n",
        "#df.drop(columns= ['title', 'text', 'job_id', 'company_profile', 'description', 'requirements', 'benefits'], axis = 1, inplace = True)\n",
        "#text"
      ]
    },
    {
      "cell_type": "code",
      "execution_count": 75,
      "metadata": {
        "id": "d7kXyrESaNSF"
      },
      "outputs": [],
      "source": [
        "y_trial = text['fraudulent']\n",
        "X_trial = text.drop(columns='fraudulent', axis = 1)\n",
        "\n",
        "# columns with missing fields need to be dropped for SMOTE to work\n",
        "X_trial.dropna(axis = 1, inplace = True)"
      ]
    },
    {
      "cell_type": "code",
      "source": [
        "text"
      ],
      "metadata": {
        "id": "HTNZn-r6gxPc",
        "outputId": "b3b368db-b8ae-44a5-b7de-32d60cc1bec1",
        "colab": {
          "base_uri": "https://localhost:8080/",
          "height": 488
        }
      },
      "execution_count": 88,
      "outputs": [
        {
          "output_type": "execute_result",
          "data": {
            "text/plain": [
              "       fraudulent        10   ability      able   account   achieve    across  \\\n",
              "0               0  0.000000  0.000000  0.000000  0.000000  0.000000  0.000000   \n",
              "1               0  0.000000  0.025131  0.029912  0.036379  0.039085  0.000000   \n",
              "2               0  0.000000  0.000000  0.000000  0.000000  0.000000  0.071080   \n",
              "3               0  0.000000  0.031137  0.000000  0.495812  0.048426  0.000000   \n",
              "4               0  0.000000  0.000000  0.052781  0.000000  0.000000  0.058072   \n",
              "...           ...       ...       ...       ...       ...       ...       ...   \n",
              "17875           0  0.050844  0.030530  0.000000  0.132585  0.047482  0.119944   \n",
              "17876           0  0.000000  0.074580  0.044385  0.539810  0.000000  0.000000   \n",
              "17877           0  0.000000  0.034242  0.040757  0.099138  0.000000  0.000000   \n",
              "17878           0  0.000000  0.000000  0.240262  0.000000  0.000000  0.000000   \n",
              "17879           0  0.060131  0.000000  0.000000  0.000000  0.056155  0.000000   \n",
              "\n",
              "       activities  agency      also  ...      well  wide    within  without  \\\n",
              "0        0.000000     0.0  0.072084  ...  0.068278   0.0  0.000000      0.0   \n",
              "1        0.000000     0.0  0.027882  ...  0.000000   0.0  0.000000      0.0   \n",
              "2        0.598125     0.0  0.000000  ...  0.000000   0.0  0.000000      0.0   \n",
              "3        0.000000     0.0  0.000000  ...  0.000000   0.0  0.075878      0.0   \n",
              "4        0.000000     0.0  0.000000  ...  0.046601   0.0  0.000000      0.0   \n",
              "...           ...     ...       ...  ...       ...   ...       ...      ...   \n",
              "17875    0.000000     0.0  0.067746  ...  0.000000   0.0  0.037199      0.0   \n",
              "17876    0.000000     0.0  0.041373  ...  0.078377   0.0  0.045436      0.0   \n",
              "17877    0.000000     0.0  0.000000  ...  0.000000   0.0  0.000000      0.0   \n",
              "17878    0.000000     0.0  0.000000  ...  0.000000   0.0  0.000000      0.0   \n",
              "17879    0.000000     0.0  0.080120  ...  0.037944   0.0  0.043994      0.0   \n",
              "\n",
              "           word     world     would     write      year     years  \n",
              "0      0.000000  0.000000  0.000000  0.000000  0.000000  0.000000  \n",
              "1      0.000000  0.114007  0.038363  0.000000  0.000000  0.000000  \n",
              "2      0.089962  0.000000  0.000000  0.000000  0.000000  0.000000  \n",
              "3      0.000000  0.141255  0.000000  0.064909  0.041394  0.026506  \n",
              "4      0.000000  0.000000  0.000000  0.000000  0.000000  0.037749  \n",
              "...         ...       ...       ...       ...       ...       ...  \n",
              "17875  0.000000  0.069251  0.000000  0.031822  0.000000  0.000000  \n",
              "17876  0.000000  0.000000  0.056926  0.038868  0.000000  0.063488  \n",
              "17877  0.000000  0.000000  0.000000  0.000000  0.000000  0.058299  \n",
              "17878  0.000000  0.000000  0.000000  0.000000  0.000000  0.000000  \n",
              "17879  0.000000  0.122850  0.000000  0.075269  0.096002  0.000000  \n",
              "\n",
              "[17880 rows x 355 columns]"
            ],
            "text/html": [
              "\n",
              "  <div id=\"df-6068b54b-00d4-4332-a766-7c07b3b4f2b0\">\n",
              "    <div class=\"colab-df-container\">\n",
              "      <div>\n",
              "<style scoped>\n",
              "    .dataframe tbody tr th:only-of-type {\n",
              "        vertical-align: middle;\n",
              "    }\n",
              "\n",
              "    .dataframe tbody tr th {\n",
              "        vertical-align: top;\n",
              "    }\n",
              "\n",
              "    .dataframe thead th {\n",
              "        text-align: right;\n",
              "    }\n",
              "</style>\n",
              "<table border=\"1\" class=\"dataframe\">\n",
              "  <thead>\n",
              "    <tr style=\"text-align: right;\">\n",
              "      <th></th>\n",
              "      <th>fraudulent</th>\n",
              "      <th>10</th>\n",
              "      <th>ability</th>\n",
              "      <th>able</th>\n",
              "      <th>account</th>\n",
              "      <th>achieve</th>\n",
              "      <th>across</th>\n",
              "      <th>activities</th>\n",
              "      <th>agency</th>\n",
              "      <th>also</th>\n",
              "      <th>...</th>\n",
              "      <th>well</th>\n",
              "      <th>wide</th>\n",
              "      <th>within</th>\n",
              "      <th>without</th>\n",
              "      <th>word</th>\n",
              "      <th>world</th>\n",
              "      <th>would</th>\n",
              "      <th>write</th>\n",
              "      <th>year</th>\n",
              "      <th>years</th>\n",
              "    </tr>\n",
              "  </thead>\n",
              "  <tbody>\n",
              "    <tr>\n",
              "      <th>0</th>\n",
              "      <td>0</td>\n",
              "      <td>0.000000</td>\n",
              "      <td>0.000000</td>\n",
              "      <td>0.000000</td>\n",
              "      <td>0.000000</td>\n",
              "      <td>0.000000</td>\n",
              "      <td>0.000000</td>\n",
              "      <td>0.000000</td>\n",
              "      <td>0.0</td>\n",
              "      <td>0.072084</td>\n",
              "      <td>...</td>\n",
              "      <td>0.068278</td>\n",
              "      <td>0.0</td>\n",
              "      <td>0.000000</td>\n",
              "      <td>0.0</td>\n",
              "      <td>0.000000</td>\n",
              "      <td>0.000000</td>\n",
              "      <td>0.000000</td>\n",
              "      <td>0.000000</td>\n",
              "      <td>0.000000</td>\n",
              "      <td>0.000000</td>\n",
              "    </tr>\n",
              "    <tr>\n",
              "      <th>1</th>\n",
              "      <td>0</td>\n",
              "      <td>0.000000</td>\n",
              "      <td>0.025131</td>\n",
              "      <td>0.029912</td>\n",
              "      <td>0.036379</td>\n",
              "      <td>0.039085</td>\n",
              "      <td>0.000000</td>\n",
              "      <td>0.000000</td>\n",
              "      <td>0.0</td>\n",
              "      <td>0.027882</td>\n",
              "      <td>...</td>\n",
              "      <td>0.000000</td>\n",
              "      <td>0.0</td>\n",
              "      <td>0.000000</td>\n",
              "      <td>0.0</td>\n",
              "      <td>0.000000</td>\n",
              "      <td>0.114007</td>\n",
              "      <td>0.038363</td>\n",
              "      <td>0.000000</td>\n",
              "      <td>0.000000</td>\n",
              "      <td>0.000000</td>\n",
              "    </tr>\n",
              "    <tr>\n",
              "      <th>2</th>\n",
              "      <td>0</td>\n",
              "      <td>0.000000</td>\n",
              "      <td>0.000000</td>\n",
              "      <td>0.000000</td>\n",
              "      <td>0.000000</td>\n",
              "      <td>0.000000</td>\n",
              "      <td>0.071080</td>\n",
              "      <td>0.598125</td>\n",
              "      <td>0.0</td>\n",
              "      <td>0.000000</td>\n",
              "      <td>...</td>\n",
              "      <td>0.000000</td>\n",
              "      <td>0.0</td>\n",
              "      <td>0.000000</td>\n",
              "      <td>0.0</td>\n",
              "      <td>0.089962</td>\n",
              "      <td>0.000000</td>\n",
              "      <td>0.000000</td>\n",
              "      <td>0.000000</td>\n",
              "      <td>0.000000</td>\n",
              "      <td>0.000000</td>\n",
              "    </tr>\n",
              "    <tr>\n",
              "      <th>3</th>\n",
              "      <td>0</td>\n",
              "      <td>0.000000</td>\n",
              "      <td>0.031137</td>\n",
              "      <td>0.000000</td>\n",
              "      <td>0.495812</td>\n",
              "      <td>0.048426</td>\n",
              "      <td>0.000000</td>\n",
              "      <td>0.000000</td>\n",
              "      <td>0.0</td>\n",
              "      <td>0.000000</td>\n",
              "      <td>...</td>\n",
              "      <td>0.000000</td>\n",
              "      <td>0.0</td>\n",
              "      <td>0.075878</td>\n",
              "      <td>0.0</td>\n",
              "      <td>0.000000</td>\n",
              "      <td>0.141255</td>\n",
              "      <td>0.000000</td>\n",
              "      <td>0.064909</td>\n",
              "      <td>0.041394</td>\n",
              "      <td>0.026506</td>\n",
              "    </tr>\n",
              "    <tr>\n",
              "      <th>4</th>\n",
              "      <td>0</td>\n",
              "      <td>0.000000</td>\n",
              "      <td>0.000000</td>\n",
              "      <td>0.052781</td>\n",
              "      <td>0.000000</td>\n",
              "      <td>0.000000</td>\n",
              "      <td>0.058072</td>\n",
              "      <td>0.000000</td>\n",
              "      <td>0.0</td>\n",
              "      <td>0.000000</td>\n",
              "      <td>...</td>\n",
              "      <td>0.046601</td>\n",
              "      <td>0.0</td>\n",
              "      <td>0.000000</td>\n",
              "      <td>0.0</td>\n",
              "      <td>0.000000</td>\n",
              "      <td>0.000000</td>\n",
              "      <td>0.000000</td>\n",
              "      <td>0.000000</td>\n",
              "      <td>0.000000</td>\n",
              "      <td>0.037749</td>\n",
              "    </tr>\n",
              "    <tr>\n",
              "      <th>...</th>\n",
              "      <td>...</td>\n",
              "      <td>...</td>\n",
              "      <td>...</td>\n",
              "      <td>...</td>\n",
              "      <td>...</td>\n",
              "      <td>...</td>\n",
              "      <td>...</td>\n",
              "      <td>...</td>\n",
              "      <td>...</td>\n",
              "      <td>...</td>\n",
              "      <td>...</td>\n",
              "      <td>...</td>\n",
              "      <td>...</td>\n",
              "      <td>...</td>\n",
              "      <td>...</td>\n",
              "      <td>...</td>\n",
              "      <td>...</td>\n",
              "      <td>...</td>\n",
              "      <td>...</td>\n",
              "      <td>...</td>\n",
              "      <td>...</td>\n",
              "    </tr>\n",
              "    <tr>\n",
              "      <th>17875</th>\n",
              "      <td>0</td>\n",
              "      <td>0.050844</td>\n",
              "      <td>0.030530</td>\n",
              "      <td>0.000000</td>\n",
              "      <td>0.132585</td>\n",
              "      <td>0.047482</td>\n",
              "      <td>0.119944</td>\n",
              "      <td>0.000000</td>\n",
              "      <td>0.0</td>\n",
              "      <td>0.067746</td>\n",
              "      <td>...</td>\n",
              "      <td>0.000000</td>\n",
              "      <td>0.0</td>\n",
              "      <td>0.037199</td>\n",
              "      <td>0.0</td>\n",
              "      <td>0.000000</td>\n",
              "      <td>0.069251</td>\n",
              "      <td>0.000000</td>\n",
              "      <td>0.031822</td>\n",
              "      <td>0.000000</td>\n",
              "      <td>0.000000</td>\n",
              "    </tr>\n",
              "    <tr>\n",
              "      <th>17876</th>\n",
              "      <td>0</td>\n",
              "      <td>0.000000</td>\n",
              "      <td>0.074580</td>\n",
              "      <td>0.044385</td>\n",
              "      <td>0.539810</td>\n",
              "      <td>0.000000</td>\n",
              "      <td>0.000000</td>\n",
              "      <td>0.000000</td>\n",
              "      <td>0.0</td>\n",
              "      <td>0.041373</td>\n",
              "      <td>...</td>\n",
              "      <td>0.078377</td>\n",
              "      <td>0.0</td>\n",
              "      <td>0.045436</td>\n",
              "      <td>0.0</td>\n",
              "      <td>0.000000</td>\n",
              "      <td>0.000000</td>\n",
              "      <td>0.056926</td>\n",
              "      <td>0.038868</td>\n",
              "      <td>0.000000</td>\n",
              "      <td>0.063488</td>\n",
              "    </tr>\n",
              "    <tr>\n",
              "      <th>17877</th>\n",
              "      <td>0</td>\n",
              "      <td>0.000000</td>\n",
              "      <td>0.034242</td>\n",
              "      <td>0.040757</td>\n",
              "      <td>0.099138</td>\n",
              "      <td>0.000000</td>\n",
              "      <td>0.000000</td>\n",
              "      <td>0.000000</td>\n",
              "      <td>0.0</td>\n",
              "      <td>0.000000</td>\n",
              "      <td>...</td>\n",
              "      <td>0.000000</td>\n",
              "      <td>0.0</td>\n",
              "      <td>0.000000</td>\n",
              "      <td>0.0</td>\n",
              "      <td>0.000000</td>\n",
              "      <td>0.000000</td>\n",
              "      <td>0.000000</td>\n",
              "      <td>0.000000</td>\n",
              "      <td>0.000000</td>\n",
              "      <td>0.058299</td>\n",
              "    </tr>\n",
              "    <tr>\n",
              "      <th>17878</th>\n",
              "      <td>0</td>\n",
              "      <td>0.000000</td>\n",
              "      <td>0.000000</td>\n",
              "      <td>0.240262</td>\n",
              "      <td>0.000000</td>\n",
              "      <td>0.000000</td>\n",
              "      <td>0.000000</td>\n",
              "      <td>0.000000</td>\n",
              "      <td>0.0</td>\n",
              "      <td>0.000000</td>\n",
              "      <td>...</td>\n",
              "      <td>0.000000</td>\n",
              "      <td>0.0</td>\n",
              "      <td>0.000000</td>\n",
              "      <td>0.0</td>\n",
              "      <td>0.000000</td>\n",
              "      <td>0.000000</td>\n",
              "      <td>0.000000</td>\n",
              "      <td>0.000000</td>\n",
              "      <td>0.000000</td>\n",
              "      <td>0.000000</td>\n",
              "    </tr>\n",
              "    <tr>\n",
              "      <th>17879</th>\n",
              "      <td>0</td>\n",
              "      <td>0.060131</td>\n",
              "      <td>0.000000</td>\n",
              "      <td>0.000000</td>\n",
              "      <td>0.000000</td>\n",
              "      <td>0.056155</td>\n",
              "      <td>0.000000</td>\n",
              "      <td>0.000000</td>\n",
              "      <td>0.0</td>\n",
              "      <td>0.080120</td>\n",
              "      <td>...</td>\n",
              "      <td>0.037944</td>\n",
              "      <td>0.0</td>\n",
              "      <td>0.043994</td>\n",
              "      <td>0.0</td>\n",
              "      <td>0.000000</td>\n",
              "      <td>0.122850</td>\n",
              "      <td>0.000000</td>\n",
              "      <td>0.075269</td>\n",
              "      <td>0.096002</td>\n",
              "      <td>0.000000</td>\n",
              "    </tr>\n",
              "  </tbody>\n",
              "</table>\n",
              "<p>17880 rows × 355 columns</p>\n",
              "</div>\n",
              "      <button class=\"colab-df-convert\" onclick=\"convertToInteractive('df-6068b54b-00d4-4332-a766-7c07b3b4f2b0')\"\n",
              "              title=\"Convert this dataframe to an interactive table.\"\n",
              "              style=\"display:none;\">\n",
              "        \n",
              "  <svg xmlns=\"http://www.w3.org/2000/svg\" height=\"24px\"viewBox=\"0 0 24 24\"\n",
              "       width=\"24px\">\n",
              "    <path d=\"M0 0h24v24H0V0z\" fill=\"none\"/>\n",
              "    <path d=\"M18.56 5.44l.94 2.06.94-2.06 2.06-.94-2.06-.94-.94-2.06-.94 2.06-2.06.94zm-11 1L8.5 8.5l.94-2.06 2.06-.94-2.06-.94L8.5 2.5l-.94 2.06-2.06.94zm10 10l.94 2.06.94-2.06 2.06-.94-2.06-.94-.94-2.06-.94 2.06-2.06.94z\"/><path d=\"M17.41 7.96l-1.37-1.37c-.4-.4-.92-.59-1.43-.59-.52 0-1.04.2-1.43.59L10.3 9.45l-7.72 7.72c-.78.78-.78 2.05 0 2.83L4 21.41c.39.39.9.59 1.41.59.51 0 1.02-.2 1.41-.59l7.78-7.78 2.81-2.81c.8-.78.8-2.07 0-2.86zM5.41 20L4 18.59l7.72-7.72 1.47 1.35L5.41 20z\"/>\n",
              "  </svg>\n",
              "      </button>\n",
              "      \n",
              "  <style>\n",
              "    .colab-df-container {\n",
              "      display:flex;\n",
              "      flex-wrap:wrap;\n",
              "      gap: 12px;\n",
              "    }\n",
              "\n",
              "    .colab-df-convert {\n",
              "      background-color: #E8F0FE;\n",
              "      border: none;\n",
              "      border-radius: 50%;\n",
              "      cursor: pointer;\n",
              "      display: none;\n",
              "      fill: #1967D2;\n",
              "      height: 32px;\n",
              "      padding: 0 0 0 0;\n",
              "      width: 32px;\n",
              "    }\n",
              "\n",
              "    .colab-df-convert:hover {\n",
              "      background-color: #E2EBFA;\n",
              "      box-shadow: 0px 1px 2px rgba(60, 64, 67, 0.3), 0px 1px 3px 1px rgba(60, 64, 67, 0.15);\n",
              "      fill: #174EA6;\n",
              "    }\n",
              "\n",
              "    [theme=dark] .colab-df-convert {\n",
              "      background-color: #3B4455;\n",
              "      fill: #D2E3FC;\n",
              "    }\n",
              "\n",
              "    [theme=dark] .colab-df-convert:hover {\n",
              "      background-color: #434B5C;\n",
              "      box-shadow: 0px 1px 3px 1px rgba(0, 0, 0, 0.15);\n",
              "      filter: drop-shadow(0px 1px 2px rgba(0, 0, 0, 0.3));\n",
              "      fill: #FFFFFF;\n",
              "    }\n",
              "  </style>\n",
              "\n",
              "      <script>\n",
              "        const buttonEl =\n",
              "          document.querySelector('#df-6068b54b-00d4-4332-a766-7c07b3b4f2b0 button.colab-df-convert');\n",
              "        buttonEl.style.display =\n",
              "          google.colab.kernel.accessAllowed ? 'block' : 'none';\n",
              "\n",
              "        async function convertToInteractive(key) {\n",
              "          const element = document.querySelector('#df-6068b54b-00d4-4332-a766-7c07b3b4f2b0');\n",
              "          const dataTable =\n",
              "            await google.colab.kernel.invokeFunction('convertToInteractive',\n",
              "                                                     [key], {});\n",
              "          if (!dataTable) return;\n",
              "\n",
              "          const docLinkHtml = 'Like what you see? Visit the ' +\n",
              "            '<a target=\"_blank\" href=https://colab.research.google.com/notebooks/data_table.ipynb>data table notebook</a>'\n",
              "            + ' to learn more about interactive tables.';\n",
              "          element.innerHTML = '';\n",
              "          dataTable['output_type'] = 'display_data';\n",
              "          await google.colab.output.renderOutput(dataTable, element);\n",
              "          const docLink = document.createElement('div');\n",
              "          docLink.innerHTML = docLinkHtml;\n",
              "          element.appendChild(docLink);\n",
              "        }\n",
              "      </script>\n",
              "    </div>\n",
              "  </div>\n",
              "  "
            ]
          },
          "metadata": {},
          "execution_count": 88
        }
      ]
    },
    {
      "cell_type": "code",
      "source": [
        "smt = SMOTETomek(random_state=42,sampling_strategy=0.4)\n",
        "X_train, X_test, y_train, y_test = train_test_split(X_trial, y_trial, test_size=0.2, random_state=42)\n",
        "X_resample, y_resampled = smt.fit_resample(X_train, y_train)"
      ],
      "metadata": {
        "id": "HkX-ilKPZhym",
        "outputId": "d9b015a7-d851-4019-e6ad-b636fdae4062",
        "colab": {
          "base_uri": "https://localhost:8080/",
          "height": 353
        }
      },
      "execution_count": 79,
      "outputs": [
        {
          "output_type": "error",
          "ename": "ValueError",
          "evalue": "ignored",
          "traceback": [
            "\u001b[0;31m---------------------------------------------------------------------------\u001b[0m",
            "\u001b[0;31mValueError\u001b[0m                                Traceback (most recent call last)",
            "\u001b[0;32m<ipython-input-79-29c08cf511ec>\u001b[0m in \u001b[0;36m<module>\u001b[0;34m()\u001b[0m\n\u001b[1;32m      1\u001b[0m \u001b[0msmt\u001b[0m \u001b[0;34m=\u001b[0m \u001b[0mSMOTETomek\u001b[0m\u001b[0;34m(\u001b[0m\u001b[0mrandom_state\u001b[0m\u001b[0;34m=\u001b[0m\u001b[0;36m42\u001b[0m\u001b[0;34m,\u001b[0m\u001b[0msampling_strategy\u001b[0m\u001b[0;34m=\u001b[0m\u001b[0;36m0.4\u001b[0m\u001b[0;34m)\u001b[0m\u001b[0;34m\u001b[0m\u001b[0;34m\u001b[0m\u001b[0m\n\u001b[1;32m      2\u001b[0m \u001b[0mX_train\u001b[0m\u001b[0;34m,\u001b[0m \u001b[0mX_test\u001b[0m\u001b[0;34m,\u001b[0m \u001b[0my_train\u001b[0m\u001b[0;34m,\u001b[0m \u001b[0my_test\u001b[0m \u001b[0;34m=\u001b[0m \u001b[0mtrain_test_split\u001b[0m\u001b[0;34m(\u001b[0m\u001b[0mX_trial\u001b[0m\u001b[0;34m,\u001b[0m \u001b[0my_trial\u001b[0m\u001b[0;34m,\u001b[0m \u001b[0mtest_size\u001b[0m\u001b[0;34m=\u001b[0m\u001b[0;36m0.2\u001b[0m\u001b[0;34m,\u001b[0m \u001b[0mrandom_state\u001b[0m\u001b[0;34m=\u001b[0m\u001b[0;36m42\u001b[0m\u001b[0;34m)\u001b[0m\u001b[0;34m\u001b[0m\u001b[0;34m\u001b[0m\u001b[0m\n\u001b[0;32m----> 3\u001b[0;31m \u001b[0mX_resample\u001b[0m\u001b[0;34m,\u001b[0m \u001b[0my_resampled\u001b[0m \u001b[0;34m=\u001b[0m \u001b[0msmt\u001b[0m\u001b[0;34m.\u001b[0m\u001b[0mfit_resample\u001b[0m\u001b[0;34m(\u001b[0m\u001b[0mX_train\u001b[0m\u001b[0;34m,\u001b[0m \u001b[0my_train\u001b[0m\u001b[0;34m)\u001b[0m\u001b[0;34m\u001b[0m\u001b[0;34m\u001b[0m\u001b[0m\n\u001b[0m",
            "\u001b[0;32m/usr/local/lib/python3.7/dist-packages/imblearn/base.py\u001b[0m in \u001b[0;36mfit_resample\u001b[0;34m(self, X, y)\u001b[0m\n\u001b[1;32m     87\u001b[0m         )\n\u001b[1;32m     88\u001b[0m \u001b[0;34m\u001b[0m\u001b[0m\n\u001b[0;32m---> 89\u001b[0;31m         \u001b[0mX_\u001b[0m\u001b[0;34m,\u001b[0m \u001b[0my_\u001b[0m \u001b[0;34m=\u001b[0m \u001b[0marrays_transformer\u001b[0m\u001b[0;34m.\u001b[0m\u001b[0mtransform\u001b[0m\u001b[0;34m(\u001b[0m\u001b[0moutput\u001b[0m\u001b[0;34m[\u001b[0m\u001b[0;36m0\u001b[0m\u001b[0;34m]\u001b[0m\u001b[0;34m,\u001b[0m \u001b[0my_\u001b[0m\u001b[0;34m)\u001b[0m\u001b[0;34m\u001b[0m\u001b[0;34m\u001b[0m\u001b[0m\n\u001b[0m\u001b[1;32m     90\u001b[0m         \u001b[0;32mreturn\u001b[0m \u001b[0;34m(\u001b[0m\u001b[0mX_\u001b[0m\u001b[0;34m,\u001b[0m \u001b[0my_\u001b[0m\u001b[0;34m)\u001b[0m \u001b[0;32mif\u001b[0m \u001b[0mlen\u001b[0m\u001b[0;34m(\u001b[0m\u001b[0moutput\u001b[0m\u001b[0;34m)\u001b[0m \u001b[0;34m==\u001b[0m \u001b[0;36m2\u001b[0m \u001b[0;32melse\u001b[0m \u001b[0;34m(\u001b[0m\u001b[0mX_\u001b[0m\u001b[0;34m,\u001b[0m \u001b[0my_\u001b[0m\u001b[0;34m,\u001b[0m \u001b[0moutput\u001b[0m\u001b[0;34m[\u001b[0m\u001b[0;36m2\u001b[0m\u001b[0;34m]\u001b[0m\u001b[0;34m)\u001b[0m\u001b[0;34m\u001b[0m\u001b[0;34m\u001b[0m\u001b[0m\n\u001b[1;32m     91\u001b[0m \u001b[0;34m\u001b[0m\u001b[0m\n",
            "\u001b[0;32m/usr/local/lib/python3.7/dist-packages/imblearn/utils/_validation.py\u001b[0m in \u001b[0;36mtransform\u001b[0;34m(self, X, y)\u001b[0m\n\u001b[1;32m     38\u001b[0m \u001b[0;34m\u001b[0m\u001b[0m\n\u001b[1;32m     39\u001b[0m     \u001b[0;32mdef\u001b[0m \u001b[0mtransform\u001b[0m\u001b[0;34m(\u001b[0m\u001b[0mself\u001b[0m\u001b[0;34m,\u001b[0m \u001b[0mX\u001b[0m\u001b[0;34m,\u001b[0m \u001b[0my\u001b[0m\u001b[0;34m)\u001b[0m\u001b[0;34m:\u001b[0m\u001b[0;34m\u001b[0m\u001b[0;34m\u001b[0m\u001b[0m\n\u001b[0;32m---> 40\u001b[0;31m         \u001b[0mX\u001b[0m \u001b[0;34m=\u001b[0m \u001b[0mself\u001b[0m\u001b[0;34m.\u001b[0m\u001b[0m_transfrom_one\u001b[0m\u001b[0;34m(\u001b[0m\u001b[0mX\u001b[0m\u001b[0;34m,\u001b[0m \u001b[0mself\u001b[0m\u001b[0;34m.\u001b[0m\u001b[0mx_props\u001b[0m\u001b[0;34m)\u001b[0m\u001b[0;34m\u001b[0m\u001b[0;34m\u001b[0m\u001b[0m\n\u001b[0m\u001b[1;32m     41\u001b[0m         \u001b[0my\u001b[0m \u001b[0;34m=\u001b[0m \u001b[0mself\u001b[0m\u001b[0;34m.\u001b[0m\u001b[0m_transfrom_one\u001b[0m\u001b[0;34m(\u001b[0m\u001b[0my\u001b[0m\u001b[0;34m,\u001b[0m \u001b[0mself\u001b[0m\u001b[0;34m.\u001b[0m\u001b[0my_props\u001b[0m\u001b[0;34m)\u001b[0m\u001b[0;34m\u001b[0m\u001b[0;34m\u001b[0m\u001b[0m\n\u001b[1;32m     42\u001b[0m         \u001b[0;32mreturn\u001b[0m \u001b[0mX\u001b[0m\u001b[0;34m,\u001b[0m \u001b[0my\u001b[0m\u001b[0;34m\u001b[0m\u001b[0;34m\u001b[0m\u001b[0m\n",
            "\u001b[0;32m/usr/local/lib/python3.7/dist-packages/imblearn/utils/_validation.py\u001b[0m in \u001b[0;36m_transfrom_one\u001b[0;34m(self, array, props)\u001b[0m\n\u001b[1;32m     57\u001b[0m             \u001b[0;32mimport\u001b[0m \u001b[0mpandas\u001b[0m \u001b[0;32mas\u001b[0m \u001b[0mpd\u001b[0m\u001b[0;34m\u001b[0m\u001b[0;34m\u001b[0m\u001b[0m\n\u001b[1;32m     58\u001b[0m \u001b[0;34m\u001b[0m\u001b[0m\n\u001b[0;32m---> 59\u001b[0;31m             \u001b[0mret\u001b[0m \u001b[0;34m=\u001b[0m \u001b[0mpd\u001b[0m\u001b[0;34m.\u001b[0m\u001b[0mDataFrame\u001b[0m\u001b[0;34m(\u001b[0m\u001b[0marray\u001b[0m\u001b[0;34m,\u001b[0m \u001b[0mcolumns\u001b[0m\u001b[0;34m=\u001b[0m\u001b[0mprops\u001b[0m\u001b[0;34m[\u001b[0m\u001b[0;34m\"columns\"\u001b[0m\u001b[0;34m]\u001b[0m\u001b[0;34m)\u001b[0m\u001b[0;34m\u001b[0m\u001b[0;34m\u001b[0m\u001b[0m\n\u001b[0m\u001b[1;32m     60\u001b[0m             \u001b[0mret\u001b[0m \u001b[0;34m=\u001b[0m \u001b[0mret\u001b[0m\u001b[0;34m.\u001b[0m\u001b[0mastype\u001b[0m\u001b[0;34m(\u001b[0m\u001b[0mprops\u001b[0m\u001b[0;34m[\u001b[0m\u001b[0;34m\"dtypes\"\u001b[0m\u001b[0;34m]\u001b[0m\u001b[0;34m)\u001b[0m\u001b[0;34m\u001b[0m\u001b[0;34m\u001b[0m\u001b[0m\n\u001b[1;32m     61\u001b[0m         \u001b[0;32melif\u001b[0m \u001b[0mtype_\u001b[0m \u001b[0;34m==\u001b[0m \u001b[0;34m\"series\"\u001b[0m\u001b[0;34m:\u001b[0m\u001b[0;34m\u001b[0m\u001b[0;34m\u001b[0m\u001b[0m\n",
            "\u001b[0;32m/usr/local/lib/python3.7/dist-packages/pandas/core/frame.py\u001b[0m in \u001b[0;36m__init__\u001b[0;34m(self, data, index, columns, dtype, copy)\u001b[0m\n\u001b[1;32m    715\u001b[0m                         \u001b[0mdtype\u001b[0m\u001b[0;34m=\u001b[0m\u001b[0mdtype\u001b[0m\u001b[0;34m,\u001b[0m\u001b[0;34m\u001b[0m\u001b[0;34m\u001b[0m\u001b[0m\n\u001b[1;32m    716\u001b[0m                         \u001b[0mcopy\u001b[0m\u001b[0;34m=\u001b[0m\u001b[0mcopy\u001b[0m\u001b[0;34m,\u001b[0m\u001b[0;34m\u001b[0m\u001b[0;34m\u001b[0m\u001b[0m\n\u001b[0;32m--> 717\u001b[0;31m                         \u001b[0mtyp\u001b[0m\u001b[0;34m=\u001b[0m\u001b[0mmanager\u001b[0m\u001b[0;34m,\u001b[0m\u001b[0;34m\u001b[0m\u001b[0;34m\u001b[0m\u001b[0m\n\u001b[0m\u001b[1;32m    718\u001b[0m                     )\n\u001b[1;32m    719\u001b[0m             \u001b[0;32melse\u001b[0m\u001b[0;34m:\u001b[0m\u001b[0;34m\u001b[0m\u001b[0;34m\u001b[0m\u001b[0m\n",
            "\u001b[0;32m/usr/local/lib/python3.7/dist-packages/pandas/core/internals/construction.py\u001b[0m in \u001b[0;36mndarray_to_mgr\u001b[0;34m(values, index, columns, dtype, copy, typ)\u001b[0m\n\u001b[1;32m    322\u001b[0m     )\n\u001b[1;32m    323\u001b[0m \u001b[0;34m\u001b[0m\u001b[0m\n\u001b[0;32m--> 324\u001b[0;31m     \u001b[0m_check_values_indices_shape_match\u001b[0m\u001b[0;34m(\u001b[0m\u001b[0mvalues\u001b[0m\u001b[0;34m,\u001b[0m \u001b[0mindex\u001b[0m\u001b[0;34m,\u001b[0m \u001b[0mcolumns\u001b[0m\u001b[0;34m)\u001b[0m\u001b[0;34m\u001b[0m\u001b[0;34m\u001b[0m\u001b[0m\n\u001b[0m\u001b[1;32m    325\u001b[0m \u001b[0;34m\u001b[0m\u001b[0m\n\u001b[1;32m    326\u001b[0m     \u001b[0;32mif\u001b[0m \u001b[0mtyp\u001b[0m \u001b[0;34m==\u001b[0m \u001b[0;34m\"array\"\u001b[0m\u001b[0;34m:\u001b[0m\u001b[0;34m\u001b[0m\u001b[0;34m\u001b[0m\u001b[0m\n",
            "\u001b[0;32m/usr/local/lib/python3.7/dist-packages/pandas/core/internals/construction.py\u001b[0m in \u001b[0;36m_check_values_indices_shape_match\u001b[0;34m(values, index, columns)\u001b[0m\n\u001b[1;32m    391\u001b[0m         \u001b[0mpassed\u001b[0m \u001b[0;34m=\u001b[0m \u001b[0mvalues\u001b[0m\u001b[0;34m.\u001b[0m\u001b[0mshape\u001b[0m\u001b[0;34m\u001b[0m\u001b[0;34m\u001b[0m\u001b[0m\n\u001b[1;32m    392\u001b[0m         \u001b[0mimplied\u001b[0m \u001b[0;34m=\u001b[0m \u001b[0;34m(\u001b[0m\u001b[0mlen\u001b[0m\u001b[0;34m(\u001b[0m\u001b[0mindex\u001b[0m\u001b[0;34m)\u001b[0m\u001b[0;34m,\u001b[0m \u001b[0mlen\u001b[0m\u001b[0;34m(\u001b[0m\u001b[0mcolumns\u001b[0m\u001b[0;34m)\u001b[0m\u001b[0;34m)\u001b[0m\u001b[0;34m\u001b[0m\u001b[0;34m\u001b[0m\u001b[0m\n\u001b[0;32m--> 393\u001b[0;31m         \u001b[0;32mraise\u001b[0m \u001b[0mValueError\u001b[0m\u001b[0;34m(\u001b[0m\u001b[0;34mf\"Shape of passed values is {passed}, indices imply {implied}\"\u001b[0m\u001b[0;34m)\u001b[0m\u001b[0;34m\u001b[0m\u001b[0;34m\u001b[0m\u001b[0m\n\u001b[0m\u001b[1;32m    394\u001b[0m \u001b[0;34m\u001b[0m\u001b[0m\n\u001b[1;32m    395\u001b[0m \u001b[0;34m\u001b[0m\u001b[0m\n",
            "\u001b[0;31mValueError\u001b[0m: Shape of passed values is (19066, 1), indices imply (19066, 354)"
          ]
        }
      ]
    },
    {
      "cell_type": "code",
      "source": [
        "mnb2 = naive_bayes.MultinomialNB()\n",
        "mnb2.fit(text_resample, y_resampled)\n",
        "\n",
        "y_pred_train = mnb.predict(X_resample)\n",
        "y_pred_prob_train = mnb.predict_proba(X_resample)[:,1]\n",
        "y_pred_test = mnb2.predict(text_test)\n",
        "y_pred_prob_test = mnb2.predict_proba(text_test)[:,1]\n",
        "    \n",
        "precision = metrics.precision_score(y_test, y_pred_test)\n",
        "recall = metrics.recall_score(y_test, y_pred_test)\n",
        "f1 = metrics.f1_score(y_test, y_pred_test)\n",
        "roc_auc = metrics.roc_auc_score(y_test, y_pred_prob_test)\n",
        "\n",
        "precision, recall, f1, roc_auc"
      ],
      "metadata": {
        "outputId": "518b42d2-0b7d-4828-c572-29a682c66712",
        "colab": {
          "base_uri": "https://localhost:8080/"
        },
        "id": "a-3A7_00gOCp"
      },
      "execution_count": null,
      "outputs": [
        {
          "output_type": "stream",
          "name": "stderr",
          "text": [
            "/usr/local/lib/python3.7/dist-packages/sklearn/utils/validation.py:625: UserWarning: pandas.DataFrame with sparse columns found.It will be converted to a dense numpy array.\n",
            "  \"pandas.DataFrame with sparse columns found.\"\n",
            "/usr/local/lib/python3.7/dist-packages/sklearn/utils/validation.py:625: UserWarning: pandas.DataFrame with sparse columns found.It will be converted to a dense numpy array.\n",
            "  \"pandas.DataFrame with sparse columns found.\"\n"
          ]
        },
        {
          "output_type": "execute_result",
          "data": {
            "text/plain": [
              "(0.4723127035830619,\n",
              " 0.8011049723756906,\n",
              " 0.5942622950819673,\n",
              " 0.9501655831210996)"
            ]
          },
          "metadata": {},
          "execution_count": 77
        }
      ]
    },
    {
      "cell_type": "code",
      "source": [
        "from sklearn import metrics\n",
        "\n",
        "cf_matrixtr = metrics.confusion_matrix(y_resampled, y_pred_train)\n",
        "cf_matrixte = metrics.confusion_matrix(y_test, y_pred_test)\n",
        "\n",
        "report = \"\"\"\n",
        "Confusion Matrix for train dataset:\n",
        "{}\n",
        "Confusion Matrix for test dataset:\n",
        "{}\n",
        "\"\"\".format(cf_matrixtr, cf_matrixte)\n",
        "print(report)"
      ],
      "metadata": {
        "outputId": "162c5980-91c4-4489-cefa-c10dc750427a",
        "colab": {
          "base_uri": "https://localhost:8080/"
        },
        "id": "BioB0_V1gOC_"
      },
      "execution_count": null,
      "outputs": [
        {
          "output_type": "stream",
          "name": "stdout",
          "text": [
            "\n",
            "Confusion Matrix for train dataset:\n",
            "[[13030   589]\n",
            " [  817  4630]]\n",
            "Confusion Matrix for test dataset:\n",
            "[[3233  162]\n",
            " [  36  145]]\n",
            "\n"
          ]
        }
      ]
    }
  ],
  "metadata": {
    "colab": {
      "name": "Untitled0.ipynb",
      "provenance": [],
      "include_colab_link": true
    },
    "gpuClass": "standard",
    "kernelspec": {
      "display_name": "Python 3.9.12 ('base')",
      "language": "python",
      "name": "python3"
    },
    "language_info": {
      "codemirror_mode": {
        "name": "ipython",
        "version": 3
      },
      "file_extension": ".py",
      "mimetype": "text/x-python",
      "name": "python",
      "nbconvert_exporter": "python",
      "pygments_lexer": "ipython3",
      "version": "3.9.12"
    },
    "vscode": {
      "interpreter": {
        "hash": "6db6757d2219ecdf46c0ab9b78406c60d024e73c9d387fbdfd93268331248cc4"
      }
    }
  },
  "nbformat": 4,
  "nbformat_minor": 0
}