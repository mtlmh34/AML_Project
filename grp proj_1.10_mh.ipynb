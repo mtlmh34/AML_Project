{
 "cells": [
  {
   "cell_type": "code",
   "execution_count": 435,
   "id": "852058be-2064-4b12-939d-bc1c3447c144",
   "metadata": {},
   "outputs": [
    {
     "name": "stderr",
     "output_type": "stream",
     "text": [
      "[nltk_data] Downloading package stopwords to\n",
      "[nltk_data]     /Users/minghaooo/nltk_data...\n",
      "[nltk_data]   Package stopwords is already up-to-date!\n",
      "[nltk_data] Downloading package wordnet to\n",
      "[nltk_data]     /Users/minghaooo/nltk_data...\n",
      "[nltk_data]   Package wordnet is already up-to-date!\n",
      "[nltk_data] Downloading package omw-1.4 to\n",
      "[nltk_data]     /Users/minghaooo/nltk_data...\n",
      "[nltk_data]   Package omw-1.4 is already up-to-date!\n"
     ]
    }
   ],
   "source": [
    "import numpy as np\n",
    "import pandas as pd\n",
    "import re\n",
    "import nltk\n",
    "nltk.download('stopwords')\n",
    "nltk.download('wordnet')\n",
    "nltk.download('omw-1.4')\n",
    "from nltk.tokenize import RegexpTokenizer\n",
    "from nltk.stem import WordNetLemmatizer\n",
    "from nltk.corpus import stopwords\n",
    "from sklearn.feature_extraction.text import TfidfVectorizer\n",
    "from sklearn import linear_model, tree, model_selection, ensemble, svm, metrics, naive_bayes\n",
    "from sklearn import preprocessing"
   ]
  },
  {
   "cell_type": "code",
   "execution_count": 436,
   "id": "96951fcc-596e-4aec-a70f-c13e9e7d6dcc",
   "metadata": {},
   "outputs": [],
   "source": [
    "df=pd.read_csv('fake_job_postings.csv')"
   ]
  },
  {
   "cell_type": "code",
   "execution_count": 437,
   "id": "f4bcf598-06d0-4123-8916-80e438ee1197",
   "metadata": {},
   "outputs": [
    {
     "data": {
      "text/plain": [
       "Index(['job_id', 'title', 'department', 'company_profile', 'description',\n",
       "       'requirements', 'benefits', 'telecommuting', 'has_company_logo',\n",
       "       'has_questions', 'employment_type', 'required_experience',\n",
       "       'required_education', 'industry', 'function', 'fraudulent', 'country',\n",
       "       'state', 'city', 'min_salary', 'max_salary'],\n",
       "      dtype='object')"
      ]
     },
     "execution_count": 437,
     "metadata": {},
     "output_type": "execute_result"
    }
   ],
   "source": [
    "#--------1. split the columns to country, state, and city\n",
    "\n",
    "# to use country only?\n",
    "df['country']=df.location.str.split(',',expand=True)[:][0]\n",
    "\n",
    "df['state']=df.location.str.split(',',expand=True)[:][1]\n",
    "df['city']=df.location.str.split(',',expand=True)[:][2]\n",
    "\n",
    "\n",
    "#----------2. replacing different kinds of missing value to np.nan\n",
    "df.state = df.state.str.strip()\n",
    "df.state.fillna(value=np.nan, inplace=True)\n",
    "df.state.replace('', np.nan, inplace=True)\n",
    "df.state.replace(' ', np.nan, inplace=True)\n",
    "\n",
    "\n",
    "#----------3. clear the whitespaces and signs at the start/end\n",
    "\n",
    "df.city = df.city.str.strip(' /:\\\\')\n",
    "\n",
    "#---------4. replacing different kinds of missing value to np.nan\n",
    "df.city.fillna(value=np.nan, inplace=True)\n",
    "df.city.replace('', np.nan, inplace=True)\n",
    "df.city.replace(' ', np.nan, inplace=True)\n",
    "df['city']=df.city.str.lower()\n",
    "\n",
    "\n",
    "#---------4. spilt salary range into min and max\n",
    "\n",
    "df.salary_range.fillna(value=np.nan, inplace=True)\n",
    "df.salary_range.replace('', np.nan, inplace=True)\n",
    "df.salary_range.replace(' ', np.nan, inplace=True)\n",
    "\n",
    "\n",
    "\n",
    "df['min_salary']=df.salary_range.str.split('-',expand=True)[:][0]\n",
    "df['max_salary']=df.salary_range.str.split('-',expand=True)[:][1]\n",
    "\n",
    "df.max_salary.fillna(value=np.nan, inplace=True)\n",
    "\n",
    "\n",
    "#----------5. for entry of salary_range as date, max and min salary are grouped as null value\n",
    "df.loc[df['max_salary'].isin(['Apr', 'Dec', 'Jun', 'Nov', 'Oct', 'Sep']),['max_salary', 'min_salary']]=np.nan\n",
    "df.loc[df['min_salary'].isin(['Dec', 'Jun', 'Oct']),['max_salary', 'min_salary']]=np.nan\n",
    "\n",
    "#convert them into numerical value\n",
    "df[['min_salary','max_salary']] = df[['min_salary','max_salary']].astype(float)\n",
    "\n",
    "#for regression model, need to impute NaN values to median/mean\n",
    "# df['max_salary'].fillna(value=df['max_salary'].mean(), inplace=True)\n",
    "# df['min_salary'].fillna(value=df['min_salary'].mean(), inplace=True)\n",
    "\n",
    "df.drop(['location', 'salary_range'], axis = 1, inplace = True)\n",
    "\n",
    "df.columns"
   ]
  },
  {
   "cell_type": "code",
   "execution_count": 469,
   "id": "0425fc4f-4abb-4716-baa9-71530b6e288f",
   "metadata": {},
   "outputs": [
    {
     "data": {
      "text/plain": [
       "\"def preprocess_text(text):\\n    # Tokenise words while ignoring punctuation\\n    tokeniser = RegexpTokenizer(r'(?u)\\x08\\\\w\\\\w+\\x08')\\n    tokens = tokeniser.tokenize(text)\\n    \\n    # Lowercase and lemmatise \\n    lemmatiser = WordNetLemmatizer()\\n    lemmas = [lemmatiser.lemmatize(token.lower(), pos='v') for token in tokens]\\n    \\n    # Remove stopwords\\n    keywords= [lemma for lemma in lemmas if lemma not in stopwords.words('english')]\\n    return keywords\\n\""
      ]
     },
     "execution_count": 469,
     "metadata": {},
     "output_type": "execute_result"
    }
   ],
   "source": [
    "# this function for preprocessing text is used linked from the next function\n",
    "\n",
    "'''def preprocess_text(text):\n",
    "    # Tokenise words while ignoring punctuation\n",
    "    tokeniser = RegexpTokenizer(r'(?u)\\b\\w\\w+\\b')\n",
    "    tokens = tokeniser.tokenize(text)\n",
    "    \n",
    "    # Lowercase and lemmatise \n",
    "    lemmatiser = WordNetLemmatizer()\n",
    "    lemmas = [lemmatiser.lemmatize(token.lower(), pos='v') for token in tokens]\n",
    "    \n",
    "    # Remove stopwords\n",
    "    keywords= [lemma for lemma in lemmas if lemma not in stopwords.words('english')]\n",
    "    return keywords\n",
    "'''"
   ]
  },
  {
   "cell_type": "code",
   "execution_count": 470,
   "id": "d7bbf4ef-5ee8-4961-af4e-cd1fdc5fe8d4",
   "metadata": {},
   "outputs": [
    {
     "data": {
      "text/plain": [
       "'df[\\'text\\'] = df.apply(lambda row: (str(row[\\'title\\']) + \\' \\' + \\n                                   str(row[\\'company_profile\\']) + \\' \\' + \\n                                   str(row[\\'description\\']) + \\' \\' + \\n                                   str(row[\\'requirements\\']) + \\' \\' + \\n                                   str(row[\\'benefits\\'])), axis = 1)\\n\\n# Fill empty columns with \"Unspecified\"\\ndf[\\'text\\'] = df[\\'text\\'].fillna(\"Unspecified\")\\n    \\n# Create an instance of TfidfVectorizer\\nvectoriser = TfidfVectorizer(analyzer=preprocess_text, ngram_range = (1,2),   #TRY ADJUSTING ngram_range and min_df, max_df\\n                                min_df= 0.01, max_df= 0.6)\\n\\n# Fit to the data and transform to feature matrix\\ntext_column = vectoriser.fit_transform(df[\\'text\\']).todense()\\n\\n# Convert sparse matrix to dataframe\\ntext_column = pd.DataFrame(text_column)\\n\\n# Save mapping on which index refers to which words\\ncol_map = {v:k for k, v in vectoriser.vocabulary_.items()}\\n\\n# Rename each column using the mapping\\nfor col in text_column.columns:\\n    text_column.rename(columns={col: col_map[col]}, inplace=True)\\n    '"
      ]
     },
     "execution_count": 470,
     "metadata": {},
     "output_type": "execute_result"
    }
   ],
   "source": [
    "'''df['text'] = df.apply(lambda row: (str(row['title']) + ' ' + \n",
    "                                   str(row['company_profile']) + ' ' + \n",
    "                                   str(row['description']) + ' ' + \n",
    "                                   str(row['requirements']) + ' ' + \n",
    "                                   str(row['benefits'])), axis = 1)\n",
    "\n",
    "# Fill empty columns with \"Unspecified\"\n",
    "df['text'] = df['text'].fillna(\"Unspecified\")\n",
    "    \n",
    "# Create an instance of TfidfVectorizer\n",
    "vectoriser = TfidfVectorizer(analyzer=preprocess_text, ngram_range = (1,2),   #TRY ADJUSTING ngram_range and min_df, max_df\n",
    "                                min_df= 0.01, max_df= 0.6)\n",
    "\n",
    "# Fit to the data and transform to feature matrix\n",
    "text_column = vectoriser.fit_transform(df['text']).todense()\n",
    "\n",
    "# Convert sparse matrix to dataframe\n",
    "text_column = pd.DataFrame(text_column)\n",
    "\n",
    "# Save mapping on which index refers to which words\n",
    "col_map = {v:k for k, v in vectoriser.vocabulary_.items()}\n",
    "\n",
    "# Rename each column using the mapping\n",
    "for col in text_column.columns:\n",
    "    text_column.rename(columns={col: col_map[col]}, inplace=True)\n",
    "    '''"
   ]
  },
  {
   "cell_type": "code",
   "execution_count": 439,
   "id": "a93664d5-0ae0-4b27-a17d-a9274ad5b6bd",
   "metadata": {},
   "outputs": [
    {
     "name": "stdout",
     "output_type": "stream",
     "text": [
      "<class 'pandas.core.frame.DataFrame'>\n",
      "RangeIndex: 17880 entries, 0 to 17879\n",
      "Columns: 2336 entries, 00 to zone\n",
      "dtypes: float64(2336)\n",
      "memory usage: 318.7 MB\n"
     ]
    }
   ],
   "source": [
    "text_column.info()"
   ]
  },
  {
   "cell_type": "code",
   "execution_count": 440,
   "id": "3182d28e-539f-4177-ada4-0842c37acb9b",
   "metadata": {},
   "outputs": [],
   "source": [
    "columns_to_remove = ['title','company_profile', 'description', 'requirements', 'benefits']\n",
    "\n",
    "for i in columns_to_remove:\n",
    "  df[i] = df[i].fillna(\"unspecified\")\n",
    "\n",
    "df['title'] = df['title'].fillna(\"Unspecified\")\n",
    "df['requirements'] = df['requirements'].fillna(\"Unspecified\")\n",
    "df['benefits'] = df['benefits'].fillna(\"Unspecified\")\n",
    "df['company_profile'] = df['company_profile'].fillna(\"Unspecified\")\n",
    "df['description'] = df['description'].fillna(\"Unspecified\")\n",
    "\n",
    "df['has_title'] = df['title'].apply(lambda x: 0 if x == \"unspecified\" else 1)\n",
    "df['has_requirements'] = df['company_profile'].apply(lambda x: 0 if x == \"unspecified\" else 1)\n",
    "df['has_comp_profile'] = df['description'].apply(lambda x: 0 if x == \"unspecified\" else 1)\n",
    "df['has_description'] = df['requirements'].apply(lambda x: 0 if x == \"unspecified\" else 1)\n",
    "df['has_benefits'] = df['benefits'].apply(lambda x: 0 if x == \"unspecified\" else 1)"
   ]
  },
  {
   "cell_type": "code",
   "execution_count": null,
   "id": "e889d015-5bbb-4f33-a368-c00bfd0b1b35",
   "metadata": {},
   "outputs": [],
   "source": []
  },
  {
   "cell_type": "code",
   "execution_count": null,
   "id": "0274b54c-c073-4c80-b3fb-f20ba62bc344",
   "metadata": {},
   "outputs": [],
   "source": []
  },
  {
   "cell_type": "code",
   "execution_count": null,
   "id": "fbdafbc2-4595-4797-9b04-2d1723f977dc",
   "metadata": {},
   "outputs": [],
   "source": [
    "#-----------------------------------------"
   ]
  },
  {
   "cell_type": "code",
   "execution_count": null,
   "id": "318f8fea-a91f-4dfb-9cbb-abdda7422600",
   "metadata": {},
   "outputs": [],
   "source": []
  },
  {
   "cell_type": "code",
   "execution_count": null,
   "id": "5675264c-0d5d-4266-917f-ac2f18101e7d",
   "metadata": {},
   "outputs": [],
   "source": []
  },
  {
   "cell_type": "code",
   "execution_count": 441,
   "id": "2229db2c-6b86-4d8b-86bd-d3fc2b5eaa26",
   "metadata": {},
   "outputs": [],
   "source": [
    "#df[['department', 'employment_type', 'required_experience', 'required_education',\n",
    "#    'industry','function', 'country', 'state', 'city']]\n",
    "\n",
    "from sklearn import preprocessing\n",
    "\n",
    "def ohEncoder(col):\n",
    "    onehot=preprocessing.OneHotEncoder()\n",
    "    feature_array = onehot.fit_transform(col).toarray()\n",
    "    feature_labels = np.array(onehot.categories_).ravel()\n",
    "    feature_labels = np.array(feature_labels).ravel()\n",
    "    \n",
    "    new_df=pd.DataFrame(feature_array, columns=feature_labels)\n",
    "    return new_df\n",
    "\n",
    "\n",
    "cats=ohEncoder(df[['department']])\n",
    "\n",
    "cats = pd.concat([cats, ohEncoder(df[['employment_type']])], axis =1, ignore_index=False)\n",
    "cats = pd.concat([cats, ohEncoder(df[['required_experience']])], axis =1, ignore_index=False)\n",
    "cats = pd.concat([cats, ohEncoder(df[['required_education']])], axis =1, ignore_index=False)\n",
    "#cats = pd.concat([cats, ohEncoder(df[['industry']])], axis =1, ignore_index=False)\n",
    "cats = pd.concat([cats, ohEncoder(df[['function']])], axis =1, ignore_index=False)\n",
    "cats = pd.concat([cats, ohEncoder(df[['country']])], axis =1, ignore_index=False)\n",
    "cats = pd.concat([cats, ohEncoder(df[['state']])], axis =1, ignore_index=False)\n",
    "cats = pd.concat([cats, ohEncoder(df[['city']])], axis =1, ignore_index=False)"
   ]
  },
  {
   "cell_type": "code",
   "execution_count": 451,
   "id": "0dd2a88c-ce01-4d9d-8255-31ee744d433e",
   "metadata": {},
   "outputs": [],
   "source": [
    "others=df[['telecommuting', 'has_company_logo','has_questions', 'has_title','has_requirements', 'has_comp_profile', 'has_description','has_benefits']]"
   ]
  },
  {
   "cell_type": "code",
   "execution_count": 454,
   "id": "a16c6264-ea4c-47f5-b496-d6e65f6d0d5a",
   "metadata": {},
   "outputs": [],
   "source": [
    "#scalar for text_column\n",
    "'''scaled_features = preprocessing.StandardScaler().fit_transform(text_column.values)\n",
    "scaled_text = pd.DataFrame(scaled_features, index=text_column.index, columns=text_column.columns)'''"
   ]
  },
  {
   "cell_type": "code",
   "execution_count": 457,
   "id": "18f76a74-b726-418c-bde2-9fdc7e3c95a1",
   "metadata": {},
   "outputs": [],
   "source": [
    "final_df=pd.concat([cats, others], axis =1, ignore_index=False)"
   ]
  },
  {
   "cell_type": "code",
   "execution_count": 458,
   "id": "3368ad27-fc1e-463f-9273-73bb06bb0188",
   "metadata": {},
   "outputs": [
    {
     "name": "stdout",
     "output_type": "stream",
     "text": [
      "<class 'pandas.core.frame.DataFrame'>\n",
      "RangeIndex: 17880 entries, 0 to 17879\n",
      "Columns: 3858 entries,   to has_benefits\n",
      "dtypes: float64(3850), int64(8)\n",
      "memory usage: 526.3 MB\n"
     ]
    }
   ],
   "source": [
    "final_df.info()"
   ]
  },
  {
   "cell_type": "code",
   "execution_count": 479,
   "id": "266c7f54-2b20-48af-bf21-3fda365b8e99",
   "metadata": {},
   "outputs": [],
   "source": [
    "y_trial = df[['fraudulent']]"
   ]
  },
  {
   "cell_type": "code",
   "execution_count": 481,
   "id": "96e18106-5f4d-4a0e-9a23-3f5e6fe0c2c7",
   "metadata": {},
   "outputs": [],
   "source": [
    "#pip install imblearn"
   ]
  },
  {
   "cell_type": "code",
   "execution_count": 483,
   "id": "421613b0-b0dc-4dc3-b665-2ae3def24088",
   "metadata": {},
   "outputs": [],
   "source": [
    "from imblearn.combine import SMOTETomek\n",
    "smt = SMOTETomek(random_state=42, sampling_strategy=0.4)\n",
    "X_train, X_test, y_train, y_test = model_selection.train_test_split(final_df, y_trial, test_size=0.2, random_state=42)\n",
    "\n",
    "\n",
    "X_resample, y_resampled = smt.fit_resample(np.array(X_train), y_train)"
   ]
  },
  {
   "cell_type": "code",
   "execution_count": 484,
   "id": "0382b411-967a-4364-ae98-5e5b0f0d111c",
   "metadata": {},
   "outputs": [
    {
     "data": {
      "text/plain": [
       "((19066, 3858), (19066, 1))"
      ]
     },
     "execution_count": 484,
     "metadata": {},
     "output_type": "execute_result"
    }
   ],
   "source": [
    "X_resample.shape,y_resampled.shape"
   ]
  },
  {
   "cell_type": "code",
   "execution_count": 461,
   "id": "6e3e720f-4baa-47b6-bcca-0a1578ce0e49",
   "metadata": {},
   "outputs": [
    {
     "data": {
      "text/plain": [
       "((14304, 3858), (14304, 1), (3576, 3858), (3576, 1))"
      ]
     },
     "execution_count": 461,
     "metadata": {},
     "output_type": "execute_result"
    }
   ],
   "source": [
    "#X_train, X_test, y_train, y_test = model_selection.train_test_split(final_df, y_trial, test_size=0.2, random_state=42)\n",
    "#X_train.shape,y_train.shape,X_test.shape,y_test.shape"
   ]
  },
  {
   "cell_type": "code",
   "execution_count": 485,
   "id": "a6c890b0-5937-45f0-b812-f73f4d6d1043",
   "metadata": {},
   "outputs": [
    {
     "data": {
      "text/html": [
       "<div>\n",
       "<style scoped>\n",
       "    .dataframe tbody tr th:only-of-type {\n",
       "        vertical-align: middle;\n",
       "    }\n",
       "\n",
       "    .dataframe tbody tr th {\n",
       "        vertical-align: top;\n",
       "    }\n",
       "\n",
       "    .dataframe thead th {\n",
       "        text-align: right;\n",
       "    }\n",
       "</style>\n",
       "<table border=\"1\" class=\"dataframe\">\n",
       "  <thead>\n",
       "    <tr style=\"text-align: right;\">\n",
       "      <th></th>\n",
       "      <th>fraudulent</th>\n",
       "    </tr>\n",
       "  </thead>\n",
       "  <tbody>\n",
       "    <tr>\n",
       "      <th>0</th>\n",
       "      <td>0</td>\n",
       "    </tr>\n",
       "    <tr>\n",
       "      <th>1</th>\n",
       "      <td>0</td>\n",
       "    </tr>\n",
       "    <tr>\n",
       "      <th>2</th>\n",
       "      <td>0</td>\n",
       "    </tr>\n",
       "    <tr>\n",
       "      <th>3</th>\n",
       "      <td>0</td>\n",
       "    </tr>\n",
       "    <tr>\n",
       "      <th>4</th>\n",
       "      <td>0</td>\n",
       "    </tr>\n",
       "    <tr>\n",
       "      <th>...</th>\n",
       "      <td>...</td>\n",
       "    </tr>\n",
       "    <tr>\n",
       "      <th>17875</th>\n",
       "      <td>0</td>\n",
       "    </tr>\n",
       "    <tr>\n",
       "      <th>17876</th>\n",
       "      <td>0</td>\n",
       "    </tr>\n",
       "    <tr>\n",
       "      <th>17877</th>\n",
       "      <td>0</td>\n",
       "    </tr>\n",
       "    <tr>\n",
       "      <th>17878</th>\n",
       "      <td>0</td>\n",
       "    </tr>\n",
       "    <tr>\n",
       "      <th>17879</th>\n",
       "      <td>0</td>\n",
       "    </tr>\n",
       "  </tbody>\n",
       "</table>\n",
       "<p>17880 rows × 1 columns</p>\n",
       "</div>"
      ],
      "text/plain": [
       "       fraudulent\n",
       "0               0\n",
       "1               0\n",
       "2               0\n",
       "3               0\n",
       "4               0\n",
       "...           ...\n",
       "17875           0\n",
       "17876           0\n",
       "17877           0\n",
       "17878           0\n",
       "17879           0\n",
       "\n",
       "[17880 rows x 1 columns]"
      ]
     },
     "execution_count": 485,
     "metadata": {},
     "output_type": "execute_result"
    }
   ],
   "source": [
    "y_trial"
   ]
  },
  {
   "cell_type": "code",
   "execution_count": 343,
   "id": "6db7c4d3-ee03-4904-85a4-f67df08350db",
   "metadata": {},
   "outputs": [],
   "source": [
    "import tensorflow as tf\n",
    "import keras\n",
    "from keras.models import Sequential\n",
    "from keras.layers import Dense, Dropout, Flatten, BatchNormalization, Activation,Embedding,GlobalAveragePooling1D\n",
    "from keras.wrappers.scikit_learn import KerasClassifier\n",
    "from sklearn.model_selection import RandomizedSearchCV\n"
   ]
  },
  {
   "cell_type": "code",
   "execution_count": 486,
   "id": "b6a6aff4-3ea3-4118-a81b-bcc56e8e8950",
   "metadata": {},
   "outputs": [],
   "source": [
    "def create_model():\n",
    "    model = Sequential()\n",
    "\n",
    "    model.add(Dense(64, input_shape=(3858,), activation='relu'))\n",
    "    model.add(Dropout(0.3))\n",
    "    model.add(BatchNormalization())\n",
    "\n",
    "    model.add(Dense(128, activation='relu'))\n",
    "    model.add(Dropout(0.3))\n",
    "    model.add(BatchNormalization())\n",
    "\n",
    "    model.add(Dense(64, activation='relu'))\n",
    "    model.add(Dropout(0.5))\n",
    "    model.add(BatchNormalization())\n",
    "\n",
    "    model.add(Dense(32, activation='relu'))\n",
    "    model.add(Dropout(0.5))\n",
    "    model.add(BatchNormalization())\n",
    "\n",
    "    model.add(Dense(1))\n",
    "    model.add(Activation('sigmoid'))\n",
    "\n",
    "    # compile the model\n",
    "    model.compile(loss='binary_crossentropy', optimizer='adam', metrics=[tf.keras.metrics.Precision(), tf.keras.metrics.Recall()])\n",
    "    \n",
    "    return model"
   ]
  },
  {
   "cell_type": "code",
   "execution_count": 487,
   "id": "e97e39b8-2d36-44ce-b646-1e86dcb98a1d",
   "metadata": {},
   "outputs": [
    {
     "name": "stderr",
     "output_type": "stream",
     "text": [
      "/Users/minghaooo/opt/anaconda3/envs/py37/lib/python3.7/site-packages/ipykernel_launcher.py:1: DeprecationWarning: KerasClassifier is deprecated, use Sci-Keras (https://github.com/adriangb/scikeras) instead.\n",
      "  \"\"\"Entry point for launching an IPython kernel.\n",
      "2022-06-18 00:14:06.778868: I tensorflow/core/platform/cpu_feature_guard.cc:151] This TensorFlow binary is optimized with oneAPI Deep Neural Network Library (oneDNN) to use the following CPU instructions in performance-critical operations:  SSE4.1 SSE4.2\n",
      "To enable them in other operations, rebuild TensorFlow with the appropriate compiler flags.\n",
      "2022-06-18 00:14:06.779002: I tensorflow/core/platform/cpu_feature_guard.cc:151] This TensorFlow binary is optimized with oneAPI Deep Neural Network Library (oneDNN) to use the following CPU instructions in performance-critical operations:  SSE4.1 SSE4.2\n",
      "To enable them in other operations, rebuild TensorFlow with the appropriate compiler flags.\n",
      "2022-06-18 00:14:06.779285: I tensorflow/core/platform/cpu_feature_guard.cc:151] This TensorFlow binary is optimized with oneAPI Deep Neural Network Library (oneDNN) to use the following CPU instructions in performance-critical operations:  SSE4.1 SSE4.2\n",
      "To enable them in other operations, rebuild TensorFlow with the appropriate compiler flags.\n",
      "2022-06-18 00:14:06.779759: I tensorflow/core/platform/cpu_feature_guard.cc:151] This TensorFlow binary is optimized with oneAPI Deep Neural Network Library (oneDNN) to use the following CPU instructions in performance-critical operations:  SSE4.1 SSE4.2\n",
      "To enable them in other operations, rebuild TensorFlow with the appropriate compiler flags.\n",
      "2022-06-18 00:14:06.780496: I tensorflow/core/platform/cpu_feature_guard.cc:151] This TensorFlow binary is optimized with oneAPI Deep Neural Network Library (oneDNN) to use the following CPU instructions in performance-critical operations:  SSE4.1 SSE4.2\n",
      "To enable them in other operations, rebuild TensorFlow with the appropriate compiler flags.\n",
      "2022-06-18 00:14:06.780710: I tensorflow/core/platform/cpu_feature_guard.cc:151] This TensorFlow binary is optimized with oneAPI Deep Neural Network Library (oneDNN) to use the following CPU instructions in performance-critical operations:  SSE4.1 SSE4.2\n",
      "To enable them in other operations, rebuild TensorFlow with the appropriate compiler flags.\n",
      "2022-06-18 00:14:06.785824: I tensorflow/core/platform/cpu_feature_guard.cc:151] This TensorFlow binary is optimized with oneAPI Deep Neural Network Library (oneDNN) to use the following CPU instructions in performance-critical operations:  SSE4.1 SSE4.2\n",
      "To enable them in other operations, rebuild TensorFlow with the appropriate compiler flags.\n",
      "2022-06-18 00:14:06.787523: I tensorflow/core/platform/cpu_feature_guard.cc:151] This TensorFlow binary is optimized with oneAPI Deep Neural Network Library (oneDNN) to use the following CPU instructions in performance-critical operations:  SSE4.1 SSE4.2\n",
      "To enable them in other operations, rebuild TensorFlow with the appropriate compiler flags.\n"
     ]
    }
   ],
   "source": [
    "model = KerasClassifier(build_fn=create_model, verbose=0)\n",
    "# define the grid search parameters\n",
    "batch_size = [20,30,40,50]\n",
    "epochs = [10,20,30,40]\n",
    "\n",
    "param_grid = dict(batch_size=batch_size, epochs=epochs)\n",
    "grid = RandomizedSearchCV(estimator=model, param_distributions=param_grid, n_jobs=-1, cv=3, scoring = 'precision')\n",
    "grid_result = grid.fit(X_train, y_train)"
   ]
  },
  {
   "cell_type": "code",
   "execution_count": 488,
   "id": "1a648f22-6e28-4501-8027-119f96672e93",
   "metadata": {},
   "outputs": [
    {
     "name": "stdout",
     "output_type": "stream",
     "text": [
      "Best: 0.831985 using {'epochs': 20, 'batch_size': 50}\n",
      "0.770829 (0.077573) with: {'epochs': 30, 'batch_size': 30}\n",
      "0.807212 (0.006800) with: {'epochs': 10, 'batch_size': 40}\n",
      "0.709861 (0.043316) with: {'epochs': 20, 'batch_size': 20}\n",
      "0.729495 (0.073454) with: {'epochs': 30, 'batch_size': 20}\n",
      "0.831985 (0.008558) with: {'epochs': 20, 'batch_size': 50}\n",
      "0.750411 (0.050922) with: {'epochs': 40, 'batch_size': 50}\n",
      "0.723816 (0.073904) with: {'epochs': 30, 'batch_size': 40}\n",
      "0.803416 (0.027599) with: {'epochs': 30, 'batch_size': 50}\n",
      "0.783330 (0.025785) with: {'epochs': 20, 'batch_size': 30}\n",
      "0.807867 (0.022882) with: {'epochs': 10, 'batch_size': 50}\n"
     ]
    }
   ],
   "source": [
    "# summarize results\n",
    "print(\"Best: %f using %s\" % (grid_result.best_score_, grid_result.best_params_))\n",
    "means = grid_result.cv_results_['mean_test_score']\n",
    "stds = grid_result.cv_results_['std_test_score']\n",
    "params = grid_result.cv_results_['params']\n",
    "for mean, stdev, param in zip(means, stds, params):\n",
    "    print(\"%f (%f) with: %r\" % (mean, stdev, param))"
   ]
  },
  {
   "cell_type": "code",
   "execution_count": 501,
   "id": "07873c15-649d-420f-a067-782140c74141",
   "metadata": {},
   "outputs": [
    {
     "data": {
      "image/png": "[encoded data removed]",
      "text/plain": [
       "<Figure size 648x432 with 1 Axes>"
      ]
     },
     "metadata": {
      "needs_background": "light"
     },
     "output_type": "display_data"
    }
   ],
   "source": [
    "from sklearn.metrics import precision_recall_curve\n",
    "from sklearn.metrics import roc_curve\n",
    "import matplotlib.pyplot as plt\n",
    "\n",
    "best=grid_result.best_estimator_\n",
    "\n",
    "y_score = best.predict_proba(np.array(X_test))[:, 1]\n",
    "\n",
    "#calculate precision and recall\n",
    "precision, recall, thresholds = precision_recall_curve(y_test, y_score)\n",
    "\n",
    "\n",
    "#create precision recall curve\n",
    "fig, ax = plt.subplots()\n",
    "\n",
    "fig.set_size_inches(9,6)\n",
    "ax.plot(recall, precision, color='purple')\n",
    "\n",
    "#add axis labels to plot\n",
    "ax.set_title('Precision-Recall Curve of Best Neural Network Model')\n",
    "ax.set_ylabel('Precision')\n",
    "ax.set_xlabel('Recall')\n",
    "\n",
    "#display plot\n",
    "plt.show()"
   ]
  },
  {
   "cell_type": "code",
   "execution_count": 494,
   "id": "429651b4-dc6b-46b9-a37d-17afb0639043",
   "metadata": {},
   "outputs": [
    {
     "name": "stdout",
     "output_type": "stream",
     "text": [
      "tf.Tensor(\n",
      "[[3368   27]\n",
      " [  78  103]], shape=(2, 2), dtype=int32)\n"
     ]
    }
   ],
   "source": [
    "best=grid_result.best_estimator_\n",
    "\n",
    "y_pred_classes= best.predict(X_test) \n",
    "y_true_classes= y_test['fraudulent']\n",
    "\n",
    "print(tf.math.confusion_matrix(labels=y_true_classes, predictions=y_pred_classes))"
   ]
  },
  {
   "cell_type": "code",
   "execution_count": null,
   "id": "b200cf76-6ba7-40dc-8ea9-61ffd45706b7",
   "metadata": {},
   "outputs": [],
   "source": []
  },
  {
   "cell_type": "code",
   "execution_count": null,
   "id": "ffd18f8f-e427-4cbd-b965-e3f01fba6c68",
   "metadata": {},
   "outputs": [],
   "source": []
  },
  {
   "cell_type": "code",
   "execution_count": null,
   "id": "7871d150-e262-4891-a4b7-57264dfea5b7",
   "metadata": {},
   "outputs": [],
   "source": []
  },
  {
   "cell_type": "code",
   "execution_count": null,
   "id": "92f0ffa0-d157-44f8-b4e5-59c0c5c27f00",
   "metadata": {},
   "outputs": [],
   "source": []
  },
  {
   "cell_type": "code",
   "execution_count": null,
   "id": "63fb1206-34de-467a-9c03-eb752771b10b",
   "metadata": {},
   "outputs": [],
   "source": []
  },
  {
   "cell_type": "code",
   "execution_count": null,
   "id": "e02ceeff-16d8-4a61-94ba-1d98ef71e1d0",
   "metadata": {},
   "outputs": [],
   "source": []
  }
 ],
 "metadata": {
  "kernelspec": {
   "display_name": "Python 3 (ipykernel)",
   "language": "python",
   "name": "python3"
  },
  "language_info": {
   "codemirror_mode": {
    "name": "ipython",
    "version": 3
   },
   "file_extension": ".py",
   "mimetype": "text/x-python",
   "name": "python",
   "nbconvert_exporter": "python",
   "pygments_lexer": "ipython3",
   "version": "3.7.13"
  }
 },
 "nbformat": 4,
 "nbformat_minor": 5
}
