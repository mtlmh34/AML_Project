{
  "nbformat": 4,
  "nbformat_minor": 0,
  "metadata": {
    "colab": {
      "name": "“Untitled0.ipynb”的副本",
      "provenance": [],
      "collapsed_sections": [
        "nWnQZ2Iockv1",
        "Yu9X449GcfgK",
        "duInICEsc1Ve",
        "o9LCUaBYdfE6"
      ],
      "machine_shape": "hm",
      "include_colab_link": true
    },
    "kernelspec": {
      "name": "python3",
      "display_name": "Python 3"
    },
    "language_info": {
      "name": "python"
    },
    "gpuClass": "standard"
  },
  "cells": [
    {
      "cell_type": "markdown",
      "metadata": {
        "id": "view-in-github",
        "colab_type": "text"
      },
      "source": [
        "<a href=\"https://colab.research.google.com/github/mtlmh34/AML_Project/blob/main/grp%20proj_2.0.ipynb\" target=\"_parent\"><img src=\"https://colab.research.google.com/assets/colab-badge.svg\" alt=\"Open In Colab\"/></a>"
      ]
    },
    {
      "cell_type": "markdown",
      "source": [
        "### Import dataset, packages"
      ],
      "metadata": {
        "id": "tvz2wZ84d6dh"
      }
    },
    {
      "cell_type": "code",
      "execution_count": null,
      "metadata": {
        "id": "7-5ewlrf37ny"
      },
      "outputs": [],
      "source": [
        "from google.colab import files"
      ]
    },
    {
      "cell_type": "code",
      "source": [
        "files.upload()"
      ],
      "metadata": {
        "id": "3spwxoDD3_AW"
      },
      "execution_count": null,
      "outputs": []
    },
    {
      "cell_type": "code",
      "source": [
        "import numpy as np\n",
        "import pandas as pd\n",
        "import re\n",
        "import nltk\n",
        "nltk.download('stopwords')\n",
        "nltk.download('wordnet')\n",
        "nltk.download('omw-1.4')\n",
        "from nltk.tokenize import RegexpTokenizer\n",
        "from nltk.stem import WordNetLemmatizer\n",
        "from nltk.corpus import stopwords\n",
        "from sklearn.feature_extraction.text import TfidfVectorizer\n",
        "from sklearn import linear_model, tree, model_selection, ensemble, svm, metrics, naive_bayes\n",
        "from imblearn.combine import SMOTETomek\n",
        "from sklearn.model_selection import train_test_split\n",
        "from sklearn.metrics import precision_recall_curve\n",
        "import matplotlib.pyplot as plt"
      ],
      "metadata": {
        "id": "BFF-TDLI3_Cg"
      },
      "execution_count": null,
      "outputs": []
    },
    {
      "cell_type": "code",
      "source": [
        "df=pd.read_csv('fake_job_postings.csv')"
      ],
      "metadata": {
        "id": "jxZWZEf_3_Es"
      },
      "execution_count": null,
      "outputs": []
    },
    {
      "cell_type": "code",
      "source": [
        "df.info()"
      ],
      "metadata": {
        "id": "950uyyNnos2v"
      },
      "execution_count": null,
      "outputs": []
    },
    {
      "cell_type": "markdown",
      "source": [
        "### Data preprocessing"
      ],
      "metadata": {
        "id": "dtOBJpfOZiSZ"
      }
    },
    {
      "cell_type": "code",
      "source": [
        "# drop columns with more than 50% missing data\n",
        "# drop column for industry with too many variables\n",
        "df.drop(columns=['department', 'salary_range', 'industry'], inplace = True)"
      ],
      "metadata": {
        "id": "qSxkfLjt3_HU"
      },
      "execution_count": null,
      "outputs": []
    },
    {
      "cell_type": "code",
      "source": [
        "#-------------------start cleaning for location column\n",
        "\n",
        "#--------1. split the columns to country, state, and city\n",
        "\n",
        "# to use country only?\n",
        "df['country']=df.location.str.split(',',expand=True)[:][0]\n",
        "\n",
        "df['state']=df.location.str.split(',',expand=True)[:][1]\n",
        "df['city']=df.location.str.split(',',expand=True)[:][2]\n",
        "\n",
        "#----------2. replacing different kinds of missing value to np.nan\n",
        "df.state = df.state.str.strip()\n",
        "df.state.fillna(value=np.nan, inplace=True)\n",
        "df.state.replace('', np.nan, inplace=True)\n",
        "df.state.replace(' ', np.nan, inplace=True)\n",
        "\n",
        "\n",
        "#df['state'].sort_values().unique()\n",
        "\n",
        "#----------3. clear the whitespaces and signs at the start/end\n",
        "\n",
        "df.city = df.city.str.strip(' /:\\\\')\n",
        "\n",
        "#---------4. replacing different kinds of missing value to np.nan\n",
        "df.city.fillna(value=np.nan, inplace=True)\n",
        "df.city.replace('', np.nan, inplace=True)\n",
        "df.city.replace(' ', np.nan, inplace=True)\n",
        "df['city']=df.city.str.lower()\n",
        "#------\n",
        "\n",
        "# drop unnecessary columns\n",
        "df.drop(['location'], axis = 1, inplace = True)\n",
        "\n",
        "# too many empty fields in city, hence dropped\n",
        "df.drop(columns=['city'], axis=1, inplace = True)"
      ],
      "metadata": {
        "id": "UHLwulQr3_Jf"
      },
      "execution_count": null,
      "outputs": []
    },
    {
      "cell_type": "code",
      "source": [
        "#-------------------start cleaning for text columns\n",
        "\n",
        "def preprocess_text(text):\n",
        "    \n",
        "    \n",
        "    # Tokenise words while ignoring punctuation\n",
        "    tokeniser = RegexpTokenizer(r'\\b[A-Za-z]+\\b')\n",
        "    tokens = tokeniser.tokenize(text)\n",
        "    \n",
        "    # Lowercase and lemmatise \n",
        "    lemmatiser = WordNetLemmatizer()\n",
        "    lemmas = [lemmatiser.lemmatize(token.lower(), pos='v') for token in tokens]\n",
        "    \n",
        "    # Remove stopwords\n",
        "    keywords= [lemma for lemma in lemmas if lemma not in stopwords.words('english')]\n",
        "    return keywords\n",
        "\n",
        "\n",
        "df['text'] = df.apply(lambda row: (str(row['title']) + ' ' + \n",
        "                                   str(row['company_profile']) + ' ' + \n",
        "                                   str(row['description']) + ' ' + \n",
        "                                   str(row['requirements']) + ' ' + \n",
        "                                   str(row['benefits'])), axis = 1)\n",
        "\n",
        "# Fill empty columns with \"Unspecified\"\n",
        "df['text'] = df['text'].fillna(\"Unspecified\")\n",
        "    \n",
        "# Create an instance of TfidfVectorizer\n",
        "vectoriser = TfidfVectorizer(analyzer=preprocess_text, ngram_range = (1,2),   #TRY ADJUSTING ngram_range and min_df, max_df\n",
        "                                min_df= 0.05, max_df= 0.5)\n",
        "\n",
        "# Fit to the data and transform to feature matrix\n",
        "text_column = vectoriser.fit_transform(df['text'])\n",
        "\n",
        "# Convert sparse matrix to dataframe\n",
        "text_column = pd.DataFrame.sparse.from_spmatrix(text_column)\n",
        "\n",
        "# Save mapping on which index refers to which words\n",
        "col_map = {v:k for k, v in vectoriser.vocabulary_.items()}\n",
        "\n",
        "# Rename each column using the mapping\n",
        "for col in text_column.columns:\n",
        "    text_column.rename(columns={col: col_map[col]}, inplace=True)"
      ],
      "metadata": {
        "id": "f5May7iW7bQp"
      },
      "execution_count": null,
      "outputs": []
    },
    {
      "cell_type": "code",
      "source": [
        "#-------------------continue cleaning for text columns\n",
        "\n",
        "# identify which text feature is not populated before dropping them\n",
        "columns_to_remove = ['requirements', 'company_profile', 'description', 'benefits', 'title', 'text']\n",
        "\n",
        "for i in columns_to_remove:\n",
        "  df[i] = df[i].fillna(\"unspecified\")\n",
        "\n",
        "# create new binary columns to check if features are provided in the job ad\n",
        "new_columns = ['has_requirements', 'has_company_profile', 'has_description', 'has_benefits']\n",
        "\n",
        "for i in range(len(new_columns)):\n",
        "  df[new_columns[i]] = df[columns_to_remove[i]].apply(lambda x: 0 if x == \"unspecified\" else 1)\n",
        "\n",
        "df.drop(columns = columns_to_remove, axis = 1, inplace = True)\n",
        "df.drop(columns = ['job_id'], axis = 1, inplace = True)"
      ],
      "metadata": {
        "id": "WfTYPz_Y8ZCh"
      },
      "execution_count": null,
      "outputs": []
    },
    {
      "cell_type": "code",
      "source": [
        "#-------------------cleaning categorical columns \n",
        "category_columns = ['employment_type', 'required_experience', 'required_education', 'function', 'country', 'state']\n",
        "\n",
        "for i in category_columns:\n",
        "  df[i] = df[i].fillna(i + \"_unspecified\")\n",
        "\n",
        "# country codes duplicated in country and state columns\n",
        "duplicated = ['BE', 'DE', 'PA', 'NL', 'ID', 'PL', 'IL', 'IN', 'RS', 'ES', 'SA', 'SD', 'MT', 'MA', 'IS', 'SK', 'HR',\n",
        "              'BR', 'TN', 'JM', 'CO', 'CN', 'AL', 'AR', 'CH', 'CA', 'BY']\n",
        "\n",
        "# remove duplicated codes from state column\n",
        "state_features = pd.get_dummies(df['state'])\n",
        "state_features.drop(columns = duplicated, axis = 1, inplace = True)\n",
        "\n",
        "# combine all one-hot encoded categorical columns \n",
        "categorical_features = pd.concat([pd.get_dummies(df['employment_type']), \n",
        "                                  pd.get_dummies(df['required_experience']), \n",
        "                                  pd.get_dummies(df['required_education']), \n",
        "                                  pd.get_dummies(df['country']),\n",
        "                                  state_features],\n",
        "                                  axis = 1)\n",
        "\n",
        "df.drop(columns = category_columns, axis = 1, inplace = True)"
      ],
      "metadata": {
        "id": "uO9tnAgd4JIO"
      },
      "execution_count": null,
      "outputs": []
    },
    {
      "cell_type": "code",
      "source": [
        "# number of text and categorical columns (to delete this row later)\n",
        "text_column.shape[1], categorical_features.shape[1]"
      ],
      "metadata": {
        "id": "AroqMK-1z5dR"
      },
      "execution_count": null,
      "outputs": []
    },
    {
      "cell_type": "code",
      "source": [
        "# only binary columns remain in df (to delete this row later)\n",
        "df.columns"
      ],
      "metadata": {
        "id": "a-Nyaz7O0RiN"
      },
      "execution_count": null,
      "outputs": []
    },
    {
      "cell_type": "code",
      "source": [
        "# combine vectorised columns and sparse categorical columns to the main df\n",
        "df = pd.concat([df, text_column, categorical_features], axis =1, ignore_index=False)"
      ],
      "metadata": {
        "id": "vcN0EEQDmW0T"
      },
      "execution_count": null,
      "outputs": []
    },
    {
      "cell_type": "code",
      "source": [
        "X_data = df.drop(columns = 'fraudulent', axis = 1)\n",
        "y_data = df['fraudulent']"
      ],
      "metadata": {
        "id": "BKCMIH-iEomZ"
      },
      "execution_count": null,
      "outputs": []
    },
    {
      "cell_type": "code",
      "source": [
        "smt = SMOTETomek(random_state=42, sampling_strategy=0.4)\n",
        "X_train, X_test, y_train, y_test = train_test_split(X_data, y_data, test_size=0.2, random_state=42)\n",
        "X_resample, y_resampled = smt.fit_resample(X_train, y_train)"
      ],
      "metadata": {
        "id": "IyTqNIztEKAB"
      },
      "execution_count": null,
      "outputs": []
    },
    {
      "cell_type": "markdown",
      "source": [
        "### Random Forest"
      ],
      "metadata": {
        "id": "F_0cJrTCZxl0"
      }
    },
    {
      "cell_type": "code",
      "source": [
        "clf = ensemble.RandomForestClassifier(random_state=42)\n",
        "clf.fit(X_resample, y_resampled)"
      ],
      "metadata": {
        "id": "LJs3cQ4v4Jnt"
      },
      "execution_count": null,
      "outputs": []
    },
    {
      "cell_type": "code",
      "source": [
        "y_pred_train = clf.predict(X_resample)\n",
        "y_pred_prob_train = clf.predict_proba(X_resample)[:,1]\n",
        "    \n",
        "precision_train = metrics.precision_score(y_resampled, y_pred_train)\n",
        "recall_train = metrics.recall_score(y_resampled, y_pred_train)\n",
        "f1_train = metrics.f1_score(y_resampled, y_pred_train)\n",
        "roc_auc_train = metrics.roc_auc_score(y_resampled, y_pred_prob_train)\n",
        "\n",
        "precision_train, recall_train, f1_train, roc_auc_train"
      ],
      "metadata": {
        "id": "N9kqk5MtLIpT"
      },
      "execution_count": null,
      "outputs": []
    },
    {
      "cell_type": "code",
      "source": [
        "y_pred_test = clf.predict(X_test)\n",
        "y_pred_prob_test = clf.predict_proba(X_test)[:,1]\n",
        "    \n",
        "precision = metrics.precision_score(y_test, y_pred_test)\n",
        "recall = metrics.recall_score(y_test, y_pred_test)\n",
        "f1 = metrics.f1_score(y_test, y_pred_test)\n",
        "roc_auc = metrics.roc_auc_score(y_test, y_pred_prob_test)\n",
        "\n",
        "precision, recall, f1, roc_auc"
      ],
      "metadata": {
        "id": "rW8mO8LGLJu5"
      },
      "execution_count": null,
      "outputs": []
    },
    {
      "cell_type": "code",
      "source": [
        "def model_build(base_estimator, parameters):\n",
        "    \n",
        "    clf = model_selection.RandomizedSearchCV(\n",
        "        base_estimator, \n",
        "        parameters, \n",
        "        scoring = 'recall')\n",
        "    \n",
        "    clf.fit(X_resample, y_resampled)\n",
        "    \n",
        "    print('best score:', clf.best_score_)\n",
        "    print('best parameters: ', clf.best_params_)\n",
        "\n",
        "    optimised = clf.best_estimator_\n",
        "    return optimised"
      ],
      "metadata": {
        "id": "psEd2ElZjxNq"
      },
      "execution_count": null,
      "outputs": []
    },
    {
      "cell_type": "code",
      "source": [
        "#@title\n",
        "random_grid = {'n_estimators': [x for x in np.arange(start=80,stop=200,step=10)],\n",
        "               'criterion': ['gini', 'entropy'], \n",
        "               'min_samples_leaf': [1,2,3,4,5],\n",
        "               'min_samples_split': [2,3,4,5]}\n",
        "\n",
        "optimised_rf = model_build(ensemble.RandomForestClassifier(random_state=2022), random_grid)"
      ],
      "metadata": {
        "id": "y-RHSleXlNIa"
      },
      "execution_count": null,
      "outputs": []
    },
    {
      "cell_type": "code",
      "source": [
        "rf = {'Feature': optimised_rf.feature_names_in_, 'Importance': optimised_rf.feature_importances_}\n",
        "df_rf = pd.DataFrame(rf)\n",
        "df_rf = df_rf.sort_values(by = 'Importance', ascending = False, ignore_index =True)\n",
        "df_rf.head(10)"
      ],
      "metadata": {
        "id": "NNaBECtY94o7"
      },
      "execution_count": null,
      "outputs": []
    },
    {
      "cell_type": "code",
      "source": [
        "y_pred_train = optimised_rf.predict(X_resample)\n",
        "y_pred_prob_train = optimised_rf.predict_proba(X_resample)[:,1]\n",
        "    \n",
        "precision_train = metrics.precision_score(y_resampled, y_pred_train)\n",
        "recall_train = metrics.recall_score(y_resampled, y_pred_train)\n",
        "f1_train = metrics.f1_score(y_resampled, y_pred_train)\n",
        "roc_auc_train = metrics.roc_auc_score(y_resampled, y_pred_prob_train)\n",
        "\n",
        "precision_train, recall_train, f1_train, roc_auc_train"
      ],
      "metadata": {
        "id": "26Bfq14m94x8"
      },
      "execution_count": null,
      "outputs": []
    },
    {
      "cell_type": "code",
      "source": [
        "y_pred_test = optimised_rf.predict(X_test)\n",
        "y_pred_prob_test = optimised_rf.predict_proba(X_test)[:,1]\n",
        "    \n",
        "precision = metrics.precision_score(y_test, y_pred_test)\n",
        "recall = metrics.recall_score(y_test, y_pred_test)\n",
        "f1 = metrics.f1_score(y_test, y_pred_test)\n",
        "roc_auc = metrics.roc_auc_score(y_test, y_pred_prob_test)\n",
        "\n",
        "precision, recall, f1, roc_auc"
      ],
      "metadata": {
        "id": "o9bBbJHV946J"
      },
      "execution_count": null,
      "outputs": []
    },
    {
      "cell_type": "code",
      "source": [
        "rf_matrix = metrics.confusion_matrix(y_resampled, y_pred_train, labels=[1,0])\n",
        "rf_matrixt = metrics.confusion_matrix(y_test, y_pred_test, labels=[1,0])\n",
        "\n",
        "report = \"\"\"\n",
        "Confusion Matrix for train dataset:\n",
        "{}\n",
        "Confusion Matrix for test dataset:\n",
        "{}\n",
        "\"\"\".format(rf_matrix, rf_matrixt)\n",
        "print(report)"
      ],
      "metadata": {
        "id": "v_aWUjaWCW-i"
      },
      "execution_count": null,
      "outputs": []
    },
    {
      "cell_type": "markdown",
      "source": [
        "### Naive Bayes"
      ],
      "metadata": {
        "id": "UFUVjcPQZ6Ge"
      }
    },
    {
      "cell_type": "code",
      "source": [
        "mnb = naive_bayes.MultinomialNB()\n",
        "mnb.fit(X_resample, y_resampled)"
      ],
      "metadata": {
        "id": "cTVzYV9jCXI3"
      },
      "execution_count": null,
      "outputs": []
    },
    {
      "cell_type": "code",
      "source": [
        "y_pred_train = mnb.predict(X_resample)\n",
        "y_pred_prob_train = mnb.predict_proba(X_resample)[:,1]\n",
        "    \n",
        "precision_train = metrics.precision_score(y_resampled, y_pred_train)\n",
        "recall_train = metrics.recall_score(y_resampled, y_pred_train)\n",
        "f1_train = metrics.f1_score(y_resampled, y_pred_train)\n",
        "roc_auc_train = metrics.roc_auc_score(y_resampled, y_pred_prob_train)\n",
        "\n",
        "precision_train, recall_train, f1_train, roc_auc_train"
      ],
      "metadata": {
        "id": "edu7p1s4CXRm"
      },
      "execution_count": null,
      "outputs": []
    },
    {
      "cell_type": "code",
      "source": [
        "y_pred_test = mnb.predict(X_test)\n",
        "y_pred_prob_test = mnb.predict_proba(X_test)[:,1]\n",
        "    \n",
        "precision = metrics.precision_score(y_test, y_pred_test)\n",
        "recall = metrics.recall_score(y_test, y_pred_test)\n",
        "f1 = metrics.f1_score(y_test, y_pred_test)\n",
        "roc_auc = metrics.roc_auc_score(y_test, y_pred_prob_test)\n",
        "\n",
        "precision, recall, f1, roc_auc"
      ],
      "metadata": {
        "id": "3fE8v9sZKffP"
      },
      "execution_count": null,
      "outputs": []
    },
    {
      "cell_type": "code",
      "source": [
        "cf_matrixtr = metrics.confusion_matrix(y_resampled, y_pred_train, labels=[1,0])\n",
        "cf_matrixte = metrics.confusion_matrix(y_test, y_pred_test, labels=[1,0])\n",
        "\n",
        "report = \"\"\"\n",
        "Confusion Matrix for train dataset:\n",
        "{}\n",
        "Confusion Matrix for test dataset:\n",
        "{}\n",
        "\"\"\".format(cf_matrixtr, cf_matrixte)\n",
        "print(report)"
      ],
      "metadata": {
        "id": "W5H2L2FSKfhs"
      },
      "execution_count": null,
      "outputs": []
    },
    {
      "cell_type": "code",
      "source": [
        "# match feature names and respective feature counts in each class\n",
        "f = {'Feature': X_resample.columns, 'fraud': mnb.feature_count_[1,:],\n",
        "         'not_fraud': mnb.feature_count_[0,:]}\n",
        "features = pd.DataFrame(data=f)\n",
        "\n",
        "# calculate the P(feature|class) by using feature count in the class divided by respective class count\n",
        "# 1 count is added to all feature counts to ensure ratio can be calculated later\n",
        "features['P (f|fraud)'] = (features['fraud'] +1) / mnb.class_count_[1]\n",
        "features['P (f|not_fraud)'] = (features['not_fraud'] +1) / mnb.class_count_[0]\n",
        "\n",
        "# ratio of the P(feature|class) is used to evaluate the predictiveness of the token \n",
        "features['Ratio'] = features['P (f|fraud)'] / features['P (f|not_fraud)']\n",
        "\n",
        "# print out the top 10 features for each class\n",
        "print('The top 20 most predictive tokens for fraud job postings are:')\n",
        "print(features.sort_values(by=['Ratio'], ascending= False).head(20)['Feature'].values)\n",
        "\n",
        "print('The top 20 most predictive tokens for not fraud job postings are:')\n",
        "print(features.sort_values(by=['Ratio'], ascending= False).tail(20)['Feature'].values)"
      ],
      "metadata": {
        "id": "5mc4PU72KfnS"
      },
      "execution_count": null,
      "outputs": []
    },
    {
      "cell_type": "code",
      "source": [
        "# try naive bayes with only text columns\n",
        "X_train, X_test, y_train, y_test = train_test_split(text_column, y_data, test_size=0.2, random_state=42)\n",
        "X_resample, y_resampled = smt.fit_resample(X_train, y_train)\n",
        "text_resample = X_resample.drop(X_resample.columns[0:8], axis = 1)\n",
        "text_test = X_test.drop(X_resample.columns[0:8], axis = 1)"
      ],
      "metadata": {
        "id": "cyzzxWjLKfqL"
      },
      "execution_count": null,
      "outputs": []
    },
    {
      "cell_type": "code",
      "source": [
        "mnb2 = naive_bayes.MultinomialNB()\n",
        "mnb2.fit(text_resample, y_resampled)\n",
        "\n",
        "y_pred_train = mnb.predict(X_resample)\n",
        "y_pred_prob_train = mnb.predict_proba(X_resample)[:,1]\n",
        "y_pred_test = mnb2.predict(text_test)\n",
        "y_pred_prob_test = mnb2.predict_proba(text_test)[:,1]\n",
        "    \n",
        "precision = metrics.precision_score(y_test, y_pred_test)\n",
        "recall = metrics.recall_score(y_test, y_pred_test)\n",
        "f1 = metrics.f1_score(y_test, y_pred_test)\n",
        "roc_auc = metrics.roc_auc_score(y_test, y_pred_prob_test)\n",
        "\n",
        "precision, recall, f1, roc_auc"
      ],
      "metadata": {
        "id": "QIeh2bXxSlzh"
      },
      "execution_count": null,
      "outputs": []
    },
    {
      "cell_type": "code",
      "source": [
        "cf_matrixtr = metrics.confusion_matrix(y_resampled, y_pred_train, labels=[1,0])\n",
        "cf_matrixte = metrics.confusion_matrix(y_test, y_pred_test, labels=[1,0])\n",
        "\n",
        "report = \"\"\"\n",
        "Confusion Matrix for train dataset:\n",
        "{}\n",
        "Confusion Matrix for test dataset:\n",
        "{}\n",
        "\"\"\".format(cf_matrixtr, cf_matrixte)\n",
        "print(report)"
      ],
      "metadata": {
        "id": "QslusIrRSl27"
      },
      "execution_count": null,
      "outputs": []
    },
    {
      "cell_type": "code",
      "source": [
        "y_score = mnb.predict_proba(X_test)[:, 1]\n",
        "\n",
        "#calculate precision and recall\n",
        "precision, recall, thresholds = precision_recall_curve(y_test, y_score)\n",
        "\n",
        "#create precision recall curve\n",
        "fig, ax = plt.subplots()\n",
        "ax.plot(recall, precision, color='purple')\n",
        "\n",
        "#add axis labels to plot\n",
        "ax.set_title('Precision-Recall Curve')\n",
        "ax.set_ylabel('Precision')\n",
        "ax.set_xlabel('Recall')\n",
        "\n",
        "#display plot\n",
        "plt.show()"
      ],
      "metadata": {
        "id": "4Y1APk7tSl5w"
      },
      "execution_count": null,
      "outputs": []
    },
    {
      "cell_type": "markdown",
      "source": [
        "### Gradient Boosting"
      ],
      "metadata": {
        "id": "Fv8pWLzYZ-yF"
      }
    },
    {
      "cell_type": "code",
      "source": [
        "gbt = ensemble.GradientBoostingClassifier(random_state=42)\n",
        "gbt.fit(X_resample, y_resampled)"
      ],
      "metadata": {
        "id": "fp5A4iCsSmBr"
      },
      "execution_count": null,
      "outputs": []
    },
    {
      "cell_type": "code",
      "source": [
        "y_pred_train = gbt.predict(X_resample)\n",
        "y_pred_prob_train = gbt.predict_proba(X_resample)[:,1]\n",
        "    \n",
        "precision_train = metrics.precision_score(y_resampled, y_pred_train)\n",
        "recall_train = metrics.recall_score(y_resampled, y_pred_train)\n",
        "f1_train = metrics.f1_score(y_resampled, y_pred_train)\n",
        "roc_auc_train = metrics.roc_auc_score(y_resampled, y_pred_prob_train)\n",
        "\n",
        "precision_train, recall_train, f1_train, roc_auc_train"
      ],
      "metadata": {
        "id": "PWJ8uH2pSmEr"
      },
      "execution_count": null,
      "outputs": []
    },
    {
      "cell_type": "code",
      "source": [
        "y_pred_test = gbt.predict(X_test)\n",
        "y_pred_prob_test = gbt.predict_proba(X_test)[:,1]\n",
        "    \n",
        "precision = metrics.precision_score(y_test, y_pred_test)\n",
        "recall = metrics.recall_score(y_test, y_pred_test)\n",
        "f1 = metrics.f1_score(y_test, y_pred_test)\n",
        "roc_auc = metrics.roc_auc_score(y_test, y_pred_prob_test)\n",
        "\n",
        "precision, recall, f1, roc_auc"
      ],
      "metadata": {
        "id": "abaAQUbz95Te"
      },
      "execution_count": null,
      "outputs": []
    },
    {
      "cell_type": "code",
      "source": [
        "gbt = {'Feature': gbt.feature_names_in_, 'Importance': gbt.feature_importances_}\n",
        "df_gbt = pd.DataFrame(gbt)\n",
        "df_gbt = df_gbt.sort_values(by = 'Importance', key = abs, ascending = False, ignore_index =True)\n",
        "df_gbt.head(10)"
      ],
      "metadata": {
        "id": "IALCcX9SW4hB"
      },
      "execution_count": null,
      "outputs": []
    },
    {
      "cell_type": "code",
      "source": [
        "gb_matrixtr = metrics.confusion_matrix(y_resampled, y_pred_train, labels=[1,0])\n",
        "gb_matrixte = metrics.confusion_matrix(y_test, y_pred_test, labels=[1,0])\n",
        "\n",
        "report = \"\"\"\n",
        "Confusion Matrix for train dataset:\n",
        "{}\n",
        "Confusion Matrix for test dataset:\n",
        "{}\n",
        "\"\"\".format(gb_matrixtr, gb_matrixte)\n",
        "print(report)"
      ],
      "metadata": {
        "id": "Qq5ukvStW4je"
      },
      "execution_count": null,
      "outputs": []
    },
    {
      "cell_type": "code",
      "source": [
        "gradient_grid = {'n_estimators': [x for x in np.arange(start=80,stop=200,step=20)],\n",
        "               'learning_rate': [0.001, 0.01, 0.1]}\n",
        "\n",
        "optimised_gbt = model_build(ensemble.GradientBoostingClassifier(random_state=2022), gradient_grid)"
      ],
      "metadata": {
        "id": "YA0piylHW4mW"
      },
      "execution_count": null,
      "outputs": []
    },
    {
      "cell_type": "code",
      "source": [
        "gbt = {'Feature': optimised_gbt.feature_names_in_, 'Importance': optimised_gbt.feature_importances_}\n",
        "df_gbt = pd.DataFrame(gbt)\n",
        "df_gbt = df_gbt.sort_values(by = 'Importance', ascending = False, ignore_index =True)\n",
        "df_gbt.head(10)"
      ],
      "metadata": {
        "id": "pTTOLf1OW4oG"
      },
      "execution_count": null,
      "outputs": []
    },
    {
      "cell_type": "code",
      "source": [
        "gb_matrixtr = metrics.confusion_matrix(y_resampled, y_pred_train, labels=[1,0])\n",
        "gb_matrixte = metrics.confusion_matrix(y_test, y_pred_test, labels=[1,0])\n",
        "\n",
        "report = \"\"\"\n",
        "Confusion Matrix for train dataset:\n",
        "{}\n",
        "Confusion Matrix for test dataset:\n",
        "{}\n",
        "\"\"\".format(gb_matrixtr, gb_matrixte)\n",
        "print(report)"
      ],
      "metadata": {
        "id": "xy8SB_8t5fD5"
      },
      "execution_count": null,
      "outputs": []
    },
    {
      "cell_type": "code",
      "source": [
        "y_pred_test = optimised_gbt.predict(X_test)\n",
        "y_pred_prob_test = optimised_gbt.predict_proba(X_test)[:,1]\n",
        "    \n",
        "precision = metrics.precision_score(y_test, y_pred_test)\n",
        "recall = metrics.recall_score(y_test, y_pred_test)\n",
        "f1 = metrics.f1_score(y_test, y_pred_test)\n",
        "roc_auc = metrics.roc_auc_score(y_test, y_pred_prob_test)\n",
        "\n",
        "precision, recall, f1, roc_auc"
      ],
      "metadata": {
        "id": "r2tDVm3tW4sX"
      },
      "execution_count": null,
      "outputs": []
    },
    {
      "cell_type": "code",
      "source": [
        "optimised_gbt"
      ],
      "metadata": {
        "id": "MTG6PlX14ubG"
      },
      "execution_count": null,
      "outputs": []
    },
    {
      "cell_type": "code",
      "source": [
        "y_score = optimised_gbt.predict_proba(X_test)[:, 1]\n",
        "\n",
        "#calculate precision and recall\n",
        "precision, recall, thresholds = precision_recall_curve(y_test, y_score)\n",
        "\n",
        "#create precision recall curve\n",
        "fig, ax = plt.subplots()\n",
        "ax.plot(recall, precision, color='purple')\n",
        "\n",
        "#add axis labels to plot\n",
        "ax.set_title('Precision-Recall Curve')\n",
        "ax.set_ylabel('Precision')\n",
        "ax.set_xlabel('Recall')\n",
        "\n",
        "#display plot\n",
        "plt.show()"
      ],
      "metadata": {
        "id": "iC0dR5IYW4uw"
      },
      "execution_count": null,
      "outputs": []
    },
    {
      "cell_type": "markdown",
      "source": [
        "### Support Vector Machine"
      ],
      "metadata": {
        "id": "8sLaFKDoaIMj"
      }
    },
    {
      "cell_type": "code",
      "source": [
        "clf_svm = svm.SVC(probability=True, random_state=42)\n",
        "clf_svm.fit(X_resample, y_resampled)"
      ],
      "metadata": {
        "id": "aL2i7BLGgvWj"
      },
      "execution_count": null,
      "outputs": []
    },
    {
      "cell_type": "code",
      "source": [
        "y_pred_test = clf_svm.predict(X_test)\n",
        "y_pred_prob_test = clf_svm.predict_proba(X_test)[:,1]\n",
        "    \n",
        "precision = metrics.precision_score(y_test, y_pred_test)\n",
        "recall = metrics.recall_score(y_test, y_pred_test)\n",
        "f1 = metrics.f1_score(y_test, y_pred_test)\n",
        "roc_auc = metrics.roc_auc_score(y_test, y_pred_prob_test)\n",
        "\n",
        "precision, recall, f1, roc_auc"
      ],
      "metadata": {
        "id": "GTbON8ZbhHH3"
      },
      "execution_count": null,
      "outputs": []
    },
    {
      "cell_type": "code",
      "source": [
        "from sklearn.model_selection import GridSearchCV\n",
        "def model_build2(base_estimator, parameters):\n",
        "    \n",
        "    clf = model_selection.GridSearchCV(\n",
        "        base_estimator, \n",
        "        parameters)\n",
        "    \n",
        "    clf.fit(X_resample, y_resampled)\n",
        "    \n",
        "    print('best score:', clf.best_score_)\n",
        "    print('best parameters: ', clf.best_params_)\n",
        "\n",
        "    optimised = clf.best_estimator_\n",
        "    return optimised"
      ],
      "metadata": {
        "id": "4puv3-aEhG2K"
      },
      "execution_count": null,
      "outputs": []
    },
    {
      "cell_type": "code",
      "source": [
        "svm_grid = {'C': [0.1, 1.0, 10]}\n",
        "\n",
        "optimised_svm = model_build2(svm.SVC(random_state=2022, probability=True), svm_grid)"
      ],
      "metadata": {
        "id": "nz8VK09lg9hx"
      },
      "execution_count": null,
      "outputs": []
    },
    {
      "cell_type": "code",
      "source": [
        "optimised_svm = svm.SVC(random_state=2022, probability=True, C=10)"
      ],
      "metadata": {
        "id": "LSrcHMqM1e5y"
      },
      "execution_count": null,
      "outputs": []
    },
    {
      "cell_type": "code",
      "source": [
        "optimised_svm.fit(X_resample, y_resampled)"
      ],
      "metadata": {
        "id": "cDY-ZQGm1ve2"
      },
      "execution_count": null,
      "outputs": []
    },
    {
      "cell_type": "code",
      "source": [
        "y_pred_test = optimised_svm.predict(X_test)\n",
        "y_pred_prob_test = optimised_svm.predict_proba(X_test)[:,1]\n",
        "    \n",
        "precision = metrics.precision_score(y_test, y_pred_test)\n",
        "recall = metrics.recall_score(y_test, y_pred_test)\n",
        "f1 = metrics.f1_score(y_test, y_pred_test)\n",
        "roc_auc = metrics.roc_auc_score(y_test, y_pred_prob_test)\n",
        "\n",
        "precision, recall, f1, roc_auc"
      ],
      "metadata": {
        "id": "X4j5fLSdhTRq"
      },
      "execution_count": null,
      "outputs": []
    },
    {
      "cell_type": "code",
      "source": [
        "y_score = optimised_svm.predict_proba(X_test)[:, 1]\n",
        "\n",
        "#calculate precision and recall\n",
        "precision, recall, thresholds = precision_recall_curve(y_test, y_score)\n",
        "\n",
        "#create precision recall curve\n",
        "fig, ax = plt.subplots()\n",
        "ax.plot(recall, precision, color='purple')\n",
        "\n",
        "#add axis labels to plot\n",
        "ax.set_title('Precision-Recall Curve')\n",
        "ax.set_ylabel('Precision')\n",
        "ax.set_xlabel('Recall')\n",
        "\n",
        "#display plot\n",
        "plt.show()"
      ],
      "metadata": {
        "id": "MXYLN01a4Ft7"
      },
      "execution_count": null,
      "outputs": []
    },
    {
      "cell_type": "code",
      "source": [
        ""
      ],
      "metadata": {
        "id": "zs80tBDAaOtM"
      },
      "execution_count": null,
      "outputs": []
    },
    {
      "cell_type": "markdown",
      "source": [
        "### Neural Network"
      ],
      "metadata": {
        "id": "Eck-UmZgaPaB"
      }
    },
    {
      "cell_type": "markdown",
      "source": [
        "#### Process Text Column"
      ],
      "metadata": {
        "id": "nWnQZ2Iockv1"
      }
    },
    {
      "cell_type": "code",
      "source": [
        "#target variable\n",
        "target=df[\"fraudulent\"]\n",
        "\n",
        "#categorical dataframe\n",
        "cats=categorical_features"
      ],
      "metadata": {
        "id": "B75ab22jaOwD"
      },
      "execution_count": null,
      "outputs": []
    },
    {
      "cell_type": "code",
      "source": [
        "df_2=pd.read_csv('fake_job_postings.csv')\n",
        "\n",
        "#extract text dataframe\n",
        "text_df = df_2[[\"title\", \"company_profile\", \"description\", \"requirements\", \"benefits\"]]\n",
        "text_df = text_df.fillna(' ')\n",
        "\n",
        "#preprocessing of text_df, concat. all columns\n",
        "text = text_df[text_df.columns[0:-1]].apply(lambda x: ','.join(x.dropna().astype(str)),axis=1)\n"
      ],
      "metadata": {
        "id": "82pDFnTHaOyI"
      },
      "execution_count": null,
      "outputs": []
    },
    {
      "cell_type": "code",
      "source": [
        "#text cleaning\n",
        "import re\n",
        "import string\n",
        "\n",
        "def clean_text(text):\n",
        "    '''Make text lowercase, remove text in square brackets,remove links,remove punctuation\n",
        "    and remove words containing numbers.'''\n",
        "    text = text.lower()\n",
        "    text = re.sub('\\[.*?\\]', '', text)\n",
        "    text = re.sub('https?://\\S+|www\\.\\S+', '', text)                    #links\n",
        "    text = re.sub('<.*?>+', '', text)                                   #punctuation\n",
        "    text = re.sub('[%s]' % re.escape(string.punctuation), '', text)     #punctuations\n",
        "    text = re.sub('\\n', '', text)                                       #remove \\n\n",
        "    text = re.sub('\\w*\\d\\w*', '', text)                                 #remove numbers in between words\n",
        "    return text\n",
        "\n",
        "\n",
        "# Applying the cleaning function to both test and training datasets\n",
        "text = text.apply(lambda x: clean_text(x))\n"
      ],
      "metadata": {
        "id": "GvBVjD_NaO0W"
      },
      "execution_count": null,
      "outputs": []
    },
    {
      "cell_type": "code",
      "source": [
        "#remove stopwords\n",
        "\n",
        "import nltk\n",
        "from nltk.corpus import stopwords\n",
        "from nltk.tokenize import word_tokenize\n",
        "\n",
        "stop_words = stopwords.words('english')\n",
        "\n",
        "def remove_stopwords(text):\n",
        "    words = [w for w in text if w not in stop_words]\n",
        "    return words\n",
        "\n",
        "def combine_text(list_of_text):\n",
        "    combined_text = ' '.join(list_of_text)\n",
        "    return combined_text\n",
        "\n",
        "tokenizer = nltk.tokenize.RegexpTokenizer(r'\\w+')      #tokenize\n",
        "text = text.apply(lambda x: tokenizer.tokenize(x))\n",
        "text = text.apply(lambda x : remove_stopwords(x))      #remove stopwords\n",
        "text = text.apply(lambda x : combine_text(x))          #combine elements of words\n"
      ],
      "metadata": {
        "id": "TULlCNKSbyi0"
      },
      "execution_count": null,
      "outputs": []
    },
    {
      "cell_type": "code",
      "source": [
        "#TF_IDF vectorizer\n",
        "\n",
        "from sklearn.feature_extraction.text import TfidfVectorizer\n",
        "\n",
        "tfidf = TfidfVectorizer(ngram_range = (1,3), min_df= 0.02, max_df= 0.5)#TRY ADJUSTING ngram_range and min_df, max_df\n",
        "                                \n",
        "transformed = tfidf.fit_transform(text)\n",
        "df_vec = pd.DataFrame(transformed.todense(),columns=tfidf.get_feature_names())\n",
        "df_vec_scaled=pd.DataFrame(df_vec_scaled,columns=tfidf.get_feature_names())"
      ],
      "metadata": {
        "id": "Dd77nFFCb0EN"
      },
      "execution_count": null,
      "outputs": []
    },
    {
      "cell_type": "code",
      "source": [
        "#standard scaler that applis to all text vectors\n",
        "\n",
        "scaler = preprocessing.StandardScaler()\n",
        "df_vec_scaled = scaler.fit_transform(df_vec)"
      ],
      "metadata": {
        "id": "bxuw63hCb4Zj"
      },
      "execution_count": null,
      "outputs": []
    },
    {
      "cell_type": "code",
      "source": [
        "#final data to be fed in model\n",
        "\n",
        "final_df=pd.concat([cats, df_vec_scaled], axis=1, ignore_index=False)\n",
        "x_final=np.array(final_df)"
      ],
      "metadata": {
        "id": "Fn4a59y2aO3z",
        "outputId": "79dc51ef-0c36-4972-aa60-853ea6c80489",
        "colab": {
          "base_uri": "https://localhost:8080/",
          "height": 169
        }
      },
      "execution_count": null,
      "outputs": [
        {
          "output_type": "error",
          "ename": "NameError",
          "evalue": "ignored",
          "traceback": [
            "\u001b[0;31m---------------------------------------------------------------------------\u001b[0m",
            "\u001b[0;31mNameError\u001b[0m                                 Traceback (most recent call last)",
            "\u001b[0;32m<ipython-input-1-93a0b7e955a8>\u001b[0m in \u001b[0;36m<module>\u001b[0;34m()\u001b[0m\n\u001b[0;32m----> 1\u001b[0;31m \u001b[0mcategorical_features\u001b[0m\u001b[0;34m.\u001b[0m\u001b[0mhead\u001b[0m\u001b[0;34m(\u001b[0m\u001b[0;34m)\u001b[0m\u001b[0;34m\u001b[0m\u001b[0;34m\u001b[0m\u001b[0m\n\u001b[0m",
            "\u001b[0;31mNameError\u001b[0m: name 'categorical_features' is not defined"
          ]
        }
      ]
    },
    {
      "cell_type": "code",
      "source": [
        "#resampling for imbalanced data\n",
        "\n",
        "from sklearn import model_selection\n",
        "from imblearn.combine import SMOTETomek\n",
        "\n",
        "smt = SMOTETomek(random_state=42, sampling_strategy=0.4)\n",
        "X_train, X_test, y_train, y_test = model_selection.train_test_split(x_final, target, test_size=0.2, random_state=42)\n",
        "X_train, y_train = smt.fit_resample(X_train, y_train)"
      ],
      "metadata": {
        "id": "YQAbt939caZW"
      },
      "execution_count": null,
      "outputs": []
    },
    {
      "cell_type": "code",
      "source": [
        ""
      ],
      "metadata": {
        "id": "vPkMCtE4cpqS"
      },
      "execution_count": null,
      "outputs": []
    },
    {
      "cell_type": "markdown",
      "source": [
        "#### Building Neural Network"
      ],
      "metadata": {
        "id": "Yu9X449GcfgK"
      }
    },
    {
      "cell_type": "code",
      "source": [
        "import tensorflow as tf\n",
        "import keras\n",
        "from keras.models import Sequential\n",
        "from keras.layers import Dense, Dropout, Flatten, BatchNormalization, Activation,Embedding,GlobalAveragePooling1D\n",
        "from keras.wrappers.scikit_learn import KerasClassifier\n",
        "from sklearn.model_selection import RandomizedSearchCV\n",
        "from keras import regularizers"
      ],
      "metadata": {
        "id": "BUV2EJ_Ucaj_"
      },
      "execution_count": null,
      "outputs": []
    },
    {
      "cell_type": "code",
      "source": [
        "def create_model(optimizer='adam',dropout_rate=0.2):\n",
        "    model = Sequential()\n",
        "\n",
        "    model.add(Dense(128, input_shape=(5664,), activation='relu'))\n",
        "    model.add(Dropout(dropout_rate))\n",
        "    model.add(BatchNormalization())\n",
        "\n",
        "    model.add(Dense(64, activation='relu'))\n",
        "    model.add(Dropout(dropout_rate))\n",
        "    model.add(BatchNormalization())\n",
        "    \n",
        "    model.add(Dense(64, activation='relu'))\n",
        "    model.add(Dropout(dropout_rate))\n",
        "    model.add(BatchNormalization())\n",
        "\n",
        "    model.add(Dense(16, activation='relu'))\n",
        "    model.add(Dropout(dropout_rate))\n",
        "    model.add(BatchNormalization())\n",
        "\n",
        "    model.add(Dense(1))\n",
        "    model.add(Activation('sigmoid'))\n",
        "\n",
        "    # compile the model\n",
        "    model.compile(loss='binary_crossentropy', \n",
        "                  optimizer=optimizer, \n",
        "                  metrics=[tf.keras.metrics.Precision(), tf.keras.metrics.Recall()])\n",
        "    \n",
        "    return model"
      ],
      "metadata": {
        "id": "15nuPMfEctHp"
      },
      "execution_count": null,
      "outputs": []
    },
    {
      "cell_type": "code",
      "source": [
        "model = KerasClassifier(build_fn=create_model, verbose=0, validation_split=0.2)\n",
        "# define the grid search parameters\n",
        "\n",
        "batch_size = [8,16,24,32]\n",
        "epochs = [20,30,40]\n",
        "optimizer = ['SGD', 'RMSprop', 'Adam']\n",
        "dropout_rate = [0.3, 0.4, 0.5, 0.6]\n",
        "\n",
        "param_grid = dict(batch_size=batch_size, \n",
        "                  epochs=epochs,\n",
        "                  optimizer=optimizer,\n",
        "                  dropout_rate=dropout_rate)\n",
        "\n",
        "grid = RandomizedSearchCV(estimator=model, \n",
        "                          n_iter=10,\n",
        "                          param_distributions=param_grid, \n",
        "                          n_jobs=-1, \n",
        "                          cv=10, \n",
        "                          scoring ='recall',\n",
        "                          random_state=42)\n",
        "\n",
        "grid_result = grid.fit(X_train, y_train, validation_split=0.4)"
      ],
      "metadata": {
        "id": "uBNF59KCcu5U"
      },
      "execution_count": null,
      "outputs": []
    },
    {
      "cell_type": "code",
      "source": [
        ""
      ],
      "metadata": {
        "id": "Hgz1kBgHcwjk"
      },
      "execution_count": null,
      "outputs": []
    },
    {
      "cell_type": "markdown",
      "source": [
        "#### Evaluating best model of SearchCV"
      ],
      "metadata": {
        "id": "duInICEsc1Ve"
      }
    },
    {
      "cell_type": "code",
      "source": [
        "# summarize results\n",
        "print(\"Best: %f using %s\" % (grid_result.best_score_, grid_result.best_params_))\n",
        "means = grid_result.cv_results_['mean_test_score']\n",
        "stds = grid_result.cv_results_['std_test_score']\n",
        "params = grid_result.cv_results_['params']\n",
        "for mean, stdev, param in zip(means, stds, params):\n",
        "    print(\"%f (%f) with: %r\" % (mean, stdev, param))"
      ],
      "metadata": {
        "id": "4YGUPHKWc8fG"
      },
      "execution_count": null,
      "outputs": []
    },
    {
      "cell_type": "code",
      "source": [
        "# train the best estimator\n",
        "\n",
        "best=grid_result.best_estimator_\n",
        "history = best.fit(X_train, y_train, verbose=1, validation_split=0.3)"
      ],
      "metadata": {
        "id": "r35I0-1Pc8hk"
      },
      "execution_count": null,
      "outputs": []
    },
    {
      "cell_type": "code",
      "source": [
        "from sklearn.metrics import precision_recall_curve,precision_score,recall_score,accuracy_score,classification_report,confusion_matrix\n",
        "import matplotlib.pyplot as plt"
      ],
      "metadata": {
        "id": "JNNCv2QIc8j8"
      },
      "execution_count": null,
      "outputs": []
    },
    {
      "cell_type": "code",
      "source": [
        "# evaluation of model\n",
        "\n",
        "# Prediction of test set\n",
        "Y_pred = best.predict(X_test)\n",
        "\n",
        "# classification report, confusion matrix\n",
        "print(classification_report(y_true=y_test, y_pred=Y_pred))\n",
        "print(confusion_matrix(y_test,Y_pred,labels=[1,0]))\n",
        "\n",
        "ln_loss = history.history['loss']\n",
        "ln_val_loss = history.history['val_loss']\n",
        "ln_p = history.history['precision']\n",
        "ln_val_p = history.history['val_precision']\n",
        "ln_r = history.history['recall']\n",
        "ln_val_r = history.history['val_recall']\n",
        "\n",
        "#precision plot\n",
        "plt.figure(figsize=(20,5))\n",
        "plt.subplot(131)\n",
        "plt.plot(ln_p)\n",
        "plt.plot(ln_val_p)\n",
        "plt.ylabel('Precision')\n",
        "plt.xlabel('Epoche')\n",
        "plt.legend(['Training', 'Validation'], loc='lower right')\n",
        "\n",
        "#recall plot\n",
        "plt.subplot(132)\n",
        "plt.plot(ln_r)\n",
        "plt.plot(ln_val_r)\n",
        "plt.ylabel('Recall')\n",
        "plt.xlabel('Epoche')\n",
        "plt.legend(['Training', 'Validation'], loc='lower right')\n",
        "\n",
        "#loss plot\n",
        "plt.subplot(133)\n",
        "plt.plot(ln_loss)\n",
        "plt.plot(ln_val_loss)\n",
        "plt.ylabel('Loss')\n",
        "plt.xlabel('Epoche')\n",
        "plt.legend(['Training', 'Validation'], loc='lower right')"
      ],
      "metadata": {
        "id": "BSSCcvE5c8mH"
      },
      "execution_count": null,
      "outputs": []
    },
    {
      "cell_type": "code",
      "source": [
        ""
      ],
      "metadata": {
        "id": "x1Ac9RzGdc4r"
      },
      "execution_count": null,
      "outputs": []
    },
    {
      "cell_type": "markdown",
      "source": [
        "#### Tuning the best CV model"
      ],
      "metadata": {
        "id": "o9LCUaBYdfE6"
      }
    },
    {
      "cell_type": "code",
      "source": [
        "from keras.callbacks import EarlyStopping\n",
        "\n",
        "best=grid_result.best_estimator_\n",
        "#early stopping\n",
        "#es = EarlyStopping(monitor='val_acc', mode='max', verbose=1, patience=20)\n",
        "best_tuned_1 = best.fit(X_train, y_train, epochs=100)"
      ],
      "metadata": {
        "id": "2-CTozfmddHI"
      },
      "execution_count": null,
      "outputs": []
    },
    {
      "cell_type": "code",
      "source": [
        "#evaluation of tuned model\n",
        "\n",
        "#rf_matrixt = metrics.confusion_matrix(y_test, y_pred_test, labels=[1,0])\n",
        "\n",
        "Y_pred_2 = best.predict(X_test)\n",
        "print(classification_report(y_true=y_test, y_pred=Y_pred_2))\n",
        "print(confusion_matrix(y_test,Y_pred_2,labels=[1,0]))\n",
        "\n",
        "ln_loss = best_tuned_1.history['loss']\n",
        "ln_val_loss = best_tuned_1.history['val_loss']\n",
        "ln_p = best_tuned_1.history['precision_1']\n",
        "ln_val_p = best_tuned_1.history['val_precision_1']\n",
        "ln_r = best_tuned_1.history['recall_1']\n",
        "ln_val_r = best_tuned_1.history['val_recall_1']\n",
        "\n",
        "\n",
        "plt.figure(figsize=(20,5))\n",
        "plt.subplot(131)\n",
        "plt.plot(ln_p)\n",
        "plt.plot(ln_val_p)\n",
        "plt.ylabel('Precision')\n",
        "plt.xlabel('Epoche')\n",
        "plt.legend(['Training', 'Validation'], loc='lower right')\n",
        "\n",
        "plt.subplot(132)\n",
        "plt.plot(ln_r)\n",
        "plt.plot(ln_val_r)\n",
        "plt.ylabel('Recall')\n",
        "plt.xlabel('Epoche')\n",
        "plt.legend(['Training', 'Validation'], loc='lower right')\n",
        "\n",
        "plt.subplot(133)\n",
        "plt.plot(ln_loss)\n",
        "plt.plot(ln_val_loss)\n",
        "plt.ylabel('Loss')\n",
        "plt.xlabel('Epoche')\n",
        "plt.legend(['Training', 'Validation'], loc='lower right')"
      ],
      "metadata": {
        "id": "bWRedoWnddJW"
      },
      "execution_count": null,
      "outputs": []
    },
    {
      "cell_type": "code",
      "source": [
        "#Precision recall curve\n",
        "\n",
        "from sklearn.metrics import precision_recall_curve\n",
        "import matplotlib.pyplot as plt\n",
        "\n",
        "best=grid_result.best_estimator_\n",
        "y_score = best.predict_proba(np.array(X_test))[:, 1]\n",
        "\n",
        "#calculate precision and recall\n",
        "precision, recall, thresholds = precision_recall_curve(y_test, y_score)\n",
        "\n",
        "#create precision recall curve\n",
        "fig, ax = plt.subplots()\n",
        "\n",
        "fig.set_size_inches(9,6)\n",
        "ax.plot(recall, precision, color='purple')\n",
        "\n",
        "#add axis labels to plot\n",
        "ax.set_title('Precision-Recall Curve of Best Neural Network Model')\n",
        "ax.set_ylabel('Precision')\n",
        "ax.set_xlabel('Recall')\n",
        "\n",
        "#display plot\n",
        "plt.show()"
      ],
      "metadata": {
        "id": "ti2aCx87dnzn"
      },
      "execution_count": null,
      "outputs": []
    },
    {
      "cell_type": "markdown",
      "source": [
        "### End of Project"
      ],
      "metadata": {
        "id": "r011wwfXdxa2"
      }
    }
  ]
}