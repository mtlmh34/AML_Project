{
  "nbformat": 4,
  "nbformat_minor": 0,
  "metadata": {
    "colab": {
      "name": "“Untitled0.ipynb”的副本",
      "provenance": [],
      "collapsed_sections": [
        "nWnQZ2Iockv1",
        "Yu9X449GcfgK",
        "duInICEsc1Ve",
        "o9LCUaBYdfE6"
      ],
      "machine_shape": "hm",
      "include_colab_link": true
    },
    "kernelspec": {
      "name": "python3",
      "display_name": "Python 3"
    },
    "language_info": {
      "name": "python"
    },
    "gpuClass": "standard"
  },
  "cells": [
    {
      "cell_type": "markdown",
      "metadata": {
        "id": "view-in-github",
        "colab_type": "text"
      },
      "source": [
        "<a href=\"https://colab.research.google.com/github/mtlmh34/AML_Project/blob/main/grp%20proj_2.3.ipynb\" target=\"_parent\"><img src=\"https://colab.research.google.com/assets/colab-badge.svg\" alt=\"Open In Colab\"/></a>"
      ]
    },
    {
      "cell_type": "markdown",
      "source": [
        "### Import dataset, packages"
      ],
      "metadata": {
        "id": "tvz2wZ84d6dh"
      }
    },
    {
      "cell_type": "code",
      "execution_count": 1,
      "metadata": {
        "id": "7-5ewlrf37ny"
      },
      "outputs": [],
      "source": [
        "from google.colab import files"
      ]
    },
    {
      "cell_type": "code",
      "source": [
        "files.upload()"
      ],
      "metadata": {
        "id": "3spwxoDD3_AW",
        "outputId": "59bf32ca-7008-4bdf-8b70-67f4efa03bef",
        "colab": {
          "resources": {
            "http://localhost:8080/nbextensions/google.colab/files.js": {
              "data": "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",
              "ok": true,
              "headers": [
                [
                  "content-type",
                  "application/javascript"
                ]
              ],
              "status": 200,
              "status_text": ""
            }
          },
          "base_uri": "https://localhost:8080/",
          "height": 74
        }
      },
      "execution_count": 2,
      "outputs": [
        {
          "output_type": "display_data",
          "data": {
            "text/plain": [
              "<IPython.core.display.HTML object>"
            ],
            "text/html": [
              "\n",
              "     <input type=\"file\" id=\"files-ce393786-6d38-434b-aa43-f3e0d41b33e5\" name=\"files[]\" multiple disabled\n",
              "        style=\"border:none\" />\n",
              "     <output id=\"result-ce393786-6d38-434b-aa43-f3e0d41b33e5\">\n",
              "      Upload widget is only available when the cell has been executed in the\n",
              "      current browser session. Please rerun this cell to enable.\n",
              "      </output>\n",
              "      <script src=\"/nbextensions/google.colab/files.js\"></script> "
            ]
          },
          "metadata": {}
        },
        {
          "output_type": "stream",
          "name": "stdout",
          "text": [
            "Saving fake_job_postings.csv to fake_job_postings (1).csv\n"
          ]
        }
      ]
    },
    {
      "cell_type": "code",
      "source": [
        "import numpy as np\n",
        "import pandas as pd\n",
        "import re\n",
        "import string\n",
        "import nltk\n",
        "nltk.download('stopwords')\n",
        "nltk.download('wordnet')\n",
        "nltk.download('omw-1.4')\n",
        "from nltk.corpus import stopwords\n",
        "from nltk.tokenize import word_tokenize\n",
        "from nltk.tokenize import RegexpTokenizer\n",
        "from sklearn.feature_extraction.text import TfidfVectorizer\n",
        "from sklearn.preprocessing import StandardScaler\n",
        "from sklearn import linear_model, tree, model_selection, ensemble, svm, metrics, naive_bayes\n",
        "from sklearn.model_selection import RandomizedSearchCV\n",
        "from imblearn.combine import SMOTETomek\n",
        "from imblearn.over_sampling import SMOTE\n",
        "from sklearn.tree import DecisionTreeClassifier\n",
        "from sklearn.model_selection import train_test_split\n",
        "from sklearn.metrics import precision_recall_curve, fbeta_score\n",
        "import matplotlib.pyplot as plt"
      ],
      "metadata": {
        "id": "xCH7DTWeizFf"
      },
      "execution_count": null,
      "outputs": []
    },
    {
      "cell_type": "code",
      "source": [
        "df=pd.read_csv('fake_job_postings.csv')"
      ],
      "metadata": {
        "id": "jxZWZEf_3_Es"
      },
      "execution_count": null,
      "outputs": []
    },
    {
      "cell_type": "markdown",
      "source": [
        "### Data preprocessing"
      ],
      "metadata": {
        "id": "dtOBJpfOZiSZ"
      }
    },
    {
      "cell_type": "code",
      "source": [
        "# drop columns department and salary range as they have more than 50% missing data \n",
        "# drop column for industry as it has too many unique values\n",
        "\n",
        "df.drop(columns=['department', 'salary_range', 'industry'], inplace = True)"
      ],
      "metadata": {
        "id": "_JH8Z9yPXqJX"
      },
      "execution_count": null,
      "outputs": []
    },
    {
      "cell_type": "code",
      "source": [
        "#-------------------start cleaning for location column\n",
        "\n",
        "#--------1. split the columns to country, state, and city\n",
        "df['country']=df.location.str.split(',',expand=True)[:][0]\n",
        "df['state']=df.location.str.split(',',expand=True)[:][1]\n",
        "df['city']=df.location.str.split(',',expand=True)[:][2]\n",
        "\n",
        "#----------2. replacing different kinds of missing value to np.nan\n",
        "df.state = df.state.str.strip()\n",
        "df.state.fillna(value=np.nan, inplace=True)\n",
        "df.state.replace('', np.nan, inplace=True)\n",
        "df.state.replace(' ', np.nan, inplace=True)\n",
        "\n",
        "#----------3. clear the whitespaces and signs at the start/end\n",
        "df.city = df.city.str.strip(' /:\\\\')\n",
        "\n",
        "#---------4. replacing different kinds of missing value to np.nan\n",
        "df.city.fillna(value=np.nan, inplace=True)\n",
        "df.city.replace('', np.nan, inplace=True)\n",
        "df.city.replace(' ', np.nan, inplace=True)\n",
        "df['city']=df.city.str.lower()\n",
        "\n",
        "#---------\n",
        "\n",
        "# drop unnecessary columns\n",
        "df.drop(['location'], axis = 1, inplace = True)\n",
        "\n",
        "# too many unique entries in city, hence dropped column for city\n",
        "df.drop(columns=['city'], axis=1, inplace = True)"
      ],
      "metadata": {
        "id": "UHLwulQr3_Jf"
      },
      "execution_count": null,
      "outputs": []
    },
    {
      "cell_type": "code",
      "source": [
        "#-------------------start cleaning for text columns\n",
        "\n",
        "#extract text dataframe\n",
        "text_df = df[[\"title\", \"company_profile\", \"description\", \"requirements\", \"benefits\"]]\n",
        "text_df = text_df.fillna(' ')\n",
        "\n",
        "\n",
        "#preprocessing of text_df, concat. all columns\n",
        "text = text_df[text_df.columns[0:-1]].apply(lambda x: ','.join(x.dropna().astype(str)),axis=1)"
      ],
      "metadata": {
        "id": "EAgM4IvEi8Yr"
      },
      "execution_count": null,
      "outputs": []
    },
    {
      "cell_type": "code",
      "source": [
        "#cleaning text\n",
        "def clean_text(text):\n",
        "    '''Make text lowercase, remove text in square brackets,remove links,remove punctuation\n",
        "    and remove words containing numbers.'''\n",
        "    text = text.lower()\n",
        "    text = re.sub('\\[.*?\\]', '', text)\n",
        "    text = re.sub('https?://\\S+|www\\.\\S+', '', text)                    #links\n",
        "    text = re.sub('<.*?>+', '', text)                                   #punctuation\n",
        "    text = re.sub('[%s]' % re.escape(string.punctuation), '', text)     #punctuations\n",
        "    text = re.sub('\\n', '', text)                                       #remove \\n\n",
        "    text = re.sub('\\w*\\d\\w*', '', text)                                 #remove numbers in between words\n",
        "    return text\n",
        "\n",
        "# Apply the cleaning function to both test and training datasets\n",
        "text = text.apply(lambda x: clean_text(x))"
      ],
      "metadata": {
        "id": "1nM59EUPi8be"
      },
      "execution_count": null,
      "outputs": []
    },
    {
      "cell_type": "code",
      "source": [
        "# remove stop words\n",
        "\n",
        "stop_words = stopwords.words('english')\n",
        "\n",
        "def remove_stopwords(text):\n",
        "  words = [w for w in text if w not in stop_words]\n",
        "  return words\n",
        "\n",
        "def combine_text(list_of_text):\n",
        "  combined_text = ' '.join(list_of_text)\n",
        "  return combined_text\n",
        "\n",
        "tokenizer = RegexpTokenizer(r'\\w+')                       #tokenize\n",
        "text = text.apply(lambda x: tokenizer.tokenize(x))\n",
        "text = text.apply(lambda x : remove_stopwords(x))         #remove stopwords\n",
        "text = text.apply(lambda x : combine_text(x))             #combine elements of words"
      ],
      "metadata": {
        "id": "oSAm-9b9i8eZ"
      },
      "execution_count": null,
      "outputs": []
    },
    {
      "cell_type": "code",
      "source": [
        "# Identify which text feature is not populated before dropping these text columns.\n",
        "\n",
        "columns_to_remove = [\"company_profile\", \"description\", \"requirements\", \"benefits\", \"title\"]\n",
        "\n",
        "\n",
        "# create new binary columns to check if attribute field is populated in the record.\n",
        "# note that all records have 'title' information, so no additional binary column is required for title. \n",
        "\n",
        "for i in columns_to_remove:\n",
        "  df[i] = df[i].fillna(\"unspecified\")\n",
        "new_columns = [\"has_company_profile\", \"has_description\", \"has_requirements\", \"has_benefits\"]\n",
        "\n",
        "for i in range(len(new_columns)):\n",
        "  df[new_columns[i]] = df[columns_to_remove[i]].apply(lambda x: 0 if x == \"unspecified\" else 1)\n",
        "\n",
        "df.drop(columns = columns_to_remove, axis = 1, inplace = True)"
      ],
      "metadata": {
        "id": "YjWKkTpTjErS"
      },
      "execution_count": null,
      "outputs": []
    },
    {
      "cell_type": "code",
      "source": [
        "# column for job_id is not required and hence, dropped\n",
        "\n",
        "df.drop(columns = ['job_id'], axis = 1, inplace = True)"
      ],
      "metadata": {
        "id": "uxcESC0SjEtb"
      },
      "execution_count": null,
      "outputs": []
    },
    {
      "cell_type": "code",
      "source": [
        "#-------------------cleaning categorical columns \n",
        "\n",
        "category_columns = ['employment_type', 'required_experience', 'required_education', \n",
        "                    'function', 'country', 'state']\n",
        "\n",
        "# when populating missing fields with unspecified, the attribute name is added as a \n",
        "# prefix for unspecified to preserve the attribute information. this is required as \n",
        "# all categorical columns will be converted into indicator variables in the later step.\n",
        "\n",
        "for i in category_columns:\n",
        "  df[i] = df[i].fillna(i + \"_unspecified\")\n",
        "\n",
        "\n",
        "# country codes duplicated in country and state columns\n",
        "\n",
        "duplicated = ['BE', 'DE', 'PA', 'NL', 'ID', 'PL', 'IL', 'IN', 'RS', 'ES', 'SA', \n",
        "              'SD', 'MT', 'MA', 'IS', 'SK', 'HR', 'BR', 'TN', 'JM', 'CO', 'CN', \n",
        "              'AL', 'AR', 'CH', 'CA', 'BY']\n",
        "\n",
        "\n",
        "# remove duplicated codes from state column\n",
        "\n",
        "state_features = pd.get_dummies(df['state'])\n",
        "state_features.drop(columns = duplicated, axis = 1, inplace = True)\n",
        "\n",
        "\n",
        "# convert all categorical columns into indicator variables and concate them together.\n",
        "\n",
        "categorical_features = pd.concat([pd.get_dummies(df['employment_type']), \n",
        "                                  pd.get_dummies(df['required_experience']), \n",
        "                                  pd.get_dummies(df['required_education']),\n",
        "                                  pd.get_dummies(df['country']),\n",
        "                                  state_features],\n",
        "                                  axis = 1)\n",
        "\n",
        "df.drop(columns = category_columns, axis = 1, inplace = True)"
      ],
      "metadata": {
        "id": "WwS6OxPxjEwJ"
      },
      "execution_count": null,
      "outputs": []
    },
    {
      "cell_type": "code",
      "source": [
        "# train-test-split\n",
        "\n",
        "# separate target column from dataframe\n",
        "df_combined = pd.concat([df, categorical_features, text], axis =1, ignore_index=False)\n",
        "df_combined.rename(columns={ df_combined.columns[-1]: \"text\" }, inplace = True)\n",
        "X_data = df_combined.drop('fraudulent', axis = 1)\n",
        "y_data = df_combined['fraudulent']\n",
        "\n",
        "X_train_df, X_test_df, y_train, y_test = train_test_split(X_data, y_data, test_size=0.2, random_state=42)"
      ],
      "metadata": {
        "id": "DjorO8BPjEyk"
      },
      "execution_count": null,
      "outputs": []
    },
    {
      "cell_type": "code",
      "source": [
        "# apply vectoriser after train-test-split\n",
        "\n",
        "# TF_IDF vectorizer\n",
        "tfidf = TfidfVectorizer(ngram_range = (1,2), min_df= 0.05, max_df= 0.5)\n",
        "\n",
        "# train set fit_transform\n",
        "transformed = tfidf.fit_transform(X_train_df['text'])\n",
        "df_vec = pd.DataFrame(transformed.todense(),columns=tfidf.get_feature_names())\n",
        "\n",
        "X_train = X_train_df.drop('text', axis = 1)\n",
        "X_train = pd.concat([X_train.reset_index(), df_vec.reset_index()], axis = 1)\n",
        "X_train.drop('index', axis = 1, inplace = True)\n",
        "\n",
        "# test set transform\n",
        "test_text = tfidf.transform(X_test_df['text'])\n",
        "df_vec_test = pd.DataFrame(test_text.todense(),columns=tfidf.get_feature_names())\n",
        "\n",
        "X_test = X_test_df.drop('text', axis = 1)\n",
        "X_test = pd.concat([X_test.reset_index(), df_vec_test.reset_index()], axis = 1)\n",
        "X_test.drop('index', axis = 1, inplace = True)"
      ],
      "metadata": {
        "id": "8pWV4sy9jE1P"
      },
      "execution_count": 37,
      "outputs": []
    },
    {
      "cell_type": "code",
      "source": [
        "# additional standardisation step for artificial neural network\n",
        "\n",
        "#standard scaler that applies to to text vectors\n",
        "scaler = StandardScaler()\n",
        "\n",
        "# train set fit_transform\n",
        "df_vec_scaled = scaler.fit_transform(df_vec)\n",
        "df_vec_scaled=pd.DataFrame(df_vec_scaled, columns=tfidf.get_feature_names())\n",
        "\n",
        "X_train_nn = X_train_df.drop('text', axis = 1)\n",
        "X_train_nn = pd.concat([X_train_nn.reset_index(), df_vec_scaled.reset_index()], axis = 1)\n",
        "X_train_nn.drop('index', axis = 1, inplace = True)\n",
        "\n",
        "# test set transform\n",
        "df_vec_scaled_test = scaler.transform(df_vec_test)\n",
        "df_vec_scaled_test=pd.DataFrame(df_vec_scaled_test, columns=tfidf.get_feature_names())\n",
        "\n",
        "X_test_nn = X_test_df.drop('text', axis = 1)\n",
        "X_test_nn = pd.concat([X_test_nn.reset_index(), df_vec_scaled_test.reset_index()], axis = 1)\n",
        "X_test_nn.drop('index', axis = 1, inplace = True)"
      ],
      "metadata": {
        "id": "Amdn6e6DjE3z"
      },
      "execution_count": 38,
      "outputs": []
    },
    {
      "cell_type": "code",
      "source": [
        "# check the ratio of text columns against number  of binary columns\n",
        "# minus 1 for X_train_df.shape[1] due to 'text' column in X_train_df\n",
        "\n",
        "print(\"Number of text columns: \", X_train.shape[1] - (X_train_df.shape[1] - 1))\n",
        "print(\"Number of binary columns: \", X_train_df.shape[1] - 1)"
      ],
      "metadata": {
        "colab": {
          "base_uri": "https://localhost:8080/"
        },
        "id": "T-82MnmZjE6n",
        "outputId": "aaf31adc-f2d1-4d4c-ca3d-2d0e397a8605"
      },
      "execution_count": 39,
      "outputs": [
        {
          "output_type": "stream",
          "name": "stdout",
          "text": [
            "Number of text columns:  668\n",
            "Number of binary columns:  424\n"
          ]
        }
      ]
    },
    {
      "cell_type": "code",
      "source": [
        "# same checks for artificial neural network\n",
        "\n",
        "print(\"Number of text columns: \", X_train_nn.shape[1] - (X_train_df.shape[1] - 1))\n",
        "print(\"Number of binary columns: \", X_train_df.shape[1] - 1)"
      ],
      "metadata": {
        "colab": {
          "base_uri": "https://localhost:8080/"
        },
        "id": "o8sCUEqji8hE",
        "outputId": "ae2d1eeb-f3c6-41b7-9187-e619f84c4c58"
      },
      "execution_count": 40,
      "outputs": [
        {
          "output_type": "stream",
          "name": "stdout",
          "text": [
            "Number of text columns:  668\n",
            "Number of binary columns:  424\n"
          ]
        }
      ]
    },
    {
      "cell_type": "markdown",
      "source": [
        "### Evaluate Sampling Strategy"
      ],
      "metadata": {
        "id": "lKbe7oTp3nW4"
      }
    },
    {
      "cell_type": "code",
      "source": [
        "import warnings\n",
        "warnings.filterwarnings('ignore')\n",
        "\n",
        "# create function to evaluate whether SMOTE-TOMEK or SMOTE sampling gives a better fbeta score.\n",
        "# the size of the sampling strategy is also evaluated.\n",
        "# this is only a quick evaluation of the sampling type and size, hence a simpler model, decision tree is used.\n",
        "# evaluation is performed on X_train, y_train. the results will be applied for X_train_nn, y_train_nn. \n",
        "\n",
        "def sampling_evaluation(type, size):\n",
        "    if type == 'smote-tomek':\n",
        "        smt = SMOTETomek(random_state=42, sampling_strategy=size)\n",
        "    elif type == 'smote':\n",
        "        smt = SMOTE(random_state=42, sampling_strategy=size)\n",
        "\n",
        "    X_resample, y_resampled = smt.fit_resample(X_train, y_train)\n",
        "\n",
        "  # train decision tree model\n",
        "    dt = DecisionTreeClassifier(random_state=42)\n",
        "    dt.fit(X_resample, y_resampled)\n",
        "\n",
        "  # evaluate predictions\n",
        "    y_pred_test = dt.predict(X_test)\n",
        "    fbeta = fbeta_score(y_test, y_pred_test, beta = 2.0)\n",
        "    \n",
        "    return fbeta"
      ],
      "metadata": {
        "id": "bsMmSAqm4ZkJ"
      },
      "execution_count": 50,
      "outputs": []
    },
    {
      "cell_type": "code",
      "source": [
        "# the over-sampling techniques and the corresponding sampling strategy size is as listed below.\n",
        "sampling_strat = [('smote-tomek', 0.4), ('smote-tomek', 0.5), ('smote-tomek', 0.6), ('smote', 0.4), ('smote', 0.5), ('smote', 0.6)]\n",
        "\n",
        "for strat in sampling_strat:\n",
        "  print(strat, \": \", sampling_evaluation(strat[0], strat[1]))"
      ],
      "metadata": {
        "id": "u0rmwtoO4Zm0",
        "outputId": "205ea375-51ac-48d5-c368-25ac63bee797",
        "colab": {
          "base_uri": "https://localhost:8080/"
        }
      },
      "execution_count": 51,
      "outputs": [
        {
          "output_type": "stream",
          "name": "stdout",
          "text": [
            "('smote-tomek', 0.4) :  0.7272727272727273\n",
            "('smote-tomek', 0.5) :  0.6896551724137931\n",
            "('smote-tomek', 0.6) :  0.669882100750268\n",
            "('smote', 0.4) :  0.7249466950959489\n",
            "('smote', 0.5) :  0.6942949407965555\n",
            "('smote', 0.6) :  0.669882100750268\n"
          ]
        }
      ]
    },
    {
      "cell_type": "code",
      "source": [
        "# SMOTE with sampling strategy of 0.4 has the best performance \n",
        "# hence, this will be used to perform over-sampling \n",
        "\n",
        "smt = SMOTE(random_state=42, sampling_strategy=0.4)\n",
        "X_resampled, y_resampled = smt.fit_resample(X_train, y_train)"
      ],
      "metadata": {
        "id": "Q7PyHBjK-Y4D"
      },
      "execution_count": 52,
      "outputs": []
    },
    {
      "cell_type": "code",
      "source": [
        "# the same sampling is performed for the data to be used for artificial neural network  \n",
        "\n",
        "smt_nn = SMOTE(random_state=42, sampling_strategy=0.4)\n",
        "X_resampled_nn, y_resampled_nn = smt_nn.fit_resample(X_train_nn, y_train)"
      ],
      "metadata": {
        "id": "iSRwXm7qTlJU"
      },
      "execution_count": 53,
      "outputs": []
    },
    {
      "cell_type": "code",
      "source": [
        "print(\"For all others:\\n\", y_resampled.value_counts())\n",
        "print(\"\")\n",
        "print(\"For neural network:\\n\", y_resampled_nn.value_counts())"
      ],
      "metadata": {
        "id": "RbGwNjTuUezx",
        "outputId": "322b651d-ddd1-4274-e3bf-0eb35c42e828",
        "colab": {
          "base_uri": "https://localhost:8080/"
        }
      },
      "execution_count": 54,
      "outputs": [
        {
          "output_type": "stream",
          "name": "stdout",
          "text": [
            "For all others:\n",
            " 0    13619\n",
            "1     5447\n",
            "Name: fraudulent, dtype: int64\n",
            "\n",
            "For neural network:\n",
            " 0    13619\n",
            "1     5447\n",
            "Name: fraudulent, dtype: int64\n"
          ]
        }
      ]
    },
    {
      "cell_type": "markdown",
      "source": [
        "### Naive Bayes"
      ],
      "metadata": {
        "id": "UFUVjcPQZ6Ge"
      }
    },
    {
      "cell_type": "code",
      "source": [
        "mnb = naive_bayes.MultinomialNB()\n",
        "mnb.fit(X_resampled, y_resampled)"
      ],
      "metadata": {
        "id": "cTVzYV9jCXI3",
        "outputId": "20291052-d200-4393-85cb-97fd331bf04b",
        "colab": {
          "base_uri": "https://localhost:8080/"
        }
      },
      "execution_count": 55,
      "outputs": [
        {
          "output_type": "execute_result",
          "data": {
            "text/plain": [
              "MultinomialNB()"
            ]
          },
          "metadata": {},
          "execution_count": 55
        }
      ]
    },
    {
      "cell_type": "code",
      "source": [
        "def model_results(model, X_values, y_values, train_test):\n",
        "  y_pred = model.predict(X_values)\n",
        "  y_pred_prob = model.predict_proba(X_values)[:,1]\n",
        "      \n",
        "  precision = metrics.precision_score(y_values, y_pred)\n",
        "  recall = metrics.recall_score(y_values, y_pred)\n",
        "  f1 = metrics.f1_score(y_values, y_pred)\n",
        "  roc_auc = metrics.roc_auc_score(y_values, y_pred_prob)\n",
        "  fbeta = fbeta_score(y_values, y_pred, beta = 2.0)\n",
        "\n",
        "  cf_matrix = metrics.confusion_matrix(y_values, y_pred, labels=[1,0])\n",
        "\n",
        "  evaluation_metrics = ['precision', 'recall', 'f1', 'roc_auc', 'f-beta']\n",
        "  scores = [precision, recall, f1, roc_auc, fbeta]\n",
        "  print(pd.DataFrame([scores], columns = evaluation_metrics, index = [train_test]))\n",
        "  print(\"\")\n",
        "  print(\"Confusion matrix: \")\n",
        "  print(cf_matrix)"
      ],
      "metadata": {
        "id": "C3DHaYZLXY1Q"
      },
      "execution_count": 56,
      "outputs": []
    },
    {
      "cell_type": "code",
      "source": [
        "model_results(mnb, X_resampled, y_resampled, \"Train\")"
      ],
      "metadata": {
        "id": "GDTxxO-UZhAK",
        "outputId": "6d0f1d34-9edc-4990-e2b8-771c2b127e32",
        "colab": {
          "base_uri": "https://localhost:8080/"
        }
      },
      "execution_count": 57,
      "outputs": [
        {
          "output_type": "stream",
          "name": "stdout",
          "text": [
            "       precision    recall        f1   roc_auc    f-beta\n",
            "Train   0.804167  0.779512  0.791647  0.944064  0.784321\n",
            "\n",
            "Confusion matrix: \n",
            "[[ 4246  1201]\n",
            " [ 1034 12585]]\n"
          ]
        }
      ]
    },
    {
      "cell_type": "code",
      "source": [
        "model_results(mnb, X_test, y_test, \"Test\")"
      ],
      "metadata": {
        "id": "3fE8v9sZKffP",
        "outputId": "dd6b13c4-9899-4e7d-bb5c-febc9510aee4",
        "colab": {
          "base_uri": "https://localhost:8080/"
        }
      },
      "execution_count": 58,
      "outputs": [
        {
          "output_type": "stream",
          "name": "stdout",
          "text": [
            "      precision    recall        f1   roc_auc    f-beta\n",
            "Test   0.301435  0.696133  0.420701  0.911293  0.551664\n",
            "\n",
            "Confusion matrix: \n",
            "[[ 126   55]\n",
            " [ 292 3103]]\n"
          ]
        }
      ]
    },
    {
      "cell_type": "code",
      "source": [
        "# identify top features in naive bayes model\n",
        "\n",
        "def top_features(mnb, X_resampled):\n",
        "  # match feature names and respective feature counts in each class\n",
        "  f = {'Feature': X_resampled.columns, 'fraud': mnb.feature_count_[1,:],\n",
        "          'not_fraud': mnb.feature_count_[0,:]}\n",
        "  features = pd.DataFrame(data=f)\n",
        "\n",
        "  # calculate the P(feature|class) by using feature count in the class divided by respective class count\n",
        "  # 1 count is added to all feature counts to ensure ratio can be calculated later\n",
        "  features['P (f|fraud)'] = (features['fraud'] +1) / mnb.class_count_[1]\n",
        "  features['P (f|not_fraud)'] = (features['not_fraud'] +1) / mnb.class_count_[0]\n",
        "\n",
        "  # ratio of the P(feature|class) is used to evaluate the predictiveness of the token \n",
        "  features['Ratio'] = features['P (f|fraud)'] / features['P (f|not_fraud)']\n",
        "\n",
        "  # print out the top 10 features for each class\n",
        "  print('The top 20 most predictive tokens for fraud job postings are:')\n",
        "  print(features.sort_values(by=['Ratio'], ascending= False).head(20)['Feature'].values)\n",
        "\n",
        "  print('The top 20 most predictive tokens for not fraud job postings are:')\n",
        "  print(features.sort_values(by=['Ratio'], ascending= False).tail(20)['Feature'].values)\n",
        "\n",
        "top_features(mnb, X_resampled)"
      ],
      "metadata": {
        "id": "5mc4PU72KfnS",
        "outputId": "0f284005-f14c-4c4e-bcb5-e924a8afadbf",
        "colab": {
          "base_uri": "https://localhost:8080/"
        }
      },
      "execution_count": 59,
      "outputs": [
        {
          "output_type": "stream",
          "name": "stdout",
          "text": [
            "The top 20 most predictive tokens for fraud job postings are:\n",
            "['Some High School Coursework' 'BH' 'MY' '16' 'NSW' 'entry' 'AGB' 'DA'\n",
            " 'MD' 'QA' 'ARM' 'AU' 'administrative' 'per' 'internet' 'needed' 'follow'\n",
            " 'free' 'call' '14']\n",
            "The top 20 most predictive tokens for not fraud job postings are:\n",
            "['FR' 'relevant job' 'LND' 'SG' 'IL' 'HK' 'B' 'OR' 'IN' 'consultants' 'BC'\n",
            " 'IE' 'BE' 'NL' 'abroad' 'N' 'NZ' 'DE' 'I' 'GR']\n"
          ]
        }
      ]
    },
    {
      "cell_type": "code",
      "source": [
        "# additional evaluation with only text columns\n",
        "\n",
        "# SMOTE with sampling strategy of 0.4 has the best performance \n",
        "# hence, this will be used to perform over-sampling \n",
        "\n",
        "smt = SMOTE(random_state=42, sampling_strategy=0.4)\n",
        "X_resampled_text, y_resampled_text = smt.fit_resample(df_vec, y_train)\n",
        "\n",
        "# model building\n",
        "mnb_text = naive_bayes.MultinomialNB()\n",
        "mnb_text.fit(X_resampled_text, y_resampled_text)\n",
        "\n",
        "model_results(mnb_text, X_resampled_text, y_resampled_text, \"Train\")\n",
        "\n",
        "print('')\n",
        "model_results(mnb_text, df_vec_test, y_test, \"Test\")\n",
        "\n",
        "print('')\n",
        "top_features(mnb_text, X_resampled_text)"
      ],
      "metadata": {
        "colab": {
          "base_uri": "https://localhost:8080/"
        },
        "id": "0AuzCdT3j5U3",
        "outputId": "1ba89f98-2bea-49ce-afc0-a674a9ce3d7f"
      },
      "execution_count": 60,
      "outputs": [
        {
          "output_type": "stream",
          "name": "stdout",
          "text": [
            "       precision    recall        f1   roc_auc   f-beta\n",
            "Train   0.847513  0.616303  0.713648  0.935203  0.65187\n",
            "\n",
            "Confusion matrix: \n",
            "[[ 3357  2090]\n",
            " [  604 13015]]\n",
            "\n",
            "      precision    recall        f1   roc_auc    f-beta\n",
            "Test   0.404412  0.607735  0.485651  0.911033  0.552209\n",
            "\n",
            "Confusion matrix: \n",
            "[[ 110   71]\n",
            " [ 162 3233]]\n",
            "\n",
            "The top 20 most predictive tokens for fraud job postings are:\n",
            "['entry' 'administrative' 'per' 'internet' 'needed' 'follow' 'free' 'call'\n",
            " 'home' 'center' 'area' 'desire' 'week' 'access' 'calls' 'recruiting'\n",
            " 'maximize' 'require' 'able work' 'equipment']\n",
            "The top 20 most predictive tokens for not fraud job postings are:\n",
            "['digital' 'recruitment' 'media' 'search' 'founded' 'since'\n",
            " 'experience preferred' 'secure' 'continually' 'trusted' 'engage' 'fun'\n",
            " 'teaching' 'website' 'amazing' 'relevant job' 'passionate' 'social media'\n",
            " 'consultants' 'abroad']\n"
          ]
        }
      ]
    },
    {
      "cell_type": "markdown",
      "source": [
        "### Gradient Boosting"
      ],
      "metadata": {
        "id": "Fv8pWLzYZ-yF"
      }
    },
    {
      "cell_type": "code",
      "source": [
        "gbt = ensemble.GradientBoostingClassifier(random_state=42)\n",
        "gbt.fit(X_resampled, y_resampled)"
      ],
      "metadata": {
        "id": "fp5A4iCsSmBr"
      },
      "execution_count": null,
      "outputs": []
    },
    {
      "cell_type": "code",
      "source": [
        "model_results(gbt, X_resampled, y_resampled, \"Train\")\n"
      ],
      "metadata": {
        "id": "PWJ8uH2pSmEr"
      },
      "execution_count": null,
      "outputs": []
    },
    {
      "cell_type": "code",
      "source": [
        "model_results(gbt, X_test, y_test, \"Test\")"
      ],
      "metadata": {
        "id": "abaAQUbz95Te"
      },
      "execution_count": null,
      "outputs": []
    },
    {
      "cell_type": "code",
      "source": [
        "gbt = {'Feature': gbt.feature_names_in_, 'Importance': gbt.feature_importances_}\n",
        "df_gbt = pd.DataFrame(gbt)\n",
        "df_gbt = df_gbt.sort_values(by = 'Importance', key = abs, ascending = False, ignore_index =True)\n",
        "df_gbt.head(10)"
      ],
      "metadata": {
        "id": "IALCcX9SW4hB"
      },
      "execution_count": null,
      "outputs": []
    },
    {
      "cell_type": "code",
      "source": [
        "def model_build(base_estimator, parameters):\n",
        "    \n",
        "    clf = model_selection.RandomizedSearchCV(\n",
        "        base_estimator, \n",
        "        parameters, \n",
        "        scoring = 'recall',\n",
        "        cv = 5)\n",
        "    \n",
        "    clf.fit(X_resampled, y_resampled)\n",
        "    \n",
        "    print('best score:', clf.best_score_)\n",
        "    print('best parameters: ', clf.best_params_)\n",
        "\n",
        "    optimised = clf.best_estimator_\n",
        "    return optimised"
      ],
      "metadata": {
        "id": "w2OQ_zCjV-LK"
      },
      "execution_count": null,
      "outputs": []
    },
    {
      "cell_type": "code",
      "source": [
        "gradient_grid = {'n_estimators': [x for x in np.arange(start=100,stop=180,step=20)],\n",
        "               'learning_rate': [0.001, 0.01, 0.1]}\n",
        "\n",
        "optimised_gbt = model_build(ensemble.GradientBoostingClassifier(random_state=2022), gradient_grid)"
      ],
      "metadata": {
        "id": "ywQCDjVadlMl"
      },
      "execution_count": null,
      "outputs": []
    },
    {
      "cell_type": "code",
      "source": [
        "gbt = {'Feature': optimised_gbt.feature_names_in_, 'Importance': optimised_gbt.feature_importances_}\n",
        "df_gbt = pd.DataFrame(gbt)\n",
        "df_gbt = df_gbt.sort_values(by = 'Importance', ascending = False, ignore_index =True)\n",
        "df_gbt.head(10)"
      ],
      "metadata": {
        "id": "uv1f452OdlRU"
      },
      "execution_count": null,
      "outputs": []
    },
    {
      "cell_type": "code",
      "source": [
        "model_results(optimised_gbt, X_resampled, y_resampled, \"Train\")\n",
        "model_results(optimised_gbt, X_test, y_test, \"Test\")"
      ],
      "metadata": {
        "id": "ppWVSrfSdlWz"
      },
      "execution_count": null,
      "outputs": []
    },
    {
      "cell_type": "code",
      "source": [
        "y_score = optimised_gbt.predict_proba(X_test)[:, 1]\n",
        "\n",
        "#calculate precision and recall\n",
        "precision, recall, thresholds = precision_recall_curve(y_test, y_score)\n",
        "\n",
        "#create precision recall curve\n",
        "fig, ax = plt.subplots()\n",
        "ax.plot(recall, precision, color='purple')\n",
        "\n",
        "#add axis labels to plot\n",
        "ax.set_title('Precision-Recall Curve')\n",
        "ax.set_ylabel('Precision')\n",
        "ax.set_xlabel('Recall')\n",
        "\n",
        "#display plot\n",
        "plt.show()"
      ],
      "metadata": {
        "id": "FZII06jZdlb8"
      },
      "execution_count": null,
      "outputs": []
    },
    {
      "cell_type": "markdown",
      "source": [
        "### Support Vector Machine"
      ],
      "metadata": {
        "id": "8sLaFKDoaIMj"
      }
    },
    {
      "cell_type": "code",
      "source": [
        "clf_svm = svm.SVC(probability=True, random_state=42)\n",
        "clf_svm.fit(X_resampled, y_resampled)"
      ],
      "metadata": {
        "id": "aL2i7BLGgvWj"
      },
      "execution_count": null,
      "outputs": []
    },
    {
      "cell_type": "code",
      "source": [
        "model_results(clf_svm, X_resampled, y_resampled, \"Train\")\n"
      ],
      "metadata": {
        "id": "p8pDxBOFdJBy"
      },
      "execution_count": null,
      "outputs": []
    },
    {
      "cell_type": "code",
      "source": [
        "model_results(clf_svm, X_test, y_test, \"Test\")"
      ],
      "metadata": {
        "id": "phXRV-5NdS_X"
      },
      "execution_count": null,
      "outputs": []
    },
    {
      "cell_type": "code",
      "source": [
        "from sklearn.model_selection import GridSearchCV\n",
        "def model_build2(base_estimator, parameters):\n",
        "    \n",
        "    clf = model_selection.GridSearchCV(\n",
        "        base_estimator, \n",
        "        parameters,\n",
        "        cv=5)\n",
        "    \n",
        "    clf.fit(X_resampled, y_resampled)\n",
        "    \n",
        "    print('best score:', clf.best_score_)\n",
        "    print('best parameters: ', clf.best_params_)\n",
        "\n",
        "    optimised = clf.best_estimator_\n",
        "    return optimised"
      ],
      "metadata": {
        "id": "4puv3-aEhG2K"
      },
      "execution_count": null,
      "outputs": []
    },
    {
      "cell_type": "code",
      "source": [
        "svm_grid = {'C': [0.1, 1.0, 10]}\n",
        "\n",
        "optimised_svm = model_build2(svm.SVC(random_state=2022, probability=True), svm_grid)"
      ],
      "metadata": {
        "id": "nz8VK09lg9hx"
      },
      "execution_count": null,
      "outputs": []
    },
    {
      "cell_type": "code",
      "source": [
        "model_results(optimised_svm, X_resampled, y_resampled, \"Train\")\n",
        "model_results(optimised_svm, X_test, y_test, \"Test\")"
      ],
      "metadata": {
        "id": "WagPjiqJd-kW"
      },
      "execution_count": null,
      "outputs": []
    },
    {
      "cell_type": "code",
      "source": [
        "y_score = optimised_svm.predict_proba(X_test)[:, 1]\n",
        "\n",
        "#calculate precision and recall\n",
        "precision, recall, thresholds = precision_recall_curve(y_test, y_score)\n",
        "\n",
        "#create precision recall curve\n",
        "fig, ax = plt.subplots()\n",
        "ax.plot(recall, precision, color='purple')\n",
        "\n",
        "#add axis labels to plot\n",
        "ax.set_title('Precision-Recall Curve')\n",
        "ax.set_ylabel('Precision')\n",
        "ax.set_xlabel('Recall')\n",
        "\n",
        "#display plot\n",
        "plt.show()"
      ],
      "metadata": {
        "id": "MXYLN01a4Ft7"
      },
      "execution_count": null,
      "outputs": []
    },
    {
      "cell_type": "markdown",
      "source": [
        "### Neural Network"
      ],
      "metadata": {
        "id": "Eck-UmZgaPaB"
      }
    },
    {
      "cell_type": "code",
      "source": [
        "import tensorflow as tf\n",
        "import keras\n",
        "from keras.models import Sequential\n",
        "from keras.layers import Dense, Dropout, Flatten, BatchNormalization, Activation,Embedding,GlobalAveragePooling1D\n",
        "from keras.wrappers.scikit_learn import KerasClassifier\n",
        "from keras import regularizers"
      ],
      "metadata": {
        "id": "BUV2EJ_Ucaj_"
      },
      "execution_count": 61,
      "outputs": []
    },
    {
      "cell_type": "code",
      "source": [
        "X_resampled_nn.shape"
      ],
      "metadata": {
        "id": "YXv1EG6NeZor",
        "outputId": "04dd15b2-6bfe-4bd3-8179-52b9215c3296",
        "colab": {
          "base_uri": "https://localhost:8080/"
        }
      },
      "execution_count": 62,
      "outputs": [
        {
          "output_type": "execute_result",
          "data": {
            "text/plain": [
              "(19066, 1092)"
            ]
          },
          "metadata": {},
          "execution_count": 62
        }
      ]
    },
    {
      "cell_type": "code",
      "source": [
        "def create_model(optimizer='adam',dropout_rate=0.2):\n",
        "    model = Sequential()\n",
        "\n",
        "    model.add(Dense(128, input_shape=(1092,), activation='relu'))\n",
        "    model.add(Dropout(dropout_rate))\n",
        "    model.add(BatchNormalization())\n",
        "\n",
        "    model.add(Dense(64, activation='relu'))\n",
        "    model.add(Dropout(dropout_rate))\n",
        "    model.add(BatchNormalization())\n",
        "    \n",
        "    model.add(Dense(64, activation='relu'))\n",
        "    model.add(Dropout(dropout_rate))\n",
        "    model.add(BatchNormalization())\n",
        "\n",
        "    model.add(Dense(16, activation='relu'))\n",
        "    model.add(Dropout(dropout_rate))\n",
        "    model.add(BatchNormalization())\n",
        "\n",
        "    model.add(Dense(1))\n",
        "    model.add(Activation('sigmoid'))\n",
        "\n",
        "    # compile the model\n",
        "    model.compile(loss='binary_crossentropy', \n",
        "                  optimizer=optimizer, \n",
        "                  metrics=[tf.keras.metrics.Precision(), tf.keras.metrics.Recall()])\n",
        "    \n",
        "    return model"
      ],
      "metadata": {
        "id": "YlXlvCY728x4"
      },
      "execution_count": 63,
      "outputs": []
    },
    {
      "cell_type": "code",
      "source": [
        "X_resampled_nn = np.asarray(X_resampled_nn)\n",
        "y_resampled_nn = np.asarray(y_resampled_nn)\n",
        "X_test_nn = np.asarray(X_test_nn)\n",
        "y_test_nn = np.asarray(y_test)"
      ],
      "metadata": {
        "id": "7xMdk30bmc9Q"
      },
      "execution_count": 67,
      "outputs": []
    },
    {
      "cell_type": "code",
      "source": [
        "model = KerasClassifier(build_fn=create_model, verbose=0, validation_split=0.2)\n",
        "# define the grid search parameters\n",
        "\n",
        "batch_size = [8,16,24,32]\n",
        "epochs = [20,30,40]\n",
        "optimizer = ['SGD', 'RMSprop', 'Adam']\n",
        "dropout_rate = [0.3, 0.4, 0.5, 0.6]\n",
        "\n",
        "param_grid = dict(batch_size=batch_size, \n",
        "                  epochs=epochs,\n",
        "                  optimizer=optimizer,\n",
        "                  dropout_rate=dropout_rate)\n",
        "\n",
        "grid = RandomizedSearchCV(estimator=model, \n",
        "                          n_iter=10,\n",
        "                          param_distributions=param_grid, \n",
        "                          n_jobs=-1, \n",
        "                          cv=10, \n",
        "                          scoring ='recall',\n",
        "                          random_state=42)\n",
        "\n",
        "grid_result = grid.fit(X_resampled_nn, y_resampled_nn, validation_split=0.4)"
      ],
      "metadata": {
        "id": "uBNF59KCcu5U"
      },
      "execution_count": null,
      "outputs": []
    },
    {
      "cell_type": "markdown",
      "source": [
        "#### Evaluating best model of SearchCV"
      ],
      "metadata": {
        "id": "duInICEsc1Ve"
      }
    },
    {
      "cell_type": "code",
      "source": [
        "# summarize results\n",
        "print(\"Best: %f using %s\" % (grid_result.best_score_, grid_result.best_params_))\n",
        "means = grid_result.cv_results_['mean_test_score']\n",
        "stds = grid_result.cv_results_['std_test_score']\n",
        "params = grid_result.cv_results_['params']\n",
        "for mean, stdev, param in zip(means, stds, params):\n",
        "    print(\"%f (%f) with: %r\" % (mean, stdev, param))"
      ],
      "metadata": {
        "id": "4YGUPHKWc8fG"
      },
      "execution_count": null,
      "outputs": []
    },
    {
      "cell_type": "code",
      "source": [
        "# train the best estimator\n",
        "\n",
        "best=grid_result.best_estimator_\n",
        "history = best.fit(X_resampled_nn, y_resampled_nn, verbose=1, validation_split=0.3)"
      ],
      "metadata": {
        "id": "r35I0-1Pc8hk"
      },
      "execution_count": null,
      "outputs": []
    },
    {
      "cell_type": "code",
      "source": [
        "# evaluation of model\n",
        "\n",
        "# Prediction of test set\n",
        "Y_pred = best.predict(X_test_nn)\n",
        "\n",
        "# classification report, confusion matrix\n",
        "print(classification_report(y_true=y_test_nn, y_pred=Y_pred))\n",
        "print(confusion_matrix(y_test_nn,Y_pred,labels=[1,0]))\n",
        "\n",
        "ln_loss = history.history['loss']\n",
        "ln_val_loss = history.history['val_loss']\n",
        "ln_p = history.history['precision']\n",
        "ln_val_p = history.history['val_precision']\n",
        "ln_r = history.history['recall']\n",
        "ln_val_r = history.history['val_recall']\n",
        "\n",
        "#precision plot\n",
        "plt.figure(figsize=(20,5))\n",
        "plt.subplot(131)\n",
        "plt.plot(ln_p)\n",
        "plt.plot(ln_val_p)\n",
        "plt.ylabel('Precision')\n",
        "plt.xlabel('Epoche')\n",
        "plt.legend(['Training', 'Validation'], loc='lower right')\n",
        "\n",
        "#recall plot\n",
        "plt.subplot(132)\n",
        "plt.plot(ln_r)\n",
        "plt.plot(ln_val_r)\n",
        "plt.ylabel('Recall')\n",
        "plt.xlabel('Epoche')\n",
        "plt.legend(['Training', 'Validation'], loc='lower right')\n",
        "\n",
        "#loss plot\n",
        "plt.subplot(133)\n",
        "plt.plot(ln_loss)\n",
        "plt.plot(ln_val_loss)\n",
        "plt.ylabel('Loss')\n",
        "plt.xlabel('Epoche')\n",
        "plt.legend(['Training', 'Validation'], loc='lower right')"
      ],
      "metadata": {
        "id": "BSSCcvE5c8mH"
      },
      "execution_count": null,
      "outputs": []
    },
    {
      "cell_type": "markdown",
      "source": [
        "#### Tuning the best CV model"
      ],
      "metadata": {
        "id": "o9LCUaBYdfE6"
      }
    },
    {
      "cell_type": "code",
      "source": [
        "from keras.callbacks import EarlyStopping\n",
        "\n",
        "best=grid_result.best_estimator_\n",
        "#early stopping\n",
        "#es = EarlyStopping(monitor='val_acc', mode='max', verbose=1, patience=20)\n",
        "best_tuned_1 = best.fit(X_resampled_nn, y_resampled_nn, epochs=100)"
      ],
      "metadata": {
        "id": "2-CTozfmddHI"
      },
      "execution_count": null,
      "outputs": []
    },
    {
      "cell_type": "code",
      "source": [
        "#evaluation of tuned model\n",
        "\n",
        "#rf_matrixt = metrics.confusion_matrix(y_test, y_pred_test, labels=[1,0])\n",
        "\n",
        "Y_pred_2 = best.predict(X_test_nn)\n",
        "print(classification_report(y_true=y_test_nn, y_pred=Y_pred_2))\n",
        "print(confusion_matrix(y_test_nn,Y_pred_2,labels=[1,0]))\n",
        "\n",
        "ln_loss = best_tuned_1.history['loss']\n",
        "ln_val_loss = best_tuned_1.history['val_loss']\n",
        "ln_p = best_tuned_1.history['precision_1']\n",
        "ln_val_p = best_tuned_1.history['val_precision_1']\n",
        "ln_r = best_tuned_1.history['recall_1']\n",
        "ln_val_r = best_tuned_1.history['val_recall_1']\n",
        "\n",
        "\n",
        "plt.figure(figsize=(20,5))\n",
        "plt.subplot(131)\n",
        "plt.plot(ln_p)\n",
        "plt.plot(ln_val_p)\n",
        "plt.ylabel('Precision')\n",
        "plt.xlabel('Epoche')\n",
        "plt.legend(['Training', 'Validation'], loc='lower right')\n",
        "\n",
        "plt.subplot(132)\n",
        "plt.plot(ln_r)\n",
        "plt.plot(ln_val_r)\n",
        "plt.ylabel('Recall')\n",
        "plt.xlabel('Epoche')\n",
        "plt.legend(['Training', 'Validation'], loc='lower right')\n",
        "\n",
        "plt.subplot(133)\n",
        "plt.plot(ln_loss)\n",
        "plt.plot(ln_val_loss)\n",
        "plt.ylabel('Loss')\n",
        "plt.xlabel('Epoche')\n",
        "plt.legend(['Training', 'Validation'], loc='lower right')"
      ],
      "metadata": {
        "id": "bWRedoWnddJW"
      },
      "execution_count": null,
      "outputs": []
    },
    {
      "cell_type": "code",
      "source": [
        "#Precision recall curve\n",
        "\n",
        "from sklearn.metrics import precision_recall_curve\n",
        "import matplotlib.pyplot as plt\n",
        "\n",
        "best=grid_result.best_estimator_\n",
        "y_score = best.predict_proba(np.array(X_test))[:, 1]\n",
        "\n",
        "#calculate precision and recall\n",
        "precision, recall, thresholds = precision_recall_curve(y_test, y_score)\n",
        "\n",
        "#create precision recall curve\n",
        "fig, ax = plt.subplots()\n",
        "\n",
        "fig.set_size_inches(9,6)\n",
        "ax.plot(recall, precision, color='purple')\n",
        "\n",
        "#add axis labels to plot\n",
        "ax.set_title('Precision-Recall Curve of Best Neural Network Model')\n",
        "ax.set_ylabel('Precision')\n",
        "ax.set_xlabel('Recall')\n",
        "\n",
        "#display plot\n",
        "plt.show()"
      ],
      "metadata": {
        "id": "ti2aCx87dnzn"
      },
      "execution_count": null,
      "outputs": []
    },
    {
      "cell_type": "markdown",
      "source": [
        "### End of Project"
      ],
      "metadata": {
        "id": "r011wwfXdxa2"
      }
    }
  ]
}